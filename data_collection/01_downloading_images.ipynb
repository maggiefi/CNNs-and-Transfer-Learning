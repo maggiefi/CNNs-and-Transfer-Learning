{
 "cells": [
  {
   "cell_type": "markdown",
   "metadata": {},
   "source": [
    "## Notebook Description\n",
    "This notebook contains the code for downloading images from a google image search <br>\n",
    "**Date of Last Update**: November 25th 2020"
   ]
  },
  {
   "cell_type": "markdown",
   "metadata": {},
   "source": [
    "---"
   ]
  },
  {
   "cell_type": "markdown",
   "metadata": {},
   "source": [
    "**Disclaimer** <br>\n",
    "from google_images_download documentation \n",
    ">This program lets you download tons of images from Google. Please do not download or use any image that violates its copyright terms. Google Images is a search engine that merely indexes images and allows you to find them. It does NOT produce its own images and, as such, it doesn’t own copyright on any of them. The original creators of the images own the copyrights.\n",
    "Images published in the United States are automatically copyrighted by their owners, even if they do not explicitly carry a copyright warning. You may not reproduce copyright images without their owner’s permission, except in “fair use” cases, or you could risk running into lawyer’s warnings, cease-and-desist letters, and copyright suits. Please be very careful before its usage!\n",
    "\n",
    "These images will strictly be used for educational purposes only"
   ]
  },
  {
   "cell_type": "markdown",
   "metadata": {},
   "source": [
    "---"
   ]
  },
  {
   "cell_type": "markdown",
   "metadata": {},
   "source": [
    "**INPUTS**: urls.txt<br>\n",
    "text file containing urls of desired image downloads <br>\n",
    "\n",
    "**OUTPUTS**: <br>\n",
    "folder containing downloaded images"
   ]
  },
  {
   "cell_type": "markdown",
   "metadata": {},
   "source": [
    "---"
   ]
  },
  {
   "cell_type": "markdown",
   "metadata": {},
   "source": [
    "### Previous Steps\n",
    "- determine desired keyword searches\n",
    "\n",
    "### Next Steps\n",
    "- manual inspection of downloaded images\n",
    "    - remove duplicates\n",
    "    - remove images that are not applicable"
   ]
  },
  {
   "cell_type": "markdown",
   "metadata": {},
   "source": [
    "---"
   ]
  },
  {
   "cell_type": "markdown",
   "metadata": {},
   "source": [
    "## Import Packages"
   ]
  },
  {
   "cell_type": "code",
   "execution_count": 2,
   "metadata": {},
   "outputs": [],
   "source": [
    "from google_images_download import google_images_download   "
   ]
  },
  {
   "cell_type": "markdown",
   "metadata": {},
   "source": [
    "---"
   ]
  },
  {
   "cell_type": "markdown",
   "metadata": {},
   "source": [
    "## Test Package \n",
    "- query for 10 images of trees\n",
    "- note using patch 1 for google_images_download"
   ]
  },
  {
   "cell_type": "code",
   "execution_count": 2,
   "metadata": {},
   "outputs": [],
   "source": [
    "# create an instance of the call\n",
    "res =  google_images_download.googleimagesdownload()"
   ]
  },
  {
   "cell_type": "code",
   "execution_count": 3,
   "metadata": {},
   "outputs": [],
   "source": [
    "# create the arguments for the search\n",
    "arguments = {\"keywords\" : \"Tree\",\n",
    "            \"limit\" : 10, \n",
    "            \"print_urls\" : True}"
   ]
  },
  {
   "cell_type": "code",
   "execution_count": 4,
   "metadata": {},
   "outputs": [
    {
     "name": "stdout",
     "output_type": "stream",
     "text": [
      "\n",
      "Item no.: 1 --> Item name = Tree\n",
      "Evaluating...\n",
      "Starting Download...\n",
      "Image URL: https://upload.wikimedia.org/wikipedia/commons/thumb/e/eb/Ash_Tree_-_geograph.org.uk_-_590710.jpg/220px-Ash_Tree_-_geograph.org.uk_-_590710.jpg\n",
      "Completed Image ====> 1.220px-ash_tree_-_geograph.org.uk_-_590710.jpg\n",
      "Image URL: https://arbordayblog.org/wp-content/uploads/2018/06/oak-tree-sunset-iStock-477164218.jpg\n",
      "Completed Image ====> 2.oak-tree-sunset-istock-477164218.jpg\n",
      "Image URL: https://www.gardeningknowhow.com/wp-content/uploads/2017/07/hardwood-tree.jpg\n",
      "Completed Image ====> 3.hardwood-tree.jpg\n",
      "Image URL: https://www.sciencemag.org/sites/default/files/styles/article_main_large/public/cc_iStock-478639870_16x9.jpg?itok=1-jMc4Xv\n",
      "Completed Image ====> 4.cc_istock-478639870_16x9.jpg\n",
      "Image URL: https://cdn.shopify.com/s/files/1/0326/7189/articles/fallon-michael-dls5GJPHqVI-unsplash_5472x.jpg?v=1588282943\n",
      "Completed Image ====> 5.fallon-michael-dls5gjphqvi-unsplash_5472x.jpg\n",
      "Image URL: https://www.gardeningknowhow.com/wp-content/uploads/2010/07/straighten-tree-400x533.jpg\n",
      "Completed Image ====> 6.straighten-tree-400x533.jpg\n",
      "Image URL: https://www.thespruce.com/thmb/mh5-9gjw1Tzp5X7MHCin7znCunU=/1414x1414/smart/filters:no_upscale()/GettyImages-200443720-0011-59a2f08fd088c000111be4f4.jpg\n",
      "Completed Image ====> 7.gettyimages-200443720-0011-59a2f08fd088c000111be4f4.jpg\n",
      "Image URL: https://static.wikia.nocookie.net/animalcrossing/images/c/c7/NH-Tree.png/revision/latest/top-crop/width/220/height/220?cb=20200415131758\n",
      "Completed Image ====> 8.220.png\n",
      "Image URL: https://www.safetree.ca/files/LargeTree.jpg\n",
      "Completed Image ====> 9.largetree.jpg\n",
      "Image URL: https://www.sciencenewsforstudents.org/wp-content/uploads/2020/04/1030_LL_trees-1028x579.png\n",
      "Completed Image ====> 10.1030_ll_trees-1028x579.png\n",
      "\n",
      "Errors: 0\n",
      "\n"
     ]
    }
   ],
   "source": [
    "paths = res.download(arguments)"
   ]
  },
  {
   "cell_type": "code",
   "execution_count": 5,
   "metadata": {},
   "outputs": [
    {
     "name": "stdout",
     "output_type": "stream",
     "text": [
      "({'Tree': ['/Users/maggiefiander/Final Project/downloads/Tree/1.220px-ash_tree_-_geograph.org.uk_-_590710.jpg', '/Users/maggiefiander/Final Project/downloads/Tree/2.oak-tree-sunset-istock-477164218.jpg', '/Users/maggiefiander/Final Project/downloads/Tree/3.hardwood-tree.jpg', '/Users/maggiefiander/Final Project/downloads/Tree/4.cc_istock-478639870_16x9.jpg', '/Users/maggiefiander/Final Project/downloads/Tree/5.fallon-michael-dls5gjphqvi-unsplash_5472x.jpg', '/Users/maggiefiander/Final Project/downloads/Tree/6.straighten-tree-400x533.jpg', '/Users/maggiefiander/Final Project/downloads/Tree/7.gettyimages-200443720-0011-59a2f08fd088c000111be4f4.jpg', '/Users/maggiefiander/Final Project/downloads/Tree/8.220.png', '/Users/maggiefiander/Final Project/downloads/Tree/9.largetree.jpg', '/Users/maggiefiander/Final Project/downloads/Tree/10.1030_ll_trees-1028x579.png']}, 0)\n"
     ]
    }
   ],
   "source": [
    "print(paths)"
   ]
  },
  {
   "cell_type": "markdown",
   "metadata": {},
   "source": [
    "---"
   ]
  },
  {
   "cell_type": "markdown",
   "metadata": {},
   "source": [
    "Complete the above steps for the desired data for our classifier. For the purpose of this project we will be looking at 3 classes of images:\n",
    "- alligator cracks\n",
    "- longitudinal cracking\n",
    "- potholes\n",
    "- \"healthy\" pavement surface"
   ]
  },
  {
   "cell_type": "markdown",
   "metadata": {},
   "source": [
    "---"
   ]
  },
  {
   "cell_type": "code",
   "execution_count": null,
   "metadata": {},
   "outputs": [],
   "source": []
  }
 ],
 "metadata": {
  "kernelspec": {
   "display_name": "Python 3",
   "language": "python",
   "name": "python3"
  },
  "language_info": {
   "codemirror_mode": {
    "name": "ipython",
    "version": 3
   },
   "file_extension": ".py",
   "mimetype": "text/x-python",
   "name": "python",
   "nbconvert_exporter": "python",
   "pygments_lexer": "ipython3",
   "version": "3.8.3"
  }
 },
 "nbformat": 4,
 "nbformat_minor": 4
}
