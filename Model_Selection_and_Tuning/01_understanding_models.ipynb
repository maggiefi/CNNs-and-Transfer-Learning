{
 "cells": [
  {
   "cell_type": "markdown",
   "metadata": {},
   "source": [
    "## Notebook Description\n",
    "This notebook contains descriptions and information about the `torchvision.models` for classification<br>\n",
    "**Date of Last Update**: November 23rd 2020"
   ]
  },
  {
   "cell_type": "markdown",
   "metadata": {},
   "source": [
    "---"
   ]
  },
  {
   "cell_type": "markdown",
   "metadata": {},
   "source": [
    "AlexNet [link](https://www.learnopencv.com/understanding-alexnet/)\n",
    "- Input : single image\n",
    "    - size : 256x256\n",
    "    - color : 3 channel RGB\n",
    "- Output : vector of 1000 numbers (representing the probabilties of output classes)\n",
    "- Architecture : 5x Convolutional Layers and 3x Fully Connected Layers\n",
    "    - Large kernel-sized filters\n",
    "    - Overlapping Max Pooling Layers after conv1, conv2 and conv5\n",
    "        - window size 3x3 \n",
    "        - stride 2\n",
    "    - fc2 connects to a softmax classifer\n",
    "    - ReLU applied to all layers"
   ]
  },
  {
   "cell_type": "markdown",
   "metadata": {},
   "source": [
    "VGG [link 1](https://towardsdatascience.com/vgg-neural-networks-the-next-step-after-alexnet-3f91fa9ffe2c) [link 2](https://neurohive.io/en/popular-networks/vgg16/)\n",
    "- Input : single image\n",
    "    - size: 224x224\n",
    "    - color : 3 channel RGB\n",
    "- Output : vector of 1000 numbers (representing the probabilties of output classes)\n",
    "- Architecture : No. of Convolutional Layers can vary and 3x Fully Connected Layers\n",
    "    - small receptive fields \n",
    "    - pooling after blocks \n",
    "        - window size 2x2\n",
    "        - stride 2\n",
    "    - fc1 and fc2 have 4096 channels\n",
    "    - fc3 has 1000 channels\n",
    "    - ReLU for all layers"
   ]
  },
  {
   "cell_type": "markdown",
   "metadata": {},
   "source": [
    "ResNet [link](https://neurohive.io/en/popular-networks/resnet/)\n",
    "- Input: single image\n",
    "    - size 224x224 (typical)\n",
    "    - color : 3 channel RGB\n",
    "- Output : vector of 1000 numbers (representing the probabilities of output classes)\n",
    "- Architecture :\n",
    "    - Addition of a shortcut connection compared to plain networks\n",
    "    - Shortcut performs identity mapping\n",
    "    - projection shortcut used to match dimension\n",
    "    - blocks are 2 layers deep in small networks and 3 layers deep in larger networks"
   ]
  },
  {
   "cell_type": "markdown",
   "metadata": {},
   "source": [
    "SqueezeNet [link](https://www.kdnuggets.com/2016/09/deep-learning-reading-group-squeezenet.html)\n",
    "- reduced model size\n",
    "- chains fire modules\n",
    "    - squeeze layer - using 1x1 convolution filters\n",
    "    - expand layer - using 1x1 and 3x3 convolution filters\n",
    "    - reducing number of filters and in turn the number of parameters\n",
    "- does not utilize fully connected layers"
   ]
  }
 ],
 "metadata": {
  "kernelspec": {
   "display_name": "Python 3",
   "language": "python",
   "name": "python3"
  },
  "language_info": {
   "codemirror_mode": {
    "name": "ipython",
    "version": 3
   },
   "file_extension": ".py",
   "mimetype": "text/x-python",
   "name": "python",
   "nbconvert_exporter": "python",
   "pygments_lexer": "ipython3",
   "version": "3.8.3"
  }
 },
 "nbformat": 4,
 "nbformat_minor": 4
}
