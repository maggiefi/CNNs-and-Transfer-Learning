{
 "cells": [
  {
   "cell_type": "markdown",
   "metadata": {},
   "source": [
    "## Notebook Description\n",
    "This notebook contains the code for comparing the performance of out-of-the-box models as fixed feature extractors <br>\n",
    "**Date of Last Update**: November 25th 2020"
   ]
  },
  {
   "cell_type": "markdown",
   "metadata": {},
   "source": [
    "---"
   ]
  },
  {
   "cell_type": "markdown",
   "metadata": {},
   "source": [
    "**INPUTS**: Data/train, Data/val, Data/validation <br>\n",
    "directory containing image files sorted by class and train test val\n",
    "\n",
    "**OUTPUTS**: Model Choice<br>"
   ]
  },
  {
   "cell_type": "markdown",
   "metadata": {},
   "source": [
    "---"
   ]
  },
  {
   "cell_type": "markdown",
   "metadata": {},
   "source": [
    "### Previous Steps\n",
    "- performing train/test/val split\n",
    "\n",
    "### Next Steps\n",
    "- fine tuning of model"
   ]
  },
  {
   "cell_type": "markdown",
   "metadata": {},
   "source": [
    "---"
   ]
  },
  {
   "cell_type": "markdown",
   "metadata": {},
   "source": [
    "## Import Packages"
   ]
  },
  {
   "cell_type": "code",
   "execution_count": 19,
   "metadata": {},
   "outputs": [],
   "source": [
    "import torch\n",
    "import torch.nn as nn\n",
    "import torch.optim as optim \n",
    "import torchvision\n",
    "from torchvision import models, transforms, datasets\n",
    "\n",
    "import numpy as np\n",
    "import matplotlib.pyplot as plt\n",
    "import time \n",
    "import os\n",
    "import copy\n",
    "import pandas as pd\n",
    "import plotly.express as px"
   ]
  },
  {
   "cell_type": "markdown",
   "metadata": {},
   "source": [
    "## Load Data\n",
    "- perform data augmentation on train set\n",
    "- resize and crop"
   ]
  },
  {
   "cell_type": "code",
   "execution_count": 2,
   "metadata": {},
   "outputs": [],
   "source": [
    "# prep data transforms\n",
    "data_transforms = {\n",
    "    # data augmentation as well as data normalization\n",
    "    \"train\" : transforms.Compose([\n",
    "        transforms.Resize(256),\n",
    "        transforms.RandomResizedCrop(224),\n",
    "        transforms.RandomHorizontalFlip(),\n",
    "        transforms.ToTensor(),\n",
    "        transforms.Normalize([0.485, 0.456, 0.406], [0.229, 0.224, 0.225])\n",
    "    ]),\n",
    "    # only resize, crop and normalize\n",
    "    \"val\" : transforms.Compose([\n",
    "        transforms.Resize(256),\n",
    "        transforms.CenterCrop(224),\n",
    "        transforms.ToTensor(),\n",
    "        transforms.Normalize([0.485, 0.456, 0.406], [0.229, 0.224, 0.225])\n",
    "    ])\n",
    "}"
   ]
  },
  {
   "cell_type": "code",
   "execution_count": 3,
   "metadata": {},
   "outputs": [],
   "source": [
    "path = 'Data'\n",
    "\n",
    "image_datasets = {x: datasets.ImageFolder(os.path.join(path, x),\n",
    "                                          data_transforms[x])\n",
    "                  for x in ['train', 'val']}\n",
    "\n",
    "dataloaders = {x: torch.utils.data.DataLoader(image_datasets[x], batch_size=8,\n",
    "                                             shuffle=True, num_workers=2)\n",
    "                   for x in ['train', 'val']}\n",
    "\n",
    "dataset_sizes = {x: len(image_datasets[x]) for x in ['train', 'val']}\n",
    "\n",
    "class_names = image_datasets['train'].classes\n"
   ]
  },
  {
   "cell_type": "code",
   "execution_count": 4,
   "metadata": {},
   "outputs": [],
   "source": [
    "device = torch.device(\"cuda:0\" if torch.cuda.is_available() else 'cpu')"
   ]
  },
  {
   "cell_type": "markdown",
   "metadata": {},
   "source": [
    "## Define Function to Train Model\n",
    "- takes in the model, criterion, optimizer and number of epochs\n",
    "- returns the max accuracy, max memory allocated and elapsed time"
   ]
  },
  {
   "cell_type": "code",
   "execution_count": 5,
   "metadata": {},
   "outputs": [],
   "source": [
    "def train_model(model, criterion, optimizer, num_epochs):\n",
    "    \"\"\"Trains the Model\n",
    "    INPUTS - model, criterion, optimizer, num_epochs:\n",
    "    RETURNS - time_elapsed = time elapsed while training model\n",
    "            - best_acc = maximum accuracy on validation set obtained while training\"\"\"\n",
    "    \n",
    "    start = time.time()\n",
    "    \n",
    "    best_acc = 0.0\n",
    "    max_memory = 0.0\n",
    "    \n",
    "    for epoch in range(num_epochs):\n",
    "        print('Epoch ', epoch+1, ' of ', num_epochs)\n",
    "        \n",
    "        for phase in ['train', 'val'] : \n",
    "            if phase == 'train':\n",
    "                model.train()\n",
    "            else: \n",
    "                model.eval()\n",
    "            \n",
    "            running_loss = 0.0\n",
    "            no_correct = 0\n",
    "            \n",
    "            for inputs, labels in dataloaders[phase]:\n",
    "                inputs = inputs.to(device)\n",
    "                labels = labels.to(device)\n",
    "                \n",
    "                optimizer.zero_grad()\n",
    "                \n",
    "                with torch.set_grad_enabled(phase == \"train\"):\n",
    "                    outputs = model(inputs)\n",
    "                    _, preds = torch.max(outputs,1)\n",
    "                    loss = criterion(outputs, labels)\n",
    "                    \n",
    "                    if phase == 'train' : \n",
    "                        loss.backward()\n",
    "                        optimizer.step()\n",
    "                \n",
    "                running_loss += loss.item() * inputs.size(0)\n",
    "                no_correct += torch.sum(preds == labels.data)\n",
    "            \n",
    "            epoch_loss = running_loss / dataset_sizes[phase]\n",
    "            epoch_acc = no_correct.double() / dataset_sizes[phase]\n",
    "\n",
    "            \n",
    "            print(phase, \" Loss: \", epoch_loss, \" Accuracy: \", epoch_acc)\n",
    "            \n",
    "            if phase == 'val' and epoch_acc > best_acc:\n",
    "                best_acc = epoch_acc\n",
    "            \n",
    "    time_elapsed = time.time() - start\n",
    "    \n",
    "    return time_elapsed, best_acc"
   ]
  },
  {
   "cell_type": "markdown",
   "metadata": {},
   "source": [
    "## Load Selection of PreTrained Models\n",
    "- available through torch.models"
   ]
  },
  {
   "cell_type": "code",
   "execution_count": 6,
   "metadata": {},
   "outputs": [],
   "source": [
    "model_res18 = models.resnet18(pretrained = True)\n",
    "model_res34 = models.resnet34(pretrained = True)\n",
    "model_alex = models.alexnet(pretrained = True)\n",
    "model_vgg11 = models.vgg11(pretrained = True)\n",
    "model_vgg13 = models.vgg13(pretrained = True)\n",
    "model_vgg16 =models.vgg16(pretrained = True)\n",
    "model_vgg19 =models.vgg19(pretrained = True)\n",
    "model_squeeze = models.squeezenet1_0(pretrained = True)"
   ]
  },
  {
   "cell_type": "code",
   "execution_count": 7,
   "metadata": {},
   "outputs": [],
   "source": [
    "list_of_models = [model_res18, model_res34, model_alex, model_vgg11, model_vgg13, model_vgg16, model_vgg19, model_squeeze]\n",
    "model_name = {1 : \"ResNet18\", 2: \"ResNet34\", 3 : \"AlexNet\",\n",
    "             4 : \"VGG11\", 5 : \"VGG13\", 6 : \"VGG16\", 7 : \"VGG19\",\n",
    "             8 : \"SqueezeNet1.0\"}\n",
    "model_layers = {\"ResNet18\" : 18, \"ResNet34\" : 34, \"AlexNet\" : 8,\n",
    "            \"VGG11\" : 11,  \"VGG13\" : 13, \"VGG16\" : 16, \"VGG19\" : 19,\n",
    "            \"SqueezeNet1.0\" : 13}"
   ]
  },
  {
   "cell_type": "markdown",
   "metadata": {},
   "source": [
    "## Define Function to Train all Models\n",
    "- function will train a list of models and store results in a dictionary "
   ]
  },
  {
   "cell_type": "code",
   "execution_count": 8,
   "metadata": {},
   "outputs": [],
   "source": [
    "def get_model_results (list_of_models, model_name):\n",
    "    \"\"\"Provides training results for a group of models\n",
    "    INPUTS - list_of_models, model_name (dict)\n",
    "    RETURNS - model_train_time : dict of elapsed time by model\n",
    "            - model_acc : dict of best accuracy by model\n",
    "            - model_mem : dict of max allocated memory by model\"\"\"\n",
    "    \n",
    "    # initalize variables\n",
    "    i = 1\n",
    "    model_train_time = {}\n",
    "    model_acc = {}\n",
    "    for model in list_of_models:\n",
    "        #print which model is being trained\n",
    "        print(model_name[i])\n",
    "        print(\"-\"*15)\n",
    "        test = str(model).split('(')[0]\n",
    "        \n",
    "        #freeze convulational layers\n",
    "        for params in model.parameters():\n",
    "            params.requires_grad = False   \n",
    "        \n",
    "        #determine what classifier style we are dealing with\n",
    "        if test == \"ResNet\" :\n",
    "            model.fc = nn.Linear(512, 4)\n",
    "            model = model.to(device)\n",
    "            optimizer = optim.SGD(model.fc.parameters(), lr = 0.001, momentum = 0.9)\n",
    "        elif test == \"AlexNet\" :\n",
    "            model.classifier[6] = nn.Linear(4096,4)\n",
    "            model = model.to(device)\n",
    "            optimizer = optim.SGD(model.classifier.parameters(), lr = 0.001, momentum = 0.9)\n",
    "        elif test == \"VGG\" :\n",
    "            model.classifier[6] = nn.Linear(4096,4)\n",
    "            model = model.to(device)\n",
    "            optimizer = optim.SGD(model.classifier.parameters(), lr = 0.001, momentum = 0.9)\n",
    "        elif test == \"SqueezeNet\" :\n",
    "            model.classifier[1] = nn.Conv2d(512, 4, kernel_size=(1,1), stride=(1,1))\n",
    "            model = model.to(device)\n",
    "            optimizer = optim.SGD(model.classifier.parameters(), lr = 0.001, momentum = 0.9)\n",
    "        \n",
    "        criterion = nn.CrossEntropyLoss()\n",
    "        \n",
    "        # train model and add results to dictionary \n",
    "        timeelapsed, bestacc = train_model(model, criterion, optimizer, num_epochs = 25)\n",
    "        model_train_time[model_name[i]] = timeelapsed\n",
    "        model_acc[model_name[i]] = bestacc \n",
    "        i += 1\n",
    "        \n",
    "    return model_train_time, model_acc\n",
    "        "
   ]
  },
  {
   "cell_type": "code",
   "execution_count": 9,
   "metadata": {
    "collapsed": true,
    "jupyter": {
     "outputs_hidden": true
    }
   },
   "outputs": [
    {
     "name": "stdout",
     "output_type": "stream",
     "text": [
      "ResNet18\n",
      "---------------\n",
      "Epoch  1  of  25\n",
      "train  Loss:  1.168130105318025  Accuracy:  tensor(0.3372, dtype=torch.float64)\n",
      "val  Loss:  0.786649209122325  Accuracy:  tensor(0.6977, dtype=torch.float64)\n",
      "Epoch  2  of  25\n",
      "train  Loss:  0.7060371789821359  Accuracy:  tensor(0.7558, dtype=torch.float64)\n",
      "val  Loss:  0.6676385402679443  Accuracy:  tensor(0.6744, dtype=torch.float64)\n",
      "Epoch  3  of  25\n",
      "train  Loss:  0.6266213932702708  Accuracy:  tensor(0.7733, dtype=torch.float64)\n",
      "val  Loss:  0.3441681626231171  Accuracy:  tensor(0.9302, dtype=torch.float64)\n",
      "Epoch  4  of  25\n",
      "train  Loss:  0.5145640442537707  Accuracy:  tensor(0.8198, dtype=torch.float64)\n",
      "val  Loss:  0.4532360642455345  Accuracy:  tensor(0.7442, dtype=torch.float64)\n",
      "Epoch  5  of  25\n",
      "train  Loss:  0.5096094843953155  Accuracy:  tensor(0.7907, dtype=torch.float64)\n",
      "val  Loss:  0.31321432112261305  Accuracy:  tensor(0.9070, dtype=torch.float64)\n",
      "Epoch  6  of  25\n",
      "train  Loss:  0.5258133168830428  Accuracy:  tensor(0.8081, dtype=torch.float64)\n",
      "val  Loss:  0.2739058783667725  Accuracy:  tensor(0.9070, dtype=torch.float64)\n",
      "Epoch  7  of  25\n",
      "train  Loss:  0.5374908506177193  Accuracy:  tensor(0.7791, dtype=torch.float64)\n",
      "val  Loss:  0.2652865357177202  Accuracy:  tensor(0.8837, dtype=torch.float64)\n",
      "Epoch  8  of  25\n",
      "train  Loss:  0.4503723358692125  Accuracy:  tensor(0.8372, dtype=torch.float64)\n",
      "val  Loss:  0.22434858457986698  Accuracy:  tensor(0.9535, dtype=torch.float64)\n",
      "Epoch  9  of  25\n",
      "train  Loss:  0.4083258253197337  Accuracy:  tensor(0.8314, dtype=torch.float64)\n",
      "val  Loss:  0.2242895006093868  Accuracy:  tensor(0.9302, dtype=torch.float64)\n",
      "Epoch  10  of  25\n",
      "train  Loss:  0.4232483062633248  Accuracy:  tensor(0.8547, dtype=torch.float64)\n",
      "val  Loss:  0.31489586414292803  Accuracy:  tensor(0.9070, dtype=torch.float64)\n",
      "Epoch  11  of  25\n",
      "train  Loss:  0.391103490840557  Accuracy:  tensor(0.8547, dtype=torch.float64)\n",
      "val  Loss:  0.2519636653190435  Accuracy:  tensor(0.9302, dtype=torch.float64)\n",
      "Epoch  12  of  25\n",
      "train  Loss:  0.5110303659078687  Accuracy:  tensor(0.7907, dtype=torch.float64)\n",
      "val  Loss:  0.22818334825163664  Accuracy:  tensor(0.9535, dtype=torch.float64)\n",
      "Epoch  13  of  25\n",
      "train  Loss:  0.35372926121534304  Accuracy:  tensor(0.9012, dtype=torch.float64)\n",
      "val  Loss:  0.25701125312683193  Accuracy:  tensor(0.9070, dtype=torch.float64)\n",
      "Epoch  14  of  25\n",
      "train  Loss:  0.3063080674687097  Accuracy:  tensor(0.9186, dtype=torch.float64)\n",
      "val  Loss:  0.2791623112767242  Accuracy:  tensor(0.9070, dtype=torch.float64)\n",
      "Epoch  15  of  25\n",
      "train  Loss:  0.3965343881485074  Accuracy:  tensor(0.8372, dtype=torch.float64)\n",
      "val  Loss:  0.20646512213834498  Accuracy:  tensor(0.9535, dtype=torch.float64)\n",
      "Epoch  16  of  25\n",
      "train  Loss:  0.4276256388009981  Accuracy:  tensor(0.8430, dtype=torch.float64)\n",
      "val  Loss:  0.23614259116178335  Accuracy:  tensor(0.9302, dtype=torch.float64)\n",
      "Epoch  17  of  25\n",
      "train  Loss:  0.5080885318822639  Accuracy:  tensor(0.7965, dtype=torch.float64)\n",
      "val  Loss:  0.36791497919448585  Accuracy:  tensor(0.8605, dtype=torch.float64)\n",
      "Epoch  18  of  25\n",
      "train  Loss:  0.40287651260231816  Accuracy:  tensor(0.8314, dtype=torch.float64)\n",
      "val  Loss:  0.23987629039343014  Accuracy:  tensor(0.9070, dtype=torch.float64)\n",
      "Epoch  19  of  25\n",
      "train  Loss:  0.3237156653127005  Accuracy:  tensor(0.8605, dtype=torch.float64)\n",
      "val  Loss:  0.23231537432171578  Accuracy:  tensor(0.9302, dtype=torch.float64)\n",
      "Epoch  20  of  25\n",
      "train  Loss:  0.39078650121078934  Accuracy:  tensor(0.8547, dtype=torch.float64)\n",
      "val  Loss:  0.3427088496296905  Accuracy:  tensor(0.8837, dtype=torch.float64)\n",
      "Epoch  21  of  25\n",
      "train  Loss:  0.4586465629034264  Accuracy:  tensor(0.8256, dtype=torch.float64)\n",
      "val  Loss:  0.21596498423537544  Accuracy:  tensor(0.9070, dtype=torch.float64)\n",
      "Epoch  22  of  25\n",
      "train  Loss:  0.425658238835113  Accuracy:  tensor(0.8430, dtype=torch.float64)\n",
      "val  Loss:  0.2438986620237661  Accuracy:  tensor(0.9302, dtype=torch.float64)\n",
      "Epoch  23  of  25\n",
      "train  Loss:  0.3557803487015325  Accuracy:  tensor(0.8779, dtype=torch.float64)\n",
      "val  Loss:  0.2560515431470649  Accuracy:  tensor(0.9302, dtype=torch.float64)\n",
      "Epoch  24  of  25\n",
      "train  Loss:  0.39837172488833583  Accuracy:  tensor(0.8488, dtype=torch.float64)\n",
      "val  Loss:  0.22667879039464994  Accuracy:  tensor(0.9302, dtype=torch.float64)\n",
      "Epoch  25  of  25\n",
      "train  Loss:  0.3842523115318875  Accuracy:  tensor(0.8663, dtype=torch.float64)\n",
      "val  Loss:  0.2229104282897572  Accuracy:  tensor(0.9302, dtype=torch.float64)\n",
      "ResNet34\n",
      "---------------\n",
      "Epoch  1  of  25\n",
      "train  Loss:  1.109144227449284  Accuracy:  tensor(0.4535, dtype=torch.float64)\n",
      "val  Loss:  0.7595358504805454  Accuracy:  tensor(0.6512, dtype=torch.float64)\n",
      "Epoch  2  of  25\n",
      "train  Loss:  0.6494595692601315  Accuracy:  tensor(0.7907, dtype=torch.float64)\n",
      "val  Loss:  0.4153820172298786  Accuracy:  tensor(0.8837, dtype=torch.float64)\n",
      "Epoch  3  of  25\n",
      "train  Loss:  0.6028750788333804  Accuracy:  tensor(0.7442, dtype=torch.float64)\n",
      "val  Loss:  0.3487983233360357  Accuracy:  tensor(0.9070, dtype=torch.float64)\n",
      "Epoch  4  of  25\n",
      "train  Loss:  0.5804050242485002  Accuracy:  tensor(0.7849, dtype=torch.float64)\n",
      "val  Loss:  0.33747986236283944  Accuracy:  tensor(0.9070, dtype=torch.float64)\n",
      "Epoch  5  of  25\n",
      "train  Loss:  0.4923465473707332  Accuracy:  tensor(0.7965, dtype=torch.float64)\n",
      "val  Loss:  0.28142512017904325  Accuracy:  tensor(0.9302, dtype=torch.float64)\n",
      "Epoch  6  of  25\n",
      "train  Loss:  0.5128398558428121  Accuracy:  tensor(0.7965, dtype=torch.float64)\n",
      "val  Loss:  0.32181237118188727  Accuracy:  tensor(0.8837, dtype=torch.float64)\n",
      "Epoch  7  of  25\n",
      "train  Loss:  0.4374320337245631  Accuracy:  tensor(0.8256, dtype=torch.float64)\n",
      "val  Loss:  0.28484361150930093  Accuracy:  tensor(0.9302, dtype=torch.float64)\n",
      "Epoch  8  of  25\n",
      "train  Loss:  0.380279696091663  Accuracy:  tensor(0.8605, dtype=torch.float64)\n",
      "val  Loss:  0.26666268411763877  Accuracy:  tensor(0.9302, dtype=torch.float64)\n",
      "Epoch  9  of  25\n",
      "train  Loss:  0.49600647424542627  Accuracy:  tensor(0.7849, dtype=torch.float64)\n",
      "val  Loss:  0.33482893712298817  Accuracy:  tensor(0.9070, dtype=torch.float64)\n",
      "Epoch  10  of  25\n",
      "train  Loss:  0.4110602519886438  Accuracy:  tensor(0.8663, dtype=torch.float64)\n",
      "val  Loss:  0.28838349220364595  Accuracy:  tensor(0.9302, dtype=torch.float64)\n",
      "Epoch  11  of  25\n",
      "train  Loss:  0.4577187452205392  Accuracy:  tensor(0.8372, dtype=torch.float64)\n",
      "val  Loss:  0.28314988488374754  Accuracy:  tensor(0.9302, dtype=torch.float64)\n",
      "Epoch  12  of  25\n",
      "train  Loss:  0.4873116726792136  Accuracy:  tensor(0.8256, dtype=torch.float64)\n",
      "val  Loss:  0.27362244818792786  Accuracy:  tensor(0.9302, dtype=torch.float64)\n",
      "Epoch  13  of  25\n",
      "train  Loss:  0.35500324136295985  Accuracy:  tensor(0.8547, dtype=torch.float64)\n",
      "val  Loss:  0.2862815732179686  Accuracy:  tensor(0.9302, dtype=torch.float64)\n",
      "Epoch  14  of  25\n",
      "train  Loss:  0.4268326771467231  Accuracy:  tensor(0.8256, dtype=torch.float64)\n",
      "val  Loss:  0.4901459258656169  Accuracy:  tensor(0.8372, dtype=torch.float64)\n",
      "Epoch  15  of  25\n",
      "train  Loss:  0.4871654018413189  Accuracy:  tensor(0.7791, dtype=torch.float64)\n",
      "val  Loss:  0.3133733937906664  Accuracy:  tensor(0.8837, dtype=torch.float64)\n",
      "Epoch  16  of  25\n",
      "train  Loss:  0.3792203896960547  Accuracy:  tensor(0.8605, dtype=torch.float64)\n",
      "val  Loss:  0.22955466945504033  Accuracy:  tensor(0.9302, dtype=torch.float64)\n",
      "Epoch  17  of  25\n",
      "train  Loss:  0.3539381715100865  Accuracy:  tensor(0.8663, dtype=torch.float64)\n",
      "val  Loss:  0.23387300760246987  Accuracy:  tensor(0.9302, dtype=torch.float64)\n",
      "Epoch  18  of  25\n",
      "train  Loss:  0.416028682922208  Accuracy:  tensor(0.8314, dtype=torch.float64)\n",
      "val  Loss:  0.2726566469253496  Accuracy:  tensor(0.9302, dtype=torch.float64)\n",
      "Epoch  19  of  25\n",
      "train  Loss:  0.3624162854150284  Accuracy:  tensor(0.8779, dtype=torch.float64)\n",
      "val  Loss:  0.22500669596673445  Accuracy:  tensor(0.9302, dtype=torch.float64)\n",
      "Epoch  20  of  25\n",
      "train  Loss:  0.35591005897799205  Accuracy:  tensor(0.8663, dtype=torch.float64)\n",
      "val  Loss:  0.2700789799090735  Accuracy:  tensor(0.8837, dtype=torch.float64)\n",
      "Epoch  21  of  25\n",
      "train  Loss:  0.4773980302866115  Accuracy:  tensor(0.8198, dtype=torch.float64)\n",
      "val  Loss:  0.24149593295052993  Accuracy:  tensor(0.9535, dtype=torch.float64)\n",
      "Epoch  22  of  25\n",
      "train  Loss:  0.4425919915354529  Accuracy:  tensor(0.7791, dtype=torch.float64)\n",
      "val  Loss:  0.36965752821848835  Accuracy:  tensor(0.8372, dtype=torch.float64)\n",
      "Epoch  23  of  25\n",
      "train  Loss:  0.3944624960422516  Accuracy:  tensor(0.8314, dtype=torch.float64)\n",
      "val  Loss:  0.26976252780404203  Accuracy:  tensor(0.9302, dtype=torch.float64)\n",
      "Epoch  24  of  25\n",
      "train  Loss:  0.3384078851965971  Accuracy:  tensor(0.8663, dtype=torch.float64)\n",
      "val  Loss:  0.23367292104765428  Accuracy:  tensor(0.9070, dtype=torch.float64)\n",
      "Epoch  25  of  25\n",
      "train  Loss:  0.3959681384785231  Accuracy:  tensor(0.8372, dtype=torch.float64)\n",
      "val  Loss:  0.3041986438424088  Accuracy:  tensor(0.9535, dtype=torch.float64)\n",
      "AlexNet\n",
      "---------------\n",
      "Epoch  1  of  25\n",
      "train  Loss:  0.6695499312739039  Accuracy:  tensor(0.7267, dtype=torch.float64)\n",
      "val  Loss:  0.24581219804971371  Accuracy:  tensor(0.9070, dtype=torch.float64)\n",
      "Epoch  2  of  25\n",
      "train  Loss:  0.3423271660021571  Accuracy:  tensor(0.8779, dtype=torch.float64)\n",
      "val  Loss:  0.2851007812938025  Accuracy:  tensor(0.8372, dtype=torch.float64)\n",
      "Epoch  3  of  25\n",
      "train  Loss:  0.2279776604629533  Accuracy:  tensor(0.8953, dtype=torch.float64)\n",
      "val  Loss:  0.2504773079959113  Accuracy:  tensor(0.8605, dtype=torch.float64)\n",
      "Epoch  4  of  25\n",
      "train  Loss:  0.21292059539362443  Accuracy:  tensor(0.9186, dtype=torch.float64)\n",
      "val  Loss:  0.20605527349682742  Accuracy:  tensor(0.9070, dtype=torch.float64)\n",
      "Epoch  5  of  25\n",
      "train  Loss:  0.3494211322692938  Accuracy:  tensor(0.8721, dtype=torch.float64)\n",
      "val  Loss:  0.2481550344937416  Accuracy:  tensor(0.8605, dtype=torch.float64)\n",
      "Epoch  6  of  25\n",
      "train  Loss:  0.2803306038989577  Accuracy:  tensor(0.9070, dtype=torch.float64)\n",
      "val  Loss:  0.17014969835534346  Accuracy:  tensor(0.9302, dtype=torch.float64)\n",
      "Epoch  7  of  25\n",
      "train  Loss:  0.2356361061074706  Accuracy:  tensor(0.8953, dtype=torch.float64)\n",
      "val  Loss:  0.35072198440862257  Accuracy:  tensor(0.8372, dtype=torch.float64)\n",
      "Epoch  8  of  25\n",
      "train  Loss:  0.2585311401851995  Accuracy:  tensor(0.9070, dtype=torch.float64)\n",
      "val  Loss:  0.28180878878121673  Accuracy:  tensor(0.8837, dtype=torch.float64)\n",
      "Epoch  9  of  25\n",
      "train  Loss:  0.18190410150604885  Accuracy:  tensor(0.9535, dtype=torch.float64)\n",
      "val  Loss:  0.2553879787149124  Accuracy:  tensor(0.9302, dtype=torch.float64)\n",
      "Epoch  10  of  25\n",
      "train  Loss:  0.21752308311244084  Accuracy:  tensor(0.9186, dtype=torch.float64)\n",
      "val  Loss:  0.39755750555805  Accuracy:  tensor(0.8372, dtype=torch.float64)\n",
      "Epoch  11  of  25\n",
      "train  Loss:  0.21983421210546134  Accuracy:  tensor(0.9244, dtype=torch.float64)\n",
      "val  Loss:  0.3132283755166586  Accuracy:  tensor(0.9302, dtype=torch.float64)\n",
      "Epoch  12  of  25\n",
      "train  Loss:  0.21727924941237584  Accuracy:  tensor(0.8837, dtype=torch.float64)\n",
      "val  Loss:  0.29178218070863  Accuracy:  tensor(0.8837, dtype=torch.float64)\n",
      "Epoch  13  of  25\n",
      "train  Loss:  0.2755415114075985  Accuracy:  tensor(0.9128, dtype=torch.float64)\n",
      "val  Loss:  0.3130772304612883  Accuracy:  tensor(0.9070, dtype=torch.float64)\n",
      "Epoch  14  of  25\n",
      "train  Loss:  0.24539399053901434  Accuracy:  tensor(0.9012, dtype=torch.float64)\n",
      "val  Loss:  0.3468664652386377  Accuracy:  tensor(0.9070, dtype=torch.float64)\n",
      "Epoch  15  of  25\n",
      "train  Loss:  0.443994409810795  Accuracy:  tensor(0.8953, dtype=torch.float64)\n",
      "val  Loss:  0.30187705278309973  Accuracy:  tensor(0.9070, dtype=torch.float64)\n",
      "Epoch  16  of  25\n",
      "train  Loss:  0.18621036702723698  Accuracy:  tensor(0.9535, dtype=torch.float64)\n",
      "val  Loss:  0.2617046890325498  Accuracy:  tensor(0.9070, dtype=torch.float64)\n",
      "Epoch  17  of  25\n",
      "train  Loss:  0.18759740993034008  Accuracy:  tensor(0.9128, dtype=torch.float64)\n",
      "val  Loss:  0.21437930930839028  Accuracy:  tensor(0.9302, dtype=torch.float64)\n",
      "Epoch  18  of  25\n",
      "train  Loss:  0.30132617078028445  Accuracy:  tensor(0.9070, dtype=torch.float64)\n",
      "val  Loss:  0.2947774118808813  Accuracy:  tensor(0.9302, dtype=torch.float64)\n",
      "Epoch  19  of  25\n",
      "train  Loss:  0.2172286708772908  Accuracy:  tensor(0.9186, dtype=torch.float64)\n",
      "val  Loss:  0.31354111555400627  Accuracy:  tensor(0.9302, dtype=torch.float64)\n",
      "Epoch  20  of  25\n",
      "train  Loss:  0.19505555248754317  Accuracy:  tensor(0.9302, dtype=torch.float64)\n",
      "val  Loss:  0.2661433475048736  Accuracy:  tensor(0.9302, dtype=torch.float64)\n",
      "Epoch  21  of  25\n",
      "train  Loss:  0.16089500560490197  Accuracy:  tensor(0.9360, dtype=torch.float64)\n",
      "val  Loss:  0.21789523188111393  Accuracy:  tensor(0.9302, dtype=torch.float64)\n",
      "Epoch  22  of  25\n",
      "train  Loss:  0.19459364643905225  Accuracy:  tensor(0.9302, dtype=torch.float64)\n",
      "val  Loss:  0.19758139709877068  Accuracy:  tensor(0.9535, dtype=torch.float64)\n",
      "Epoch  23  of  25\n",
      "train  Loss:  0.17762082498953785  Accuracy:  tensor(0.9360, dtype=torch.float64)\n",
      "val  Loss:  0.3289818367162763  Accuracy:  tensor(0.8837, dtype=torch.float64)\n",
      "Epoch  24  of  25\n",
      "train  Loss:  0.12490087423776818  Accuracy:  tensor(0.9477, dtype=torch.float64)\n",
      "val  Loss:  0.2368944836130669  Accuracy:  tensor(0.9070, dtype=torch.float64)\n",
      "Epoch  25  of  25\n",
      "train  Loss:  0.18507915188363472  Accuracy:  tensor(0.9302, dtype=torch.float64)\n",
      "val  Loss:  0.2583361649236014  Accuracy:  tensor(0.8605, dtype=torch.float64)\n",
      "VGG11\n",
      "---------------\n",
      "Epoch  1  of  25\n",
      "train  Loss:  0.9530822995097138  Accuracy:  tensor(0.5581, dtype=torch.float64)\n",
      "val  Loss:  0.4368519765693088  Accuracy:  tensor(0.7907, dtype=torch.float64)\n",
      "Epoch  2  of  25\n",
      "train  Loss:  0.44241572119468864  Accuracy:  tensor(0.8430, dtype=torch.float64)\n",
      "val  Loss:  0.31650990178418714  Accuracy:  tensor(0.9070, dtype=torch.float64)\n",
      "Epoch  3  of  25\n",
      "train  Loss:  0.3692047734593236  Accuracy:  tensor(0.8547, dtype=torch.float64)\n",
      "val  Loss:  0.28520052065682966  Accuracy:  tensor(0.9070, dtype=torch.float64)\n",
      "Epoch  4  of  25\n",
      "train  Loss:  0.3362076745130295  Accuracy:  tensor(0.8547, dtype=torch.float64)\n",
      "val  Loss:  0.29403495338074  Accuracy:  tensor(0.9302, dtype=torch.float64)\n",
      "Epoch  5  of  25\n",
      "train  Loss:  0.3677092204953349  Accuracy:  tensor(0.8663, dtype=torch.float64)\n",
      "val  Loss:  0.3018291381209396  Accuracy:  tensor(0.8837, dtype=torch.float64)\n",
      "Epoch  6  of  25\n",
      "train  Loss:  0.3332330724874208  Accuracy:  tensor(0.8721, dtype=torch.float64)\n",
      "val  Loss:  0.29146365509476774  Accuracy:  tensor(0.9070, dtype=torch.float64)\n",
      "Epoch  7  of  25\n",
      "train  Loss:  0.31777627315632134  Accuracy:  tensor(0.8895, dtype=torch.float64)\n",
      "val  Loss:  0.29230160023583923  Accuracy:  tensor(0.9070, dtype=torch.float64)\n",
      "Epoch  8  of  25\n",
      "train  Loss:  0.2528688803661701  Accuracy:  tensor(0.9070, dtype=torch.float64)\n",
      "val  Loss:  0.2892756378927896  Accuracy:  tensor(0.8837, dtype=torch.float64)\n",
      "Epoch  9  of  25\n",
      "train  Loss:  0.2920142371034206  Accuracy:  tensor(0.8895, dtype=torch.float64)\n",
      "val  Loss:  0.2654667762649614  Accuracy:  tensor(0.9070, dtype=torch.float64)\n",
      "Epoch  10  of  25\n",
      "train  Loss:  0.2574992547851316  Accuracy:  tensor(0.8779, dtype=torch.float64)\n",
      "val  Loss:  0.277134086503539  Accuracy:  tensor(0.9302, dtype=torch.float64)\n",
      "Epoch  11  of  25\n",
      "train  Loss:  0.2769836594545564  Accuracy:  tensor(0.8895, dtype=torch.float64)\n",
      "val  Loss:  0.2902708439113096  Accuracy:  tensor(0.9070, dtype=torch.float64)\n",
      "Epoch  12  of  25\n",
      "train  Loss:  0.22307154969420545  Accuracy:  tensor(0.9128, dtype=torch.float64)\n",
      "val  Loss:  0.2780677327929541  Accuracy:  tensor(0.9070, dtype=torch.float64)\n",
      "Epoch  13  of  25\n",
      "train  Loss:  0.2719125744215278  Accuracy:  tensor(0.8895, dtype=torch.float64)\n",
      "val  Loss:  0.2854106395050537  Accuracy:  tensor(0.9070, dtype=torch.float64)\n",
      "Epoch  14  of  25\n",
      "train  Loss:  0.25915457753377946  Accuracy:  tensor(0.8837, dtype=torch.float64)\n",
      "val  Loss:  0.2744822577508383  Accuracy:  tensor(0.9302, dtype=torch.float64)\n",
      "Epoch  15  of  25\n",
      "train  Loss:  0.24332609434807023  Accuracy:  tensor(0.9128, dtype=torch.float64)\n",
      "val  Loss:  0.2598278349222139  Accuracy:  tensor(0.9070, dtype=torch.float64)\n",
      "Epoch  16  of  25\n",
      "train  Loss:  0.20170375999323156  Accuracy:  tensor(0.9244, dtype=torch.float64)\n",
      "val  Loss:  0.286323630857433  Accuracy:  tensor(0.9070, dtype=torch.float64)\n",
      "Epoch  17  of  25\n",
      "train  Loss:  0.23962773547269578  Accuracy:  tensor(0.9128, dtype=torch.float64)\n",
      "val  Loss:  0.2727904035601505  Accuracy:  tensor(0.9302, dtype=torch.float64)\n",
      "Epoch  18  of  25\n",
      "train  Loss:  0.23865758766268574  Accuracy:  tensor(0.9070, dtype=torch.float64)\n",
      "val  Loss:  0.27362199248962626  Accuracy:  tensor(0.9070, dtype=torch.float64)\n",
      "Epoch  19  of  25\n",
      "train  Loss:  0.24605732021290203  Accuracy:  tensor(0.8895, dtype=torch.float64)\n",
      "val  Loss:  0.280665296281493  Accuracy:  tensor(0.9070, dtype=torch.float64)\n",
      "Epoch  20  of  25\n",
      "train  Loss:  0.25543006266965423  Accuracy:  tensor(0.9070, dtype=torch.float64)\n",
      "val  Loss:  0.2809742588636487  Accuracy:  tensor(0.9070, dtype=torch.float64)\n",
      "Epoch  21  of  25\n",
      "train  Loss:  0.20049757347983677  Accuracy:  tensor(0.9302, dtype=torch.float64)\n",
      "val  Loss:  0.2913357353834219  Accuracy:  tensor(0.9070, dtype=torch.float64)\n",
      "Epoch  22  of  25\n",
      "train  Loss:  0.29441550815867823  Accuracy:  tensor(0.9012, dtype=torch.float64)\n",
      "val  Loss:  0.2754750451029733  Accuracy:  tensor(0.9070, dtype=torch.float64)\n",
      "Epoch  23  of  25\n",
      "train  Loss:  0.21495322380648102  Accuracy:  tensor(0.9186, dtype=torch.float64)\n",
      "val  Loss:  0.2804088890552521  Accuracy:  tensor(0.9302, dtype=torch.float64)\n",
      "Epoch  24  of  25\n",
      "train  Loss:  0.2621367578069831  Accuracy:  tensor(0.9128, dtype=torch.float64)\n",
      "val  Loss:  0.29057308407716975  Accuracy:  tensor(0.9070, dtype=torch.float64)\n",
      "Epoch  25  of  25\n",
      "train  Loss:  0.1975768467541351  Accuracy:  tensor(0.9244, dtype=torch.float64)\n",
      "val  Loss:  0.2767784665934308  Accuracy:  tensor(0.9302, dtype=torch.float64)\n",
      "VGG13\n",
      "---------------\n",
      "Epoch  1  of  25\n",
      "train  Loss:  0.8941396502561347  Accuracy:  tensor(0.6337, dtype=torch.float64)\n",
      "val  Loss:  0.3985318305880524  Accuracy:  tensor(0.9070, dtype=torch.float64)\n",
      "Epoch  2  of  25\n",
      "train  Loss:  0.44296299579531645  Accuracy:  tensor(0.8663, dtype=torch.float64)\n",
      "val  Loss:  0.3030503430338793  Accuracy:  tensor(0.9302, dtype=torch.float64)\n",
      "Epoch  3  of  25\n",
      "train  Loss:  0.35299680018147755  Accuracy:  tensor(0.9012, dtype=torch.float64)\n",
      "val  Loss:  0.27483707805012547  Accuracy:  tensor(0.9302, dtype=torch.float64)\n",
      "Epoch  4  of  25\n",
      "train  Loss:  0.39062255551648695  Accuracy:  tensor(0.8488, dtype=torch.float64)\n",
      "val  Loss:  0.283202433222255  Accuracy:  tensor(0.9070, dtype=torch.float64)\n",
      "Epoch  5  of  25\n",
      "train  Loss:  0.33708052198554195  Accuracy:  tensor(0.8895, dtype=torch.float64)\n",
      "val  Loss:  0.25202382477216945  Accuracy:  tensor(0.9302, dtype=torch.float64)\n",
      "Epoch  6  of  25\n",
      "train  Loss:  0.26359757884990337  Accuracy:  tensor(0.9186, dtype=torch.float64)\n",
      "val  Loss:  0.257226716813653  Accuracy:  tensor(0.9070, dtype=torch.float64)\n",
      "Epoch  7  of  25\n",
      "train  Loss:  0.2838244141880856  Accuracy:  tensor(0.8837, dtype=torch.float64)\n",
      "val  Loss:  0.2670894279036411  Accuracy:  tensor(0.9302, dtype=torch.float64)\n",
      "Epoch  8  of  25\n",
      "train  Loss:  0.285688845397428  Accuracy:  tensor(0.9070, dtype=torch.float64)\n",
      "val  Loss:  0.27406427749367646  Accuracy:  tensor(0.9302, dtype=torch.float64)\n",
      "Epoch  9  of  25\n",
      "train  Loss:  0.2398530560177426  Accuracy:  tensor(0.9244, dtype=torch.float64)\n",
      "val  Loss:  0.2566033963893735  Accuracy:  tensor(0.9302, dtype=torch.float64)\n",
      "Epoch  10  of  25\n",
      "train  Loss:  0.29987125670494036  Accuracy:  tensor(0.8953, dtype=torch.float64)\n",
      "val  Loss:  0.27771680161010387  Accuracy:  tensor(0.9070, dtype=torch.float64)\n",
      "Epoch  11  of  25\n",
      "train  Loss:  0.2894489159590976  Accuracy:  tensor(0.8895, dtype=torch.float64)\n",
      "val  Loss:  0.2747546501977499  Accuracy:  tensor(0.9070, dtype=torch.float64)\n",
      "Epoch  12  of  25\n",
      "train  Loss:  0.24994578823273958  Accuracy:  tensor(0.8837, dtype=torch.float64)\n",
      "val  Loss:  0.2939630958229996  Accuracy:  tensor(0.9070, dtype=torch.float64)\n",
      "Epoch  13  of  25\n",
      "train  Loss:  0.20762871101845143  Accuracy:  tensor(0.9302, dtype=torch.float64)\n",
      "val  Loss:  0.2914795834831027  Accuracy:  tensor(0.9070, dtype=torch.float64)\n",
      "Epoch  14  of  25\n",
      "train  Loss:  0.2969211531413156  Accuracy:  tensor(0.8895, dtype=torch.float64)\n",
      "val  Loss:  0.29936505334321845  Accuracy:  tensor(0.9070, dtype=torch.float64)\n",
      "Epoch  15  of  25\n",
      "train  Loss:  0.24446561490727026  Accuracy:  tensor(0.9128, dtype=torch.float64)\n",
      "val  Loss:  0.30756461149254855  Accuracy:  tensor(0.8837, dtype=torch.float64)\n",
      "Epoch  16  of  25\n",
      "train  Loss:  0.23255062046958958  Accuracy:  tensor(0.9128, dtype=torch.float64)\n",
      "val  Loss:  0.30699880559777104  Accuracy:  tensor(0.9070, dtype=torch.float64)\n",
      "Epoch  17  of  25\n",
      "train  Loss:  0.20827359879432722  Accuracy:  tensor(0.9244, dtype=torch.float64)\n",
      "val  Loss:  0.30433125490712565  Accuracy:  tensor(0.9302, dtype=torch.float64)\n",
      "Epoch  18  of  25\n",
      "train  Loss:  0.2130366931994294  Accuracy:  tensor(0.9186, dtype=torch.float64)\n",
      "val  Loss:  0.30905008323079103  Accuracy:  tensor(0.9070, dtype=torch.float64)\n",
      "Epoch  19  of  25\n",
      "train  Loss:  0.29172327378114987  Accuracy:  tensor(0.8895, dtype=torch.float64)\n",
      "val  Loss:  0.2980003455480517  Accuracy:  tensor(0.8837, dtype=torch.float64)\n",
      "Epoch  20  of  25\n",
      "train  Loss:  0.22269206563400668  Accuracy:  tensor(0.9186, dtype=torch.float64)\n",
      "val  Loss:  0.29462562674699827  Accuracy:  tensor(0.9070, dtype=torch.float64)\n",
      "Epoch  21  of  25\n",
      "train  Loss:  0.26811825536018197  Accuracy:  tensor(0.9012, dtype=torch.float64)\n",
      "val  Loss:  0.2827053191356881  Accuracy:  tensor(0.9070, dtype=torch.float64)\n",
      "Epoch  22  of  25\n",
      "train  Loss:  0.21993555795661238  Accuracy:  tensor(0.9128, dtype=torch.float64)\n",
      "val  Loss:  0.2855245286902023  Accuracy:  tensor(0.9070, dtype=torch.float64)\n",
      "Epoch  23  of  25\n",
      "train  Loss:  0.2470723884396775  Accuracy:  tensor(0.9070, dtype=torch.float64)\n",
      "val  Loss:  0.273048103202221  Accuracy:  tensor(0.9302, dtype=torch.float64)\n",
      "Epoch  24  of  25\n",
      "train  Loss:  0.21409223168048747  Accuracy:  tensor(0.9186, dtype=torch.float64)\n",
      "val  Loss:  0.2801533480023229  Accuracy:  tensor(0.9302, dtype=torch.float64)\n",
      "Epoch  25  of  25\n",
      "train  Loss:  0.20247101855226035  Accuracy:  tensor(0.9186, dtype=torch.float64)\n",
      "val  Loss:  0.28673239091281283  Accuracy:  tensor(0.9070, dtype=torch.float64)\n",
      "VGG16\n",
      "---------------\n",
      "Epoch  1  of  25\n",
      "train  Loss:  0.9129338777342508  Accuracy:  tensor(0.6453, dtype=torch.float64)\n",
      "val  Loss:  0.41634711761807286  Accuracy:  tensor(0.8837, dtype=torch.float64)\n",
      "Epoch  2  of  25\n",
      "train  Loss:  0.5107543343721435  Accuracy:  tensor(0.8140, dtype=torch.float64)\n",
      "val  Loss:  0.2859333829824315  Accuracy:  tensor(0.9070, dtype=torch.float64)\n",
      "Epoch  3  of  25\n",
      "train  Loss:  0.4790384551120359  Accuracy:  tensor(0.8023, dtype=torch.float64)\n",
      "val  Loss:  0.31931051542592603  Accuracy:  tensor(0.8605, dtype=torch.float64)\n",
      "Epoch  4  of  25\n",
      "train  Loss:  0.3624691274883442  Accuracy:  tensor(0.8837, dtype=torch.float64)\n",
      "val  Loss:  0.2911266187249228  Accuracy:  tensor(0.9302, dtype=torch.float64)\n",
      "Epoch  5  of  25\n",
      "train  Loss:  0.40027017579522245  Accuracy:  tensor(0.8488, dtype=torch.float64)\n",
      "val  Loss:  0.28570441035337224  Accuracy:  tensor(0.8837, dtype=torch.float64)\n",
      "Epoch  6  of  25\n",
      "train  Loss:  0.3536912074615789  Accuracy:  tensor(0.8779, dtype=torch.float64)\n",
      "val  Loss:  0.3120629215656325  Accuracy:  tensor(0.8837, dtype=torch.float64)\n",
      "Epoch  7  of  25\n",
      "train  Loss:  0.41824163392532704  Accuracy:  tensor(0.8605, dtype=torch.float64)\n",
      "val  Loss:  0.3056488454688427  Accuracy:  tensor(0.8837, dtype=torch.float64)\n",
      "Epoch  8  of  25\n",
      "train  Loss:  0.3246432679683663  Accuracy:  tensor(0.8953, dtype=torch.float64)\n",
      "val  Loss:  0.30786092024902967  Accuracy:  tensor(0.8837, dtype=torch.float64)\n",
      "Epoch  9  of  25\n",
      "train  Loss:  0.27735241589158083  Accuracy:  tensor(0.9012, dtype=torch.float64)\n",
      "val  Loss:  0.30026341110554544  Accuracy:  tensor(0.8837, dtype=torch.float64)\n",
      "Epoch  10  of  25\n",
      "train  Loss:  0.31497874180244845  Accuracy:  tensor(0.8779, dtype=torch.float64)\n",
      "val  Loss:  0.2922046399393747  Accuracy:  tensor(0.8837, dtype=torch.float64)\n",
      "Epoch  11  of  25\n",
      "train  Loss:  0.28384937969751134  Accuracy:  tensor(0.8895, dtype=torch.float64)\n",
      "val  Loss:  0.3041509123042572  Accuracy:  tensor(0.8605, dtype=torch.float64)\n",
      "Epoch  12  of  25\n",
      "train  Loss:  0.223491846302221  Accuracy:  tensor(0.9186, dtype=torch.float64)\n",
      "val  Loss:  0.30237466746637987  Accuracy:  tensor(0.8605, dtype=torch.float64)\n",
      "Epoch  13  of  25\n",
      "train  Loss:  0.21854966333092646  Accuracy:  tensor(0.9186, dtype=torch.float64)\n",
      "val  Loss:  0.29969086757926056  Accuracy:  tensor(0.8837, dtype=torch.float64)\n",
      "Epoch  14  of  25\n",
      "train  Loss:  0.25573197163121647  Accuracy:  tensor(0.9070, dtype=torch.float64)\n",
      "val  Loss:  0.28871270806290383  Accuracy:  tensor(0.8837, dtype=torch.float64)\n",
      "Epoch  15  of  25\n",
      "train  Loss:  0.3195895755360293  Accuracy:  tensor(0.8663, dtype=torch.float64)\n",
      "val  Loss:  0.2977191663758699  Accuracy:  tensor(0.9070, dtype=torch.float64)\n",
      "Epoch  16  of  25\n",
      "train  Loss:  0.273009208399196  Accuracy:  tensor(0.8895, dtype=torch.float64)\n",
      "val  Loss:  0.318896237067705  Accuracy:  tensor(0.8372, dtype=torch.float64)\n",
      "Epoch  17  of  25\n",
      "train  Loss:  0.2748116594414378  Accuracy:  tensor(0.9070, dtype=torch.float64)\n",
      "val  Loss:  0.2973920768776605  Accuracy:  tensor(0.8605, dtype=torch.float64)\n",
      "Epoch  18  of  25\n",
      "train  Loss:  0.32176413473694826  Accuracy:  tensor(0.8663, dtype=torch.float64)\n",
      "val  Loss:  0.31210719628346173  Accuracy:  tensor(0.8837, dtype=torch.float64)\n",
      "Epoch  19  of  25\n",
      "train  Loss:  0.26325501224329306  Accuracy:  tensor(0.9012, dtype=torch.float64)\n",
      "val  Loss:  0.2898171042622782  Accuracy:  tensor(0.8837, dtype=torch.float64)\n",
      "Epoch  20  of  25\n",
      "train  Loss:  0.25633525493186576  Accuracy:  tensor(0.9186, dtype=torch.float64)\n",
      "val  Loss:  0.2792500482742177  Accuracy:  tensor(0.9070, dtype=torch.float64)\n",
      "Epoch  21  of  25\n",
      "train  Loss:  0.2374973734624164  Accuracy:  tensor(0.9070, dtype=torch.float64)\n",
      "val  Loss:  0.25862389291788257  Accuracy:  tensor(0.9070, dtype=torch.float64)\n",
      "Epoch  22  of  25\n",
      "train  Loss:  0.2060725879530574  Accuracy:  tensor(0.9477, dtype=torch.float64)\n",
      "val  Loss:  0.2459526041219401  Accuracy:  tensor(0.8837, dtype=torch.float64)\n",
      "Epoch  23  of  25\n",
      "train  Loss:  0.3022409639386244  Accuracy:  tensor(0.8837, dtype=torch.float64)\n",
      "val  Loss:  0.2759497764975179  Accuracy:  tensor(0.9070, dtype=torch.float64)\n",
      "Epoch  24  of  25\n",
      "train  Loss:  0.2941255598480618  Accuracy:  tensor(0.8663, dtype=torch.float64)\n",
      "val  Loss:  0.27483098659404487  Accuracy:  tensor(0.8605, dtype=torch.float64)\n",
      "Epoch  25  of  25\n",
      "train  Loss:  0.21336466784394065  Accuracy:  tensor(0.9186, dtype=torch.float64)\n",
      "val  Loss:  0.26987472839306953  Accuracy:  tensor(0.8605, dtype=torch.float64)\n",
      "VGG19\n",
      "---------------\n",
      "Epoch  1  of  25\n",
      "train  Loss:  0.9185419096503147  Accuracy:  tensor(0.6163, dtype=torch.float64)\n",
      "val  Loss:  0.3964119151581165  Accuracy:  tensor(0.8837, dtype=torch.float64)\n",
      "Epoch  2  of  25\n",
      "train  Loss:  0.5259552161360896  Accuracy:  tensor(0.8023, dtype=torch.float64)\n",
      "val  Loss:  0.29899652822073114  Accuracy:  tensor(0.9302, dtype=torch.float64)\n",
      "Epoch  3  of  25\n",
      "train  Loss:  0.40727580494658894  Accuracy:  tensor(0.8547, dtype=torch.float64)\n",
      "val  Loss:  0.28948359971129617  Accuracy:  tensor(0.9070, dtype=torch.float64)\n",
      "Epoch  4  of  25\n",
      "train  Loss:  0.375988865314528  Accuracy:  tensor(0.8721, dtype=torch.float64)\n",
      "val  Loss:  0.25821208373405213  Accuracy:  tensor(0.8837, dtype=torch.float64)\n",
      "Epoch  5  of  25\n",
      "train  Loss:  0.4091645416825317  Accuracy:  tensor(0.8198, dtype=torch.float64)\n",
      "val  Loss:  0.27270712270293124  Accuracy:  tensor(0.9302, dtype=torch.float64)\n",
      "Epoch  6  of  25\n",
      "train  Loss:  0.3669195722701938  Accuracy:  tensor(0.8488, dtype=torch.float64)\n",
      "val  Loss:  0.27090880413388096  Accuracy:  tensor(0.9070, dtype=torch.float64)\n",
      "Epoch  7  of  25\n",
      "train  Loss:  0.3922650703164034  Accuracy:  tensor(0.8430, dtype=torch.float64)\n",
      "val  Loss:  0.25266520523054653  Accuracy:  tensor(0.8837, dtype=torch.float64)\n",
      "Epoch  8  of  25\n",
      "train  Loss:  0.34459658764129464  Accuracy:  tensor(0.8721, dtype=torch.float64)\n",
      "val  Loss:  0.2702157511267551  Accuracy:  tensor(0.8837, dtype=torch.float64)\n",
      "Epoch  9  of  25\n",
      "train  Loss:  0.3361655813316966  Accuracy:  tensor(0.8895, dtype=torch.float64)\n",
      "val  Loss:  0.24118961428487024  Accuracy:  tensor(0.8837, dtype=torch.float64)\n",
      "Epoch  10  of  25\n",
      "train  Loss:  0.3456177465444387  Accuracy:  tensor(0.8721, dtype=torch.float64)\n",
      "val  Loss:  0.2410481036748997  Accuracy:  tensor(0.8837, dtype=torch.float64)\n",
      "Epoch  11  of  25\n",
      "train  Loss:  0.31194357608639917  Accuracy:  tensor(0.8779, dtype=torch.float64)\n",
      "val  Loss:  0.2395639769559683  Accuracy:  tensor(0.8837, dtype=torch.float64)\n",
      "Epoch  12  of  25\n",
      "train  Loss:  0.28499033297736975  Accuracy:  tensor(0.8895, dtype=torch.float64)\n",
      "val  Loss:  0.21445118687873663  Accuracy:  tensor(0.9302, dtype=torch.float64)\n",
      "Epoch  13  of  25\n",
      "train  Loss:  0.30708309488241065  Accuracy:  tensor(0.9012, dtype=torch.float64)\n",
      "val  Loss:  0.24027591494323555  Accuracy:  tensor(0.9302, dtype=torch.float64)\n",
      "Epoch  14  of  25\n",
      "train  Loss:  0.30727821588516235  Accuracy:  tensor(0.8779, dtype=torch.float64)\n",
      "val  Loss:  0.24259590062984202  Accuracy:  tensor(0.9070, dtype=torch.float64)\n",
      "Epoch  15  of  25\n",
      "train  Loss:  0.2741000283249589  Accuracy:  tensor(0.8953, dtype=torch.float64)\n",
      "val  Loss:  0.21732684969902039  Accuracy:  tensor(0.9070, dtype=torch.float64)\n",
      "Epoch  16  of  25\n",
      "train  Loss:  0.27880432768616564  Accuracy:  tensor(0.8895, dtype=torch.float64)\n",
      "val  Loss:  0.23203814584155416  Accuracy:  tensor(0.9302, dtype=torch.float64)\n",
      "Epoch  17  of  25\n",
      "train  Loss:  0.34240110547736635  Accuracy:  tensor(0.8721, dtype=torch.float64)\n",
      "val  Loss:  0.2110995042116143  Accuracy:  tensor(0.9302, dtype=torch.float64)\n",
      "Epoch  18  of  25\n",
      "train  Loss:  0.2921859592545864  Accuracy:  tensor(0.8895, dtype=torch.float64)\n",
      "val  Loss:  0.23356081588670266  Accuracy:  tensor(0.9302, dtype=torch.float64)\n",
      "Epoch  19  of  25\n",
      "train  Loss:  0.2615998418525208  Accuracy:  tensor(0.9070, dtype=torch.float64)\n",
      "val  Loss:  0.2257504144380259  Accuracy:  tensor(0.9070, dtype=torch.float64)\n",
      "Epoch  20  of  25\n",
      "train  Loss:  0.2877171162602513  Accuracy:  tensor(0.8953, dtype=torch.float64)\n",
      "val  Loss:  0.22775760098078915  Accuracy:  tensor(0.9302, dtype=torch.float64)\n",
      "Epoch  21  of  25\n",
      "train  Loss:  0.30871838253251344  Accuracy:  tensor(0.8837, dtype=torch.float64)\n",
      "val  Loss:  0.21384508180063824  Accuracy:  tensor(0.9302, dtype=torch.float64)\n",
      "Epoch  22  of  25\n",
      "train  Loss:  0.252252081972222  Accuracy:  tensor(0.9186, dtype=torch.float64)\n",
      "val  Loss:  0.23449360284694407  Accuracy:  tensor(0.8837, dtype=torch.float64)\n",
      "Epoch  23  of  25\n",
      "train  Loss:  0.2631099851325501  Accuracy:  tensor(0.8605, dtype=torch.float64)\n",
      "val  Loss:  0.22155745860275833  Accuracy:  tensor(0.9070, dtype=torch.float64)\n",
      "Epoch  24  of  25\n",
      "train  Loss:  0.26453221888216427  Accuracy:  tensor(0.9012, dtype=torch.float64)\n",
      "val  Loss:  0.20798154556474022  Accuracy:  tensor(0.9070, dtype=torch.float64)\n",
      "Epoch  25  of  25\n",
      "train  Loss:  0.2506555359550687  Accuracy:  tensor(0.9070, dtype=torch.float64)\n",
      "val  Loss:  0.21518885240305302  Accuracy:  tensor(0.9070, dtype=torch.float64)\n",
      "SqueezeNet1.0\n",
      "---------------\n",
      "Epoch  1  of  25\n",
      "train  Loss:  0.889579996120098  Accuracy:  tensor(0.6105, dtype=torch.float64)\n",
      "val  Loss:  0.24593301775843598  Accuracy:  tensor(0.9070, dtype=torch.float64)\n",
      "Epoch  2  of  25\n",
      "train  Loss:  0.46198527818155843  Accuracy:  tensor(0.8140, dtype=torch.float64)\n",
      "val  Loss:  0.35433838256569794  Accuracy:  tensor(0.8605, dtype=torch.float64)\n",
      "Epoch  3  of  25\n",
      "train  Loss:  0.45980616277733516  Accuracy:  tensor(0.8547, dtype=torch.float64)\n",
      "val  Loss:  0.18446617209634117  Accuracy:  tensor(0.9767, dtype=torch.float64)\n",
      "Epoch  4  of  25\n",
      "train  Loss:  0.2821234609325265  Accuracy:  tensor(0.9070, dtype=torch.float64)\n",
      "val  Loss:  0.20051668411077456  Accuracy:  tensor(0.9535, dtype=torch.float64)\n",
      "Epoch  5  of  25\n",
      "train  Loss:  0.30992817475871987  Accuracy:  tensor(0.8953, dtype=torch.float64)\n",
      "val  Loss:  0.19874379818522653  Accuracy:  tensor(0.9070, dtype=torch.float64)\n",
      "Epoch  6  of  25\n",
      "train  Loss:  0.30803608851030817  Accuracy:  tensor(0.9128, dtype=torch.float64)\n",
      "val  Loss:  0.2554737242848374  Accuracy:  tensor(0.8837, dtype=torch.float64)\n",
      "Epoch  7  of  25\n",
      "train  Loss:  0.24139068119747695  Accuracy:  tensor(0.8953, dtype=torch.float64)\n",
      "val  Loss:  0.17802897580834323  Accuracy:  tensor(0.9070, dtype=torch.float64)\n",
      "Epoch  8  of  25\n",
      "train  Loss:  0.26922038301478984  Accuracy:  tensor(0.9012, dtype=torch.float64)\n",
      "val  Loss:  0.2078431151634039  Accuracy:  tensor(0.8837, dtype=torch.float64)\n",
      "Epoch  9  of  25\n",
      "train  Loss:  0.30040971449641296  Accuracy:  tensor(0.8779, dtype=torch.float64)\n",
      "val  Loss:  0.1919970706451771  Accuracy:  tensor(0.9070, dtype=torch.float64)\n",
      "Epoch  10  of  25\n",
      "train  Loss:  0.2203150673141313  Accuracy:  tensor(0.8953, dtype=torch.float64)\n",
      "val  Loss:  0.22877283567606016  Accuracy:  tensor(0.9070, dtype=torch.float64)\n",
      "Epoch  11  of  25\n",
      "train  Loss:  0.2023645808357139  Accuracy:  tensor(0.9302, dtype=torch.float64)\n",
      "val  Loss:  0.1538245343538218  Accuracy:  tensor(0.9302, dtype=torch.float64)\n",
      "Epoch  12  of  25\n",
      "train  Loss:  0.2621507446259953  Accuracy:  tensor(0.8895, dtype=torch.float64)\n",
      "val  Loss:  0.2319339274233857  Accuracy:  tensor(0.8837, dtype=torch.float64)\n",
      "Epoch  13  of  25\n",
      "train  Loss:  0.238055334274852  Accuracy:  tensor(0.9012, dtype=torch.float64)\n",
      "val  Loss:  0.251271988416827  Accuracy:  tensor(0.9070, dtype=torch.float64)\n",
      "Epoch  14  of  25\n",
      "train  Loss:  0.18803221291624184  Accuracy:  tensor(0.9186, dtype=torch.float64)\n",
      "val  Loss:  0.23488373505926236  Accuracy:  tensor(0.9070, dtype=torch.float64)\n",
      "Epoch  15  of  25\n",
      "train  Loss:  0.12773973096248714  Accuracy:  tensor(0.9651, dtype=torch.float64)\n",
      "val  Loss:  0.22939172737993474  Accuracy:  tensor(0.8837, dtype=torch.float64)\n",
      "Epoch  16  of  25\n",
      "train  Loss:  0.19511592760682106  Accuracy:  tensor(0.9302, dtype=torch.float64)\n",
      "val  Loss:  0.20909806217478458  Accuracy:  tensor(0.9070, dtype=torch.float64)\n",
      "Epoch  17  of  25\n",
      "train  Loss:  0.2249220794629912  Accuracy:  tensor(0.9186, dtype=torch.float64)\n",
      "val  Loss:  0.2833646327950234  Accuracy:  tensor(0.9302, dtype=torch.float64)\n",
      "Epoch  18  of  25\n",
      "train  Loss:  0.24097496349104616  Accuracy:  tensor(0.9244, dtype=torch.float64)\n",
      "val  Loss:  0.2097979958255797  Accuracy:  tensor(0.9070, dtype=torch.float64)\n",
      "Epoch  19  of  25\n",
      "train  Loss:  0.13891879566620255  Accuracy:  tensor(0.9419, dtype=torch.float64)\n",
      "val  Loss:  0.24146738371183707  Accuracy:  tensor(0.8837, dtype=torch.float64)\n",
      "Epoch  20  of  25\n",
      "train  Loss:  0.16473891748505276  Accuracy:  tensor(0.9302, dtype=torch.float64)\n",
      "val  Loss:  0.2348907233627383  Accuracy:  tensor(0.8837, dtype=torch.float64)\n",
      "Epoch  21  of  25\n",
      "train  Loss:  0.1852918417994366  Accuracy:  tensor(0.9244, dtype=torch.float64)\n",
      "val  Loss:  0.21376007367575237  Accuracy:  tensor(0.9070, dtype=torch.float64)\n",
      "Epoch  22  of  25\n",
      "train  Loss:  0.2213862744961367  Accuracy:  tensor(0.8953, dtype=torch.float64)\n",
      "val  Loss:  0.31055697209342537  Accuracy:  tensor(0.9070, dtype=torch.float64)\n",
      "Epoch  23  of  25\n",
      "train  Loss:  0.14725042864420387  Accuracy:  tensor(0.9419, dtype=torch.float64)\n",
      "val  Loss:  0.271135046211786  Accuracy:  tensor(0.9070, dtype=torch.float64)\n",
      "Epoch  24  of  25\n",
      "train  Loss:  0.13079322770584462  Accuracy:  tensor(0.9419, dtype=torch.float64)\n",
      "val  Loss:  0.27087191535636435  Accuracy:  tensor(0.8837, dtype=torch.float64)\n",
      "Epoch  25  of  25\n",
      "train  Loss:  0.09427909345127815  Accuracy:  tensor(0.9651, dtype=torch.float64)\n",
      "val  Loss:  0.2833077397717293  Accuracy:  tensor(0.8605, dtype=torch.float64)\n"
     ]
    }
   ],
   "source": [
    "model_train_time, model_acc = get_model_results(list_of_models, model_name)"
   ]
  },
  {
   "cell_type": "code",
   "execution_count": 10,
   "metadata": {},
   "outputs": [
    {
     "name": "stdout",
     "output_type": "stream",
     "text": [
      "ResNet18\n",
      "---------------\n",
      "Elapsed Time:  1049.8626110553741\n",
      "Max Accuracy:  tensor(0.9535, dtype=torch.float64)\n",
      "---------------\n",
      "ResNet34\n",
      "---------------\n",
      "Elapsed Time:  1222.5414361953735\n",
      "Max Accuracy:  tensor(0.9535, dtype=torch.float64)\n",
      "---------------\n",
      "AlexNet\n",
      "---------------\n",
      "Elapsed Time:  694.2817440032959\n",
      "Max Accuracy:  tensor(0.9535, dtype=torch.float64)\n",
      "---------------\n",
      "VGG11\n",
      "---------------\n",
      "Elapsed Time:  1926.1785368919373\n",
      "Max Accuracy:  tensor(0.9302, dtype=torch.float64)\n",
      "---------------\n",
      "VGG13\n",
      "---------------\n",
      "Elapsed Time:  2836.8204250335693\n",
      "Max Accuracy:  tensor(0.9302, dtype=torch.float64)\n",
      "---------------\n",
      "VGG16\n",
      "---------------\n",
      "Elapsed Time:  3454.8307690620422\n",
      "Max Accuracy:  tensor(0.9302, dtype=torch.float64)\n",
      "---------------\n",
      "VGG19\n",
      "---------------\n",
      "Elapsed Time:  4947.522569894791\n",
      "Max Accuracy:  tensor(0.9302, dtype=torch.float64)\n",
      "---------------\n",
      "SqueezeNet1.0\n",
      "---------------\n",
      "Elapsed Time:  1094.5165967941284\n",
      "Max Accuracy:  tensor(0.9767, dtype=torch.float64)\n",
      "---------------\n"
     ]
    }
   ],
   "source": [
    "for value in model_name.values():\n",
    "    print(value)\n",
    "    print('-'*15)\n",
    "    print('Elapsed Time: ', model_train_time[value])\n",
    "    print('Max Accuracy: ', model_acc[value])\n",
    "    print('-'*15)"
   ]
  },
  {
   "cell_type": "markdown",
   "metadata": {},
   "source": [
    "## Define Function to Compare Results\n",
    "- create plots comparing obtained information about the models"
   ]
  },
  {
   "cell_type": "code",
   "execution_count": 14,
   "metadata": {},
   "outputs": [],
   "source": [
    "def plot_graphs(model_train_time, model_acc, model_layers):\n",
    "    \"\"\"Provide plots to compare results\n",
    "    INPUTS - model_train_time, model_acc, model_layers\n",
    "    RETURNS - None\"\"\"\n",
    "    df = pd.DataFrame.from_dict(model_train_time, orient = 'index')\n",
    "    df1 = pd.DataFrame.from_dict(model_acc, orient = 'index')\n",
    "    df2 = pd.DataFrame.from_dict(model_layers, orient = 'index')\n",
    "    df = df.merge(df1, left_index = True, right_index = True)\n",
    "    df = df.merge(df2, left_index = True, right_index = True)\n",
    "    df.rename(columns = {\"0_x\" : \"train_time\", \n",
    "                         \"0_y\" : \"max_accuracy\", \n",
    "                         0 : \"model_layers\"}, inplace = True)\n",
    "    df = df.reset_index()\n",
    "    \n",
    "    fig = px.bar(df, x = 'index', y = 'train_time', title = \"Comparison of Out-of-Box Train Time\")\n",
    "    fig.update_traces(marker_color = 'teal')\n",
    "    fig.show()\n",
    "    \n",
    "    fig = px.bar(df, x = 'index', y = 'max_accuracy', title = \"Comparison of Out-of-Box Accuracy\")\n",
    "    fig.update_traces(marker_color = 'teal')\n",
    "    fig.show()\n",
    "    \n",
    "    fig = px.bar(df, x = 'index', y = 'model_layers', title = \"Comparison of Out-of-Box Memory Requirements\")\n",
    "    fig.update_traces(marker_color = 'teal')\n",
    "    fig.show()\n",
    "    \n",
    "    fig = px.scatter(df, x = 'train_time', y = 'max_accuracy', size = 'model_layers', color = 'index', \n",
    "                     title = \"Comparison of Out-of-Box Models\", color_discrete_sequence = px.colors.qualitative.Bold)\n",
    "    fig.show()\n",
    "    \n",
    "    return\n",
    "    "
   ]
  },
  {
   "cell_type": "code",
   "execution_count": 15,
   "metadata": {},
   "outputs": [
    {
     "data": {
      "application/vnd.plotly.v1+json": {
       "config": {
        "plotlyServerURL": "https://plot.ly"
       },
       "data": [
        {
         "alignmentgroup": "True",
         "hovertemplate": "index=%{x}<br>train_time=%{y}<extra></extra>",
         "legendgroup": "",
         "marker": {
          "color": "teal"
         },
         "name": "",
         "offsetgroup": "",
         "orientation": "v",
         "showlegend": false,
         "textposition": "auto",
         "type": "bar",
         "x": [
          "ResNet18",
          "ResNet34",
          "AlexNet",
          "VGG11",
          "VGG13",
          "VGG16",
          "VGG19",
          "SqueezeNet1.0"
         ],
         "xaxis": "x",
         "y": [
          1049.8626110553741,
          1222.5414361953735,
          694.2817440032959,
          1926.1785368919373,
          2836.8204250335693,
          3454.8307690620422,
          4947.522569894791,
          1094.5165967941284
         ],
         "yaxis": "y"
        }
       ],
       "layout": {
        "autosize": true,
        "barmode": "relative",
        "legend": {
         "tracegroupgap": 0
        },
        "template": {
         "data": {
          "bar": [
           {
            "error_x": {
             "color": "#2a3f5f"
            },
            "error_y": {
             "color": "#2a3f5f"
            },
            "marker": {
             "line": {
              "color": "#E5ECF6",
              "width": 0.5
             }
            },
            "type": "bar"
           }
          ],
          "barpolar": [
           {
            "marker": {
             "line": {
              "color": "#E5ECF6",
              "width": 0.5
             }
            },
            "type": "barpolar"
           }
          ],
          "carpet": [
           {
            "aaxis": {
             "endlinecolor": "#2a3f5f",
             "gridcolor": "white",
             "linecolor": "white",
             "minorgridcolor": "white",
             "startlinecolor": "#2a3f5f"
            },
            "baxis": {
             "endlinecolor": "#2a3f5f",
             "gridcolor": "white",
             "linecolor": "white",
             "minorgridcolor": "white",
             "startlinecolor": "#2a3f5f"
            },
            "type": "carpet"
           }
          ],
          "choropleth": [
           {
            "colorbar": {
             "outlinewidth": 0,
             "ticks": ""
            },
            "type": "choropleth"
           }
          ],
          "contour": [
           {
            "colorbar": {
             "outlinewidth": 0,
             "ticks": ""
            },
            "colorscale": [
             [
              0,
              "#0d0887"
             ],
             [
              0.1111111111111111,
              "#46039f"
             ],
             [
              0.2222222222222222,
              "#7201a8"
             ],
             [
              0.3333333333333333,
              "#9c179e"
             ],
             [
              0.4444444444444444,
              "#bd3786"
             ],
             [
              0.5555555555555556,
              "#d8576b"
             ],
             [
              0.6666666666666666,
              "#ed7953"
             ],
             [
              0.7777777777777778,
              "#fb9f3a"
             ],
             [
              0.8888888888888888,
              "#fdca26"
             ],
             [
              1,
              "#f0f921"
             ]
            ],
            "type": "contour"
           }
          ],
          "contourcarpet": [
           {
            "colorbar": {
             "outlinewidth": 0,
             "ticks": ""
            },
            "type": "contourcarpet"
           }
          ],
          "heatmap": [
           {
            "colorbar": {
             "outlinewidth": 0,
             "ticks": ""
            },
            "colorscale": [
             [
              0,
              "#0d0887"
             ],
             [
              0.1111111111111111,
              "#46039f"
             ],
             [
              0.2222222222222222,
              "#7201a8"
             ],
             [
              0.3333333333333333,
              "#9c179e"
             ],
             [
              0.4444444444444444,
              "#bd3786"
             ],
             [
              0.5555555555555556,
              "#d8576b"
             ],
             [
              0.6666666666666666,
              "#ed7953"
             ],
             [
              0.7777777777777778,
              "#fb9f3a"
             ],
             [
              0.8888888888888888,
              "#fdca26"
             ],
             [
              1,
              "#f0f921"
             ]
            ],
            "type": "heatmap"
           }
          ],
          "heatmapgl": [
           {
            "colorbar": {
             "outlinewidth": 0,
             "ticks": ""
            },
            "colorscale": [
             [
              0,
              "#0d0887"
             ],
             [
              0.1111111111111111,
              "#46039f"
             ],
             [
              0.2222222222222222,
              "#7201a8"
             ],
             [
              0.3333333333333333,
              "#9c179e"
             ],
             [
              0.4444444444444444,
              "#bd3786"
             ],
             [
              0.5555555555555556,
              "#d8576b"
             ],
             [
              0.6666666666666666,
              "#ed7953"
             ],
             [
              0.7777777777777778,
              "#fb9f3a"
             ],
             [
              0.8888888888888888,
              "#fdca26"
             ],
             [
              1,
              "#f0f921"
             ]
            ],
            "type": "heatmapgl"
           }
          ],
          "histogram": [
           {
            "marker": {
             "colorbar": {
              "outlinewidth": 0,
              "ticks": ""
             }
            },
            "type": "histogram"
           }
          ],
          "histogram2d": [
           {
            "colorbar": {
             "outlinewidth": 0,
             "ticks": ""
            },
            "colorscale": [
             [
              0,
              "#0d0887"
             ],
             [
              0.1111111111111111,
              "#46039f"
             ],
             [
              0.2222222222222222,
              "#7201a8"
             ],
             [
              0.3333333333333333,
              "#9c179e"
             ],
             [
              0.4444444444444444,
              "#bd3786"
             ],
             [
              0.5555555555555556,
              "#d8576b"
             ],
             [
              0.6666666666666666,
              "#ed7953"
             ],
             [
              0.7777777777777778,
              "#fb9f3a"
             ],
             [
              0.8888888888888888,
              "#fdca26"
             ],
             [
              1,
              "#f0f921"
             ]
            ],
            "type": "histogram2d"
           }
          ],
          "histogram2dcontour": [
           {
            "colorbar": {
             "outlinewidth": 0,
             "ticks": ""
            },
            "colorscale": [
             [
              0,
              "#0d0887"
             ],
             [
              0.1111111111111111,
              "#46039f"
             ],
             [
              0.2222222222222222,
              "#7201a8"
             ],
             [
              0.3333333333333333,
              "#9c179e"
             ],
             [
              0.4444444444444444,
              "#bd3786"
             ],
             [
              0.5555555555555556,
              "#d8576b"
             ],
             [
              0.6666666666666666,
              "#ed7953"
             ],
             [
              0.7777777777777778,
              "#fb9f3a"
             ],
             [
              0.8888888888888888,
              "#fdca26"
             ],
             [
              1,
              "#f0f921"
             ]
            ],
            "type": "histogram2dcontour"
           }
          ],
          "mesh3d": [
           {
            "colorbar": {
             "outlinewidth": 0,
             "ticks": ""
            },
            "type": "mesh3d"
           }
          ],
          "parcoords": [
           {
            "line": {
             "colorbar": {
              "outlinewidth": 0,
              "ticks": ""
             }
            },
            "type": "parcoords"
           }
          ],
          "pie": [
           {
            "automargin": true,
            "type": "pie"
           }
          ],
          "scatter": [
           {
            "marker": {
             "colorbar": {
              "outlinewidth": 0,
              "ticks": ""
             }
            },
            "type": "scatter"
           }
          ],
          "scatter3d": [
           {
            "line": {
             "colorbar": {
              "outlinewidth": 0,
              "ticks": ""
             }
            },
            "marker": {
             "colorbar": {
              "outlinewidth": 0,
              "ticks": ""
             }
            },
            "type": "scatter3d"
           }
          ],
          "scattercarpet": [
           {
            "marker": {
             "colorbar": {
              "outlinewidth": 0,
              "ticks": ""
             }
            },
            "type": "scattercarpet"
           }
          ],
          "scattergeo": [
           {
            "marker": {
             "colorbar": {
              "outlinewidth": 0,
              "ticks": ""
             }
            },
            "type": "scattergeo"
           }
          ],
          "scattergl": [
           {
            "marker": {
             "colorbar": {
              "outlinewidth": 0,
              "ticks": ""
             }
            },
            "type": "scattergl"
           }
          ],
          "scattermapbox": [
           {
            "marker": {
             "colorbar": {
              "outlinewidth": 0,
              "ticks": ""
             }
            },
            "type": "scattermapbox"
           }
          ],
          "scatterpolar": [
           {
            "marker": {
             "colorbar": {
              "outlinewidth": 0,
              "ticks": ""
             }
            },
            "type": "scatterpolar"
           }
          ],
          "scatterpolargl": [
           {
            "marker": {
             "colorbar": {
              "outlinewidth": 0,
              "ticks": ""
             }
            },
            "type": "scatterpolargl"
           }
          ],
          "scatterternary": [
           {
            "marker": {
             "colorbar": {
              "outlinewidth": 0,
              "ticks": ""
             }
            },
            "type": "scatterternary"
           }
          ],
          "surface": [
           {
            "colorbar": {
             "outlinewidth": 0,
             "ticks": ""
            },
            "colorscale": [
             [
              0,
              "#0d0887"
             ],
             [
              0.1111111111111111,
              "#46039f"
             ],
             [
              0.2222222222222222,
              "#7201a8"
             ],
             [
              0.3333333333333333,
              "#9c179e"
             ],
             [
              0.4444444444444444,
              "#bd3786"
             ],
             [
              0.5555555555555556,
              "#d8576b"
             ],
             [
              0.6666666666666666,
              "#ed7953"
             ],
             [
              0.7777777777777778,
              "#fb9f3a"
             ],
             [
              0.8888888888888888,
              "#fdca26"
             ],
             [
              1,
              "#f0f921"
             ]
            ],
            "type": "surface"
           }
          ],
          "table": [
           {
            "cells": {
             "fill": {
              "color": "#EBF0F8"
             },
             "line": {
              "color": "white"
             }
            },
            "header": {
             "fill": {
              "color": "#C8D4E3"
             },
             "line": {
              "color": "white"
             }
            },
            "type": "table"
           }
          ]
         },
         "layout": {
          "annotationdefaults": {
           "arrowcolor": "#2a3f5f",
           "arrowhead": 0,
           "arrowwidth": 1
          },
          "coloraxis": {
           "colorbar": {
            "outlinewidth": 0,
            "ticks": ""
           }
          },
          "colorscale": {
           "diverging": [
            [
             0,
             "#8e0152"
            ],
            [
             0.1,
             "#c51b7d"
            ],
            [
             0.2,
             "#de77ae"
            ],
            [
             0.3,
             "#f1b6da"
            ],
            [
             0.4,
             "#fde0ef"
            ],
            [
             0.5,
             "#f7f7f7"
            ],
            [
             0.6,
             "#e6f5d0"
            ],
            [
             0.7,
             "#b8e186"
            ],
            [
             0.8,
             "#7fbc41"
            ],
            [
             0.9,
             "#4d9221"
            ],
            [
             1,
             "#276419"
            ]
           ],
           "sequential": [
            [
             0,
             "#0d0887"
            ],
            [
             0.1111111111111111,
             "#46039f"
            ],
            [
             0.2222222222222222,
             "#7201a8"
            ],
            [
             0.3333333333333333,
             "#9c179e"
            ],
            [
             0.4444444444444444,
             "#bd3786"
            ],
            [
             0.5555555555555556,
             "#d8576b"
            ],
            [
             0.6666666666666666,
             "#ed7953"
            ],
            [
             0.7777777777777778,
             "#fb9f3a"
            ],
            [
             0.8888888888888888,
             "#fdca26"
            ],
            [
             1,
             "#f0f921"
            ]
           ],
           "sequentialminus": [
            [
             0,
             "#0d0887"
            ],
            [
             0.1111111111111111,
             "#46039f"
            ],
            [
             0.2222222222222222,
             "#7201a8"
            ],
            [
             0.3333333333333333,
             "#9c179e"
            ],
            [
             0.4444444444444444,
             "#bd3786"
            ],
            [
             0.5555555555555556,
             "#d8576b"
            ],
            [
             0.6666666666666666,
             "#ed7953"
            ],
            [
             0.7777777777777778,
             "#fb9f3a"
            ],
            [
             0.8888888888888888,
             "#fdca26"
            ],
            [
             1,
             "#f0f921"
            ]
           ]
          },
          "colorway": [
           "#636efa",
           "#EF553B",
           "#00cc96",
           "#ab63fa",
           "#FFA15A",
           "#19d3f3",
           "#FF6692",
           "#B6E880",
           "#FF97FF",
           "#FECB52"
          ],
          "font": {
           "color": "#2a3f5f"
          },
          "geo": {
           "bgcolor": "white",
           "lakecolor": "white",
           "landcolor": "#E5ECF6",
           "showlakes": true,
           "showland": true,
           "subunitcolor": "white"
          },
          "hoverlabel": {
           "align": "left"
          },
          "hovermode": "closest",
          "mapbox": {
           "style": "light"
          },
          "paper_bgcolor": "white",
          "plot_bgcolor": "#E5ECF6",
          "polar": {
           "angularaxis": {
            "gridcolor": "white",
            "linecolor": "white",
            "ticks": ""
           },
           "bgcolor": "#E5ECF6",
           "radialaxis": {
            "gridcolor": "white",
            "linecolor": "white",
            "ticks": ""
           }
          },
          "scene": {
           "xaxis": {
            "backgroundcolor": "#E5ECF6",
            "gridcolor": "white",
            "gridwidth": 2,
            "linecolor": "white",
            "showbackground": true,
            "ticks": "",
            "zerolinecolor": "white"
           },
           "yaxis": {
            "backgroundcolor": "#E5ECF6",
            "gridcolor": "white",
            "gridwidth": 2,
            "linecolor": "white",
            "showbackground": true,
            "ticks": "",
            "zerolinecolor": "white"
           },
           "zaxis": {
            "backgroundcolor": "#E5ECF6",
            "gridcolor": "white",
            "gridwidth": 2,
            "linecolor": "white",
            "showbackground": true,
            "ticks": "",
            "zerolinecolor": "white"
           }
          },
          "shapedefaults": {
           "line": {
            "color": "#2a3f5f"
           }
          },
          "ternary": {
           "aaxis": {
            "gridcolor": "white",
            "linecolor": "white",
            "ticks": ""
           },
           "baxis": {
            "gridcolor": "white",
            "linecolor": "white",
            "ticks": ""
           },
           "bgcolor": "#E5ECF6",
           "caxis": {
            "gridcolor": "white",
            "linecolor": "white",
            "ticks": ""
           }
          },
          "title": {
           "x": 0.05
          },
          "xaxis": {
           "automargin": true,
           "gridcolor": "white",
           "linecolor": "white",
           "ticks": "",
           "title": {
            "standoff": 15
           },
           "zerolinecolor": "white",
           "zerolinewidth": 2
          },
          "yaxis": {
           "automargin": true,
           "gridcolor": "white",
           "linecolor": "white",
           "ticks": "",
           "title": {
            "standoff": 15
           },
           "zerolinecolor": "white",
           "zerolinewidth": 2
          }
         }
        },
        "title": {
         "text": "Comparison of Out-of-Box Train Time"
        },
        "xaxis": {
         "anchor": "y",
         "autorange": true,
         "domain": [
          0,
          1
         ],
         "range": [
          -0.5,
          7.5
         ],
         "title": {
          "text": "index"
         },
         "type": "category"
        },
        "yaxis": {
         "anchor": "x",
         "autorange": true,
         "domain": [
          0,
          1
         ],
         "range": [
          0,
          5207.918494626096
         ],
         "title": {
          "text": "train_time"
         },
         "type": "linear"
        }
       }
      },
      "image/png": "[encoded data removed]",
      "text/html": [
       "<div>                            <div id=\"5cf8beac-2316-4283-9eb7-54530b0c93cd\" class=\"plotly-graph-div\" style=\"height:525px; width:100%;\"></div>            <script type=\"text/javascript\">                require([\"plotly\"], function(Plotly) {                    window.PLOTLYENV=window.PLOTLYENV || {};                                    if (document.getElementById(\"5cf8beac-2316-4283-9eb7-54530b0c93cd\")) {                    Plotly.newPlot(                        \"5cf8beac-2316-4283-9eb7-54530b0c93cd\",                        [{\"alignmentgroup\": \"True\", \"hovertemplate\": \"index=%{x}<br>train_time=%{y}<extra></extra>\", \"legendgroup\": \"\", \"marker\": {\"color\": \"teal\"}, \"name\": \"\", \"offsetgroup\": \"\", \"orientation\": \"v\", \"showlegend\": false, \"textposition\": \"auto\", \"type\": \"bar\", \"x\": [\"ResNet18\", \"ResNet34\", \"AlexNet\", \"VGG11\", \"VGG13\", \"VGG16\", \"VGG19\", \"SqueezeNet1.0\"], \"xaxis\": \"x\", \"y\": [1049.8626110553741, 1222.5414361953735, 694.2817440032959, 1926.1785368919373, 2836.8204250335693, 3454.8307690620422, 4947.522569894791, 1094.5165967941284], \"yaxis\": \"y\"}],                        {\"barmode\": \"relative\", \"legend\": {\"tracegroupgap\": 0}, \"template\": {\"data\": {\"bar\": [{\"error_x\": {\"color\": \"#2a3f5f\"}, \"error_y\": {\"color\": \"#2a3f5f\"}, \"marker\": {\"line\": {\"color\": \"#E5ECF6\", \"width\": 0.5}}, \"type\": \"bar\"}], \"barpolar\": [{\"marker\": {\"line\": {\"color\": \"#E5ECF6\", \"width\": 0.5}}, \"type\": \"barpolar\"}], \"carpet\": [{\"aaxis\": {\"endlinecolor\": \"#2a3f5f\", \"gridcolor\": \"white\", \"linecolor\": \"white\", \"minorgridcolor\": \"white\", \"startlinecolor\": \"#2a3f5f\"}, \"baxis\": {\"endlinecolor\": \"#2a3f5f\", \"gridcolor\": \"white\", \"linecolor\": \"white\", \"minorgridcolor\": \"white\", \"startlinecolor\": \"#2a3f5f\"}, \"type\": \"carpet\"}], \"choropleth\": [{\"colorbar\": {\"outlinewidth\": 0, \"ticks\": \"\"}, \"type\": \"choropleth\"}], \"contour\": [{\"colorbar\": {\"outlinewidth\": 0, \"ticks\": \"\"}, \"colorscale\": [[0.0, \"#0d0887\"], [0.1111111111111111, \"#46039f\"], [0.2222222222222222, \"#7201a8\"], [0.3333333333333333, \"#9c179e\"], [0.4444444444444444, \"#bd3786\"], [0.5555555555555556, \"#d8576b\"], [0.6666666666666666, \"#ed7953\"], [0.7777777777777778, \"#fb9f3a\"], [0.8888888888888888, \"#fdca26\"], [1.0, \"#f0f921\"]], \"type\": \"contour\"}], \"contourcarpet\": [{\"colorbar\": {\"outlinewidth\": 0, \"ticks\": \"\"}, \"type\": \"contourcarpet\"}], \"heatmap\": [{\"colorbar\": {\"outlinewidth\": 0, \"ticks\": \"\"}, \"colorscale\": [[0.0, \"#0d0887\"], [0.1111111111111111, \"#46039f\"], [0.2222222222222222, \"#7201a8\"], [0.3333333333333333, \"#9c179e\"], [0.4444444444444444, \"#bd3786\"], [0.5555555555555556, \"#d8576b\"], [0.6666666666666666, \"#ed7953\"], [0.7777777777777778, \"#fb9f3a\"], [0.8888888888888888, \"#fdca26\"], [1.0, \"#f0f921\"]], \"type\": \"heatmap\"}], \"heatmapgl\": [{\"colorbar\": {\"outlinewidth\": 0, \"ticks\": \"\"}, \"colorscale\": [[0.0, \"#0d0887\"], [0.1111111111111111, \"#46039f\"], [0.2222222222222222, \"#7201a8\"], [0.3333333333333333, \"#9c179e\"], [0.4444444444444444, \"#bd3786\"], [0.5555555555555556, \"#d8576b\"], [0.6666666666666666, \"#ed7953\"], [0.7777777777777778, \"#fb9f3a\"], [0.8888888888888888, \"#fdca26\"], [1.0, \"#f0f921\"]], \"type\": \"heatmapgl\"}], \"histogram\": [{\"marker\": {\"colorbar\": {\"outlinewidth\": 0, \"ticks\": \"\"}}, \"type\": \"histogram\"}], \"histogram2d\": [{\"colorbar\": {\"outlinewidth\": 0, \"ticks\": \"\"}, \"colorscale\": [[0.0, \"#0d0887\"], [0.1111111111111111, \"#46039f\"], [0.2222222222222222, \"#7201a8\"], [0.3333333333333333, \"#9c179e\"], [0.4444444444444444, \"#bd3786\"], [0.5555555555555556, \"#d8576b\"], [0.6666666666666666, \"#ed7953\"], [0.7777777777777778, \"#fb9f3a\"], [0.8888888888888888, \"#fdca26\"], [1.0, \"#f0f921\"]], \"type\": \"histogram2d\"}], \"histogram2dcontour\": [{\"colorbar\": {\"outlinewidth\": 0, \"ticks\": \"\"}, \"colorscale\": [[0.0, \"#0d0887\"], [0.1111111111111111, \"#46039f\"], [0.2222222222222222, \"#7201a8\"], [0.3333333333333333, \"#9c179e\"], [0.4444444444444444, \"#bd3786\"], [0.5555555555555556, \"#d8576b\"], [0.6666666666666666, \"#ed7953\"], [0.7777777777777778, \"#fb9f3a\"], [0.8888888888888888, \"#fdca26\"], [1.0, \"#f0f921\"]], \"type\": \"histogram2dcontour\"}], \"mesh3d\": [{\"colorbar\": {\"outlinewidth\": 0, \"ticks\": \"\"}, \"type\": \"mesh3d\"}], \"parcoords\": [{\"line\": {\"colorbar\": {\"outlinewidth\": 0, \"ticks\": \"\"}}, \"type\": \"parcoords\"}], \"pie\": [{\"automargin\": true, \"type\": \"pie\"}], \"scatter\": [{\"marker\": {\"colorbar\": {\"outlinewidth\": 0, \"ticks\": \"\"}}, \"type\": \"scatter\"}], \"scatter3d\": [{\"line\": {\"colorbar\": {\"outlinewidth\": 0, \"ticks\": \"\"}}, \"marker\": {\"colorbar\": {\"outlinewidth\": 0, \"ticks\": \"\"}}, \"type\": \"scatter3d\"}], \"scattercarpet\": [{\"marker\": {\"colorbar\": {\"outlinewidth\": 0, \"ticks\": \"\"}}, \"type\": \"scattercarpet\"}], \"scattergeo\": [{\"marker\": {\"colorbar\": {\"outlinewidth\": 0, \"ticks\": \"\"}}, \"type\": \"scattergeo\"}], \"scattergl\": [{\"marker\": {\"colorbar\": {\"outlinewidth\": 0, \"ticks\": \"\"}}, \"type\": \"scattergl\"}], \"scattermapbox\": [{\"marker\": {\"colorbar\": {\"outlinewidth\": 0, \"ticks\": \"\"}}, \"type\": \"scattermapbox\"}], \"scatterpolar\": [{\"marker\": {\"colorbar\": {\"outlinewidth\": 0, \"ticks\": \"\"}}, \"type\": \"scatterpolar\"}], \"scatterpolargl\": [{\"marker\": {\"colorbar\": {\"outlinewidth\": 0, \"ticks\": \"\"}}, \"type\": \"scatterpolargl\"}], \"scatterternary\": [{\"marker\": {\"colorbar\": {\"outlinewidth\": 0, \"ticks\": \"\"}}, \"type\": \"scatterternary\"}], \"surface\": [{\"colorbar\": {\"outlinewidth\": 0, \"ticks\": \"\"}, \"colorscale\": [[0.0, \"#0d0887\"], [0.1111111111111111, \"#46039f\"], [0.2222222222222222, \"#7201a8\"], [0.3333333333333333, \"#9c179e\"], [0.4444444444444444, \"#bd3786\"], [0.5555555555555556, \"#d8576b\"], [0.6666666666666666, \"#ed7953\"], [0.7777777777777778, \"#fb9f3a\"], [0.8888888888888888, \"#fdca26\"], [1.0, \"#f0f921\"]], \"type\": \"surface\"}], \"table\": [{\"cells\": {\"fill\": {\"color\": \"#EBF0F8\"}, \"line\": {\"color\": \"white\"}}, \"header\": {\"fill\": {\"color\": \"#C8D4E3\"}, \"line\": {\"color\": \"white\"}}, \"type\": \"table\"}]}, \"layout\": {\"annotationdefaults\": {\"arrowcolor\": \"#2a3f5f\", \"arrowhead\": 0, \"arrowwidth\": 1}, \"coloraxis\": {\"colorbar\": {\"outlinewidth\": 0, \"ticks\": \"\"}}, \"colorscale\": {\"diverging\": [[0, \"#8e0152\"], [0.1, \"#c51b7d\"], [0.2, \"#de77ae\"], [0.3, \"#f1b6da\"], [0.4, \"#fde0ef\"], [0.5, \"#f7f7f7\"], [0.6, \"#e6f5d0\"], [0.7, \"#b8e186\"], [0.8, \"#7fbc41\"], [0.9, \"#4d9221\"], [1, \"#276419\"]], \"sequential\": [[0.0, \"#0d0887\"], [0.1111111111111111, \"#46039f\"], [0.2222222222222222, \"#7201a8\"], [0.3333333333333333, \"#9c179e\"], [0.4444444444444444, \"#bd3786\"], [0.5555555555555556, \"#d8576b\"], [0.6666666666666666, \"#ed7953\"], [0.7777777777777778, \"#fb9f3a\"], [0.8888888888888888, \"#fdca26\"], [1.0, \"#f0f921\"]], \"sequentialminus\": [[0.0, \"#0d0887\"], [0.1111111111111111, \"#46039f\"], [0.2222222222222222, \"#7201a8\"], [0.3333333333333333, \"#9c179e\"], [0.4444444444444444, \"#bd3786\"], [0.5555555555555556, \"#d8576b\"], [0.6666666666666666, \"#ed7953\"], [0.7777777777777778, \"#fb9f3a\"], [0.8888888888888888, \"#fdca26\"], [1.0, \"#f0f921\"]]}, \"colorway\": [\"#636efa\", \"#EF553B\", \"#00cc96\", \"#ab63fa\", \"#FFA15A\", \"#19d3f3\", \"#FF6692\", \"#B6E880\", \"#FF97FF\", \"#FECB52\"], \"font\": {\"color\": \"#2a3f5f\"}, \"geo\": {\"bgcolor\": \"white\", \"lakecolor\": \"white\", \"landcolor\": \"#E5ECF6\", \"showlakes\": true, \"showland\": true, \"subunitcolor\": \"white\"}, \"hoverlabel\": {\"align\": \"left\"}, \"hovermode\": \"closest\", \"mapbox\": {\"style\": \"light\"}, \"paper_bgcolor\": \"white\", \"plot_bgcolor\": \"#E5ECF6\", \"polar\": {\"angularaxis\": {\"gridcolor\": \"white\", \"linecolor\": \"white\", \"ticks\": \"\"}, \"bgcolor\": \"#E5ECF6\", \"radialaxis\": {\"gridcolor\": \"white\", \"linecolor\": \"white\", \"ticks\": \"\"}}, \"scene\": {\"xaxis\": {\"backgroundcolor\": \"#E5ECF6\", \"gridcolor\": \"white\", \"gridwidth\": 2, \"linecolor\": \"white\", \"showbackground\": true, \"ticks\": \"\", \"zerolinecolor\": \"white\"}, \"yaxis\": {\"backgroundcolor\": \"#E5ECF6\", \"gridcolor\": \"white\", \"gridwidth\": 2, \"linecolor\": \"white\", \"showbackground\": true, \"ticks\": \"\", \"zerolinecolor\": \"white\"}, \"zaxis\": {\"backgroundcolor\": \"#E5ECF6\", \"gridcolor\": \"white\", \"gridwidth\": 2, \"linecolor\": \"white\", \"showbackground\": true, \"ticks\": \"\", \"zerolinecolor\": \"white\"}}, \"shapedefaults\": {\"line\": {\"color\": \"#2a3f5f\"}}, \"ternary\": {\"aaxis\": {\"gridcolor\": \"white\", \"linecolor\": \"white\", \"ticks\": \"\"}, \"baxis\": {\"gridcolor\": \"white\", \"linecolor\": \"white\", \"ticks\": \"\"}, \"bgcolor\": \"#E5ECF6\", \"caxis\": {\"gridcolor\": \"white\", \"linecolor\": \"white\", \"ticks\": \"\"}}, \"title\": {\"x\": 0.05}, \"xaxis\": {\"automargin\": true, \"gridcolor\": \"white\", \"linecolor\": \"white\", \"ticks\": \"\", \"title\": {\"standoff\": 15}, \"zerolinecolor\": \"white\", \"zerolinewidth\": 2}, \"yaxis\": {\"automargin\": true, \"gridcolor\": \"white\", \"linecolor\": \"white\", \"ticks\": \"\", \"title\": {\"standoff\": 15}, \"zerolinecolor\": \"white\", \"zerolinewidth\": 2}}}, \"title\": {\"text\": \"Comparison of Out-of-Box Train Time\"}, \"xaxis\": {\"anchor\": \"y\", \"domain\": [0.0, 1.0], \"title\": {\"text\": \"index\"}}, \"yaxis\": {\"anchor\": \"x\", \"domain\": [0.0, 1.0], \"title\": {\"text\": \"train_time\"}}},                        {\"responsive\": true}                    ).then(function(){\n",
       "                            \n",
       "var gd = document.getElementById('5cf8beac-2316-4283-9eb7-54530b0c93cd');\n",
       "var x = new MutationObserver(function (mutations, observer) {{\n",
       "        var display = window.getComputedStyle(gd).display;\n",
       "        if (!display || display === 'none') {{\n",
       "            console.log([gd, 'removed!']);\n",
       "            Plotly.purge(gd);\n",
       "            observer.disconnect();\n",
       "        }}\n",
       "}});\n",
       "\n",
       "// Listen for the removal of the full notebook cells\n",
       "var notebookContainer = gd.closest('#notebook-container');\n",
       "if (notebookContainer) {{\n",
       "    x.observe(notebookContainer, {childList: true});\n",
       "}}\n",
       "\n",
       "// Listen for the clearing of the current output cell\n",
       "var outputEl = gd.closest('.output');\n",
       "if (outputEl) {{\n",
       "    x.observe(outputEl, {childList: true});\n",
       "}}\n",
       "\n",
       "                        })                };                });            </script>        </div>"
      ]
     },
     "metadata": {},
     "output_type": "display_data"
    },
    {
     "data": {
      "application/vnd.plotly.v1+json": {
       "config": {
        "plotlyServerURL": "https://plot.ly"
       },
       "data": [
        {
         "alignmentgroup": "True",
         "hovertemplate": "index=%{x}<br>max_accuracy=%{y}<extra></extra>",
         "legendgroup": "",
         "marker": {
          "color": "teal"
         },
         "name": "",
         "offsetgroup": "",
         "orientation": "v",
         "showlegend": false,
         "textposition": "auto",
         "type": "bar",
         "x": [
          "ResNet18",
          "ResNet34",
          "AlexNet",
          "VGG11",
          "VGG13",
          "VGG16",
          "VGG19",
          "SqueezeNet1.0"
         ],
         "xaxis": "x",
         "y": [
          0.9534883720930233,
          0.9534883720930233,
          0.9534883720930233,
          0.9302325581395349,
          0.9302325581395349,
          0.9302325581395349,
          0.9302325581395349,
          0.9767441860465116
         ],
         "yaxis": "y"
        }
       ],
       "layout": {
        "autosize": true,
        "barmode": "relative",
        "legend": {
         "tracegroupgap": 0
        },
        "template": {
         "data": {
          "bar": [
           {
            "error_x": {
             "color": "#2a3f5f"
            },
            "error_y": {
             "color": "#2a3f5f"
            },
            "marker": {
             "line": {
              "color": "#E5ECF6",
              "width": 0.5
             }
            },
            "type": "bar"
           }
          ],
          "barpolar": [
           {
            "marker": {
             "line": {
              "color": "#E5ECF6",
              "width": 0.5
             }
            },
            "type": "barpolar"
           }
          ],
          "carpet": [
           {
            "aaxis": {
             "endlinecolor": "#2a3f5f",
             "gridcolor": "white",
             "linecolor": "white",
             "minorgridcolor": "white",
             "startlinecolor": "#2a3f5f"
            },
            "baxis": {
             "endlinecolor": "#2a3f5f",
             "gridcolor": "white",
             "linecolor": "white",
             "minorgridcolor": "white",
             "startlinecolor": "#2a3f5f"
            },
            "type": "carpet"
           }
          ],
          "choropleth": [
           {
            "colorbar": {
             "outlinewidth": 0,
             "ticks": ""
            },
            "type": "choropleth"
           }
          ],
          "contour": [
           {
            "colorbar": {
             "outlinewidth": 0,
             "ticks": ""
            },
            "colorscale": [
             [
              0,
              "#0d0887"
             ],
             [
              0.1111111111111111,
              "#46039f"
             ],
             [
              0.2222222222222222,
              "#7201a8"
             ],
             [
              0.3333333333333333,
              "#9c179e"
             ],
             [
              0.4444444444444444,
              "#bd3786"
             ],
             [
              0.5555555555555556,
              "#d8576b"
             ],
             [
              0.6666666666666666,
              "#ed7953"
             ],
             [
              0.7777777777777778,
              "#fb9f3a"
             ],
             [
              0.8888888888888888,
              "#fdca26"
             ],
             [
              1,
              "#f0f921"
             ]
            ],
            "type": "contour"
           }
          ],
          "contourcarpet": [
           {
            "colorbar": {
             "outlinewidth": 0,
             "ticks": ""
            },
            "type": "contourcarpet"
           }
          ],
          "heatmap": [
           {
            "colorbar": {
             "outlinewidth": 0,
             "ticks": ""
            },
            "colorscale": [
             [
              0,
              "#0d0887"
             ],
             [
              0.1111111111111111,
              "#46039f"
             ],
             [
              0.2222222222222222,
              "#7201a8"
             ],
             [
              0.3333333333333333,
              "#9c179e"
             ],
             [
              0.4444444444444444,
              "#bd3786"
             ],
             [
              0.5555555555555556,
              "#d8576b"
             ],
             [
              0.6666666666666666,
              "#ed7953"
             ],
             [
              0.7777777777777778,
              "#fb9f3a"
             ],
             [
              0.8888888888888888,
              "#fdca26"
             ],
             [
              1,
              "#f0f921"
             ]
            ],
            "type": "heatmap"
           }
          ],
          "heatmapgl": [
           {
            "colorbar": {
             "outlinewidth": 0,
             "ticks": ""
            },
            "colorscale": [
             [
              0,
              "#0d0887"
             ],
             [
              0.1111111111111111,
              "#46039f"
             ],
             [
              0.2222222222222222,
              "#7201a8"
             ],
             [
              0.3333333333333333,
              "#9c179e"
             ],
             [
              0.4444444444444444,
              "#bd3786"
             ],
             [
              0.5555555555555556,
              "#d8576b"
             ],
             [
              0.6666666666666666,
              "#ed7953"
             ],
             [
              0.7777777777777778,
              "#fb9f3a"
             ],
             [
              0.8888888888888888,
              "#fdca26"
             ],
             [
              1,
              "#f0f921"
             ]
            ],
            "type": "heatmapgl"
           }
          ],
          "histogram": [
           {
            "marker": {
             "colorbar": {
              "outlinewidth": 0,
              "ticks": ""
             }
            },
            "type": "histogram"
           }
          ],
          "histogram2d": [
           {
            "colorbar": {
             "outlinewidth": 0,
             "ticks": ""
            },
            "colorscale": [
             [
              0,
              "#0d0887"
             ],
             [
              0.1111111111111111,
              "#46039f"
             ],
             [
              0.2222222222222222,
              "#7201a8"
             ],
             [
              0.3333333333333333,
              "#9c179e"
             ],
             [
              0.4444444444444444,
              "#bd3786"
             ],
             [
              0.5555555555555556,
              "#d8576b"
             ],
             [
              0.6666666666666666,
              "#ed7953"
             ],
             [
              0.7777777777777778,
              "#fb9f3a"
             ],
             [
              0.8888888888888888,
              "#fdca26"
             ],
             [
              1,
              "#f0f921"
             ]
            ],
            "type": "histogram2d"
           }
          ],
          "histogram2dcontour": [
           {
            "colorbar": {
             "outlinewidth": 0,
             "ticks": ""
            },
            "colorscale": [
             [
              0,
              "#0d0887"
             ],
             [
              0.1111111111111111,
              "#46039f"
             ],
             [
              0.2222222222222222,
              "#7201a8"
             ],
             [
              0.3333333333333333,
              "#9c179e"
             ],
             [
              0.4444444444444444,
              "#bd3786"
             ],
             [
              0.5555555555555556,
              "#d8576b"
             ],
             [
              0.6666666666666666,
              "#ed7953"
             ],
             [
              0.7777777777777778,
              "#fb9f3a"
             ],
             [
              0.8888888888888888,
              "#fdca26"
             ],
             [
              1,
              "#f0f921"
             ]
            ],
            "type": "histogram2dcontour"
           }
          ],
          "mesh3d": [
           {
            "colorbar": {
             "outlinewidth": 0,
             "ticks": ""
            },
            "type": "mesh3d"
           }
          ],
          "parcoords": [
           {
            "line": {
             "colorbar": {
              "outlinewidth": 0,
              "ticks": ""
             }
            },
            "type": "parcoords"
           }
          ],
          "pie": [
           {
            "automargin": true,
            "type": "pie"
           }
          ],
          "scatter": [
           {
            "marker": {
             "colorbar": {
              "outlinewidth": 0,
              "ticks": ""
             }
            },
            "type": "scatter"
           }
          ],
          "scatter3d": [
           {
            "line": {
             "colorbar": {
              "outlinewidth": 0,
              "ticks": ""
             }
            },
            "marker": {
             "colorbar": {
              "outlinewidth": 0,
              "ticks": ""
             }
            },
            "type": "scatter3d"
           }
          ],
          "scattercarpet": [
           {
            "marker": {
             "colorbar": {
              "outlinewidth": 0,
              "ticks": ""
             }
            },
            "type": "scattercarpet"
           }
          ],
          "scattergeo": [
           {
            "marker": {
             "colorbar": {
              "outlinewidth": 0,
              "ticks": ""
             }
            },
            "type": "scattergeo"
           }
          ],
          "scattergl": [
           {
            "marker": {
             "colorbar": {
              "outlinewidth": 0,
              "ticks": ""
             }
            },
            "type": "scattergl"
           }
          ],
          "scattermapbox": [
           {
            "marker": {
             "colorbar": {
              "outlinewidth": 0,
              "ticks": ""
             }
            },
            "type": "scattermapbox"
           }
          ],
          "scatterpolar": [
           {
            "marker": {
             "colorbar": {
              "outlinewidth": 0,
              "ticks": ""
             }
            },
            "type": "scatterpolar"
           }
          ],
          "scatterpolargl": [
           {
            "marker": {
             "colorbar": {
              "outlinewidth": 0,
              "ticks": ""
             }
            },
            "type": "scatterpolargl"
           }
          ],
          "scatterternary": [
           {
            "marker": {
             "colorbar": {
              "outlinewidth": 0,
              "ticks": ""
             }
            },
            "type": "scatterternary"
           }
          ],
          "surface": [
           {
            "colorbar": {
             "outlinewidth": 0,
             "ticks": ""
            },
            "colorscale": [
             [
              0,
              "#0d0887"
             ],
             [
              0.1111111111111111,
              "#46039f"
             ],
             [
              0.2222222222222222,
              "#7201a8"
             ],
             [
              0.3333333333333333,
              "#9c179e"
             ],
             [
              0.4444444444444444,
              "#bd3786"
             ],
             [
              0.5555555555555556,
              "#d8576b"
             ],
             [
              0.6666666666666666,
              "#ed7953"
             ],
             [
              0.7777777777777778,
              "#fb9f3a"
             ],
             [
              0.8888888888888888,
              "#fdca26"
             ],
             [
              1,
              "#f0f921"
             ]
            ],
            "type": "surface"
           }
          ],
          "table": [
           {
            "cells": {
             "fill": {
              "color": "#EBF0F8"
             },
             "line": {
              "color": "white"
             }
            },
            "header": {
             "fill": {
              "color": "#C8D4E3"
             },
             "line": {
              "color": "white"
             }
            },
            "type": "table"
           }
          ]
         },
         "layout": {
          "annotationdefaults": {
           "arrowcolor": "#2a3f5f",
           "arrowhead": 0,
           "arrowwidth": 1
          },
          "coloraxis": {
           "colorbar": {
            "outlinewidth": 0,
            "ticks": ""
           }
          },
          "colorscale": {
           "diverging": [
            [
             0,
             "#8e0152"
            ],
            [
             0.1,
             "#c51b7d"
            ],
            [
             0.2,
             "#de77ae"
            ],
            [
             0.3,
             "#f1b6da"
            ],
            [
             0.4,
             "#fde0ef"
            ],
            [
             0.5,
             "#f7f7f7"
            ],
            [
             0.6,
             "#e6f5d0"
            ],
            [
             0.7,
             "#b8e186"
            ],
            [
             0.8,
             "#7fbc41"
            ],
            [
             0.9,
             "#4d9221"
            ],
            [
             1,
             "#276419"
            ]
           ],
           "sequential": [
            [
             0,
             "#0d0887"
            ],
            [
             0.1111111111111111,
             "#46039f"
            ],
            [
             0.2222222222222222,
             "#7201a8"
            ],
            [
             0.3333333333333333,
             "#9c179e"
            ],
            [
             0.4444444444444444,
             "#bd3786"
            ],
            [
             0.5555555555555556,
             "#d8576b"
            ],
            [
             0.6666666666666666,
             "#ed7953"
            ],
            [
             0.7777777777777778,
             "#fb9f3a"
            ],
            [
             0.8888888888888888,
             "#fdca26"
            ],
            [
             1,
             "#f0f921"
            ]
           ],
           "sequentialminus": [
            [
             0,
             "#0d0887"
            ],
            [
             0.1111111111111111,
             "#46039f"
            ],
            [
             0.2222222222222222,
             "#7201a8"
            ],
            [
             0.3333333333333333,
             "#9c179e"
            ],
            [
             0.4444444444444444,
             "#bd3786"
            ],
            [
             0.5555555555555556,
             "#d8576b"
            ],
            [
             0.6666666666666666,
             "#ed7953"
            ],
            [
             0.7777777777777778,
             "#fb9f3a"
            ],
            [
             0.8888888888888888,
             "#fdca26"
            ],
            [
             1,
             "#f0f921"
            ]
           ]
          },
          "colorway": [
           "#636efa",
           "#EF553B",
           "#00cc96",
           "#ab63fa",
           "#FFA15A",
           "#19d3f3",
           "#FF6692",
           "#B6E880",
           "#FF97FF",
           "#FECB52"
          ],
          "font": {
           "color": "#2a3f5f"
          },
          "geo": {
           "bgcolor": "white",
           "lakecolor": "white",
           "landcolor": "#E5ECF6",
           "showlakes": true,
           "showland": true,
           "subunitcolor": "white"
          },
          "hoverlabel": {
           "align": "left"
          },
          "hovermode": "closest",
          "mapbox": {
           "style": "light"
          },
          "paper_bgcolor": "white",
          "plot_bgcolor": "#E5ECF6",
          "polar": {
           "angularaxis": {
            "gridcolor": "white",
            "linecolor": "white",
            "ticks": ""
           },
           "bgcolor": "#E5ECF6",
           "radialaxis": {
            "gridcolor": "white",
            "linecolor": "white",
            "ticks": ""
           }
          },
          "scene": {
           "xaxis": {
            "backgroundcolor": "#E5ECF6",
            "gridcolor": "white",
            "gridwidth": 2,
            "linecolor": "white",
            "showbackground": true,
            "ticks": "",
            "zerolinecolor": "white"
           },
           "yaxis": {
            "backgroundcolor": "#E5ECF6",
            "gridcolor": "white",
            "gridwidth": 2,
            "linecolor": "white",
            "showbackground": true,
            "ticks": "",
            "zerolinecolor": "white"
           },
           "zaxis": {
            "backgroundcolor": "#E5ECF6",
            "gridcolor": "white",
            "gridwidth": 2,
            "linecolor": "white",
            "showbackground": true,
            "ticks": "",
            "zerolinecolor": "white"
           }
          },
          "shapedefaults": {
           "line": {
            "color": "#2a3f5f"
           }
          },
          "ternary": {
           "aaxis": {
            "gridcolor": "white",
            "linecolor": "white",
            "ticks": ""
           },
           "baxis": {
            "gridcolor": "white",
            "linecolor": "white",
            "ticks": ""
           },
           "bgcolor": "#E5ECF6",
           "caxis": {
            "gridcolor": "white",
            "linecolor": "white",
            "ticks": ""
           }
          },
          "title": {
           "x": 0.05
          },
          "xaxis": {
           "automargin": true,
           "gridcolor": "white",
           "linecolor": "white",
           "ticks": "",
           "title": {
            "standoff": 15
           },
           "zerolinecolor": "white",
           "zerolinewidth": 2
          },
          "yaxis": {
           "automargin": true,
           "gridcolor": "white",
           "linecolor": "white",
           "ticks": "",
           "title": {
            "standoff": 15
           },
           "zerolinecolor": "white",
           "zerolinewidth": 2
          }
         }
        },
        "title": {
         "text": "Comparison of Out-of-Box Accuracy"
        },
        "xaxis": {
         "anchor": "y",
         "autorange": true,
         "domain": [
          0,
          1
         ],
         "range": [
          -0.5,
          7.5
         ],
         "title": {
          "text": "index"
         },
         "type": "category"
        },
        "yaxis": {
         "anchor": "x",
         "autorange": true,
         "domain": [
          0,
          1
         ],
         "range": [
          0,
          1.0281517747858018
         ],
         "title": {
          "text": "max_accuracy"
         },
         "type": "linear"
        }
       }
      },
      "image/png": "[encoded data removed]",
      "text/html": [
       "<div>                            <div id=\"8c97cd1b-ac02-4184-95b9-eab5a3f954b0\" class=\"plotly-graph-div\" style=\"height:525px; width:100%;\"></div>            <script type=\"text/javascript\">                require([\"plotly\"], function(Plotly) {                    window.PLOTLYENV=window.PLOTLYENV || {};                                    if (document.getElementById(\"8c97cd1b-ac02-4184-95b9-eab5a3f954b0\")) {                    Plotly.newPlot(                        \"8c97cd1b-ac02-4184-95b9-eab5a3f954b0\",                        [{\"alignmentgroup\": \"True\", \"hovertemplate\": \"index=%{x}<br>max_accuracy=%{y}<extra></extra>\", \"legendgroup\": \"\", \"marker\": {\"color\": \"teal\"}, \"name\": \"\", \"offsetgroup\": \"\", \"orientation\": \"v\", \"showlegend\": false, \"textposition\": \"auto\", \"type\": \"bar\", \"x\": [\"ResNet18\", \"ResNet34\", \"AlexNet\", \"VGG11\", \"VGG13\", \"VGG16\", \"VGG19\", \"SqueezeNet1.0\"], \"xaxis\": \"x\", \"y\": [0.9534883720930233, 0.9534883720930233, 0.9534883720930233, 0.9302325581395349, 0.9302325581395349, 0.9302325581395349, 0.9302325581395349, 0.9767441860465116], \"yaxis\": \"y\"}],                        {\"barmode\": \"relative\", \"legend\": {\"tracegroupgap\": 0}, \"template\": {\"data\": {\"bar\": [{\"error_x\": {\"color\": \"#2a3f5f\"}, \"error_y\": {\"color\": \"#2a3f5f\"}, \"marker\": {\"line\": {\"color\": \"#E5ECF6\", \"width\": 0.5}}, \"type\": \"bar\"}], \"barpolar\": [{\"marker\": {\"line\": {\"color\": \"#E5ECF6\", \"width\": 0.5}}, \"type\": \"barpolar\"}], \"carpet\": [{\"aaxis\": {\"endlinecolor\": \"#2a3f5f\", \"gridcolor\": \"white\", \"linecolor\": \"white\", \"minorgridcolor\": \"white\", \"startlinecolor\": \"#2a3f5f\"}, \"baxis\": {\"endlinecolor\": \"#2a3f5f\", \"gridcolor\": \"white\", \"linecolor\": \"white\", \"minorgridcolor\": \"white\", \"startlinecolor\": \"#2a3f5f\"}, \"type\": \"carpet\"}], \"choropleth\": [{\"colorbar\": {\"outlinewidth\": 0, \"ticks\": \"\"}, \"type\": \"choropleth\"}], \"contour\": [{\"colorbar\": {\"outlinewidth\": 0, \"ticks\": \"\"}, \"colorscale\": [[0.0, \"#0d0887\"], [0.1111111111111111, \"#46039f\"], [0.2222222222222222, \"#7201a8\"], [0.3333333333333333, \"#9c179e\"], [0.4444444444444444, \"#bd3786\"], [0.5555555555555556, \"#d8576b\"], [0.6666666666666666, \"#ed7953\"], [0.7777777777777778, \"#fb9f3a\"], [0.8888888888888888, \"#fdca26\"], [1.0, \"#f0f921\"]], \"type\": \"contour\"}], \"contourcarpet\": [{\"colorbar\": {\"outlinewidth\": 0, \"ticks\": \"\"}, \"type\": \"contourcarpet\"}], \"heatmap\": [{\"colorbar\": {\"outlinewidth\": 0, \"ticks\": \"\"}, \"colorscale\": [[0.0, \"#0d0887\"], [0.1111111111111111, \"#46039f\"], [0.2222222222222222, \"#7201a8\"], [0.3333333333333333, \"#9c179e\"], [0.4444444444444444, \"#bd3786\"], [0.5555555555555556, \"#d8576b\"], [0.6666666666666666, \"#ed7953\"], [0.7777777777777778, \"#fb9f3a\"], [0.8888888888888888, \"#fdca26\"], [1.0, \"#f0f921\"]], \"type\": \"heatmap\"}], \"heatmapgl\": [{\"colorbar\": {\"outlinewidth\": 0, \"ticks\": \"\"}, \"colorscale\": [[0.0, \"#0d0887\"], [0.1111111111111111, \"#46039f\"], [0.2222222222222222, \"#7201a8\"], [0.3333333333333333, \"#9c179e\"], [0.4444444444444444, \"#bd3786\"], [0.5555555555555556, \"#d8576b\"], [0.6666666666666666, \"#ed7953\"], [0.7777777777777778, \"#fb9f3a\"], [0.8888888888888888, \"#fdca26\"], [1.0, \"#f0f921\"]], \"type\": \"heatmapgl\"}], \"histogram\": [{\"marker\": {\"colorbar\": {\"outlinewidth\": 0, \"ticks\": \"\"}}, \"type\": \"histogram\"}], \"histogram2d\": [{\"colorbar\": {\"outlinewidth\": 0, \"ticks\": \"\"}, \"colorscale\": [[0.0, \"#0d0887\"], [0.1111111111111111, \"#46039f\"], [0.2222222222222222, \"#7201a8\"], [0.3333333333333333, \"#9c179e\"], [0.4444444444444444, \"#bd3786\"], [0.5555555555555556, \"#d8576b\"], [0.6666666666666666, \"#ed7953\"], [0.7777777777777778, \"#fb9f3a\"], [0.8888888888888888, \"#fdca26\"], [1.0, \"#f0f921\"]], \"type\": \"histogram2d\"}], \"histogram2dcontour\": [{\"colorbar\": {\"outlinewidth\": 0, \"ticks\": \"\"}, \"colorscale\": [[0.0, \"#0d0887\"], [0.1111111111111111, \"#46039f\"], [0.2222222222222222, \"#7201a8\"], [0.3333333333333333, \"#9c179e\"], [0.4444444444444444, \"#bd3786\"], [0.5555555555555556, \"#d8576b\"], [0.6666666666666666, \"#ed7953\"], [0.7777777777777778, \"#fb9f3a\"], [0.8888888888888888, \"#fdca26\"], [1.0, \"#f0f921\"]], \"type\": \"histogram2dcontour\"}], \"mesh3d\": [{\"colorbar\": {\"outlinewidth\": 0, \"ticks\": \"\"}, \"type\": \"mesh3d\"}], \"parcoords\": [{\"line\": {\"colorbar\": {\"outlinewidth\": 0, \"ticks\": \"\"}}, \"type\": \"parcoords\"}], \"pie\": [{\"automargin\": true, \"type\": \"pie\"}], \"scatter\": [{\"marker\": {\"colorbar\": {\"outlinewidth\": 0, \"ticks\": \"\"}}, \"type\": \"scatter\"}], \"scatter3d\": [{\"line\": {\"colorbar\": {\"outlinewidth\": 0, \"ticks\": \"\"}}, \"marker\": {\"colorbar\": {\"outlinewidth\": 0, \"ticks\": \"\"}}, \"type\": \"scatter3d\"}], \"scattercarpet\": [{\"marker\": {\"colorbar\": {\"outlinewidth\": 0, \"ticks\": \"\"}}, \"type\": \"scattercarpet\"}], \"scattergeo\": [{\"marker\": {\"colorbar\": {\"outlinewidth\": 0, \"ticks\": \"\"}}, \"type\": \"scattergeo\"}], \"scattergl\": [{\"marker\": {\"colorbar\": {\"outlinewidth\": 0, \"ticks\": \"\"}}, \"type\": \"scattergl\"}], \"scattermapbox\": [{\"marker\": {\"colorbar\": {\"outlinewidth\": 0, \"ticks\": \"\"}}, \"type\": \"scattermapbox\"}], \"scatterpolar\": [{\"marker\": {\"colorbar\": {\"outlinewidth\": 0, \"ticks\": \"\"}}, \"type\": \"scatterpolar\"}], \"scatterpolargl\": [{\"marker\": {\"colorbar\": {\"outlinewidth\": 0, \"ticks\": \"\"}}, \"type\": \"scatterpolargl\"}], \"scatterternary\": [{\"marker\": {\"colorbar\": {\"outlinewidth\": 0, \"ticks\": \"\"}}, \"type\": \"scatterternary\"}], \"surface\": [{\"colorbar\": {\"outlinewidth\": 0, \"ticks\": \"\"}, \"colorscale\": [[0.0, \"#0d0887\"], [0.1111111111111111, \"#46039f\"], [0.2222222222222222, \"#7201a8\"], [0.3333333333333333, \"#9c179e\"], [0.4444444444444444, \"#bd3786\"], [0.5555555555555556, \"#d8576b\"], [0.6666666666666666, \"#ed7953\"], [0.7777777777777778, \"#fb9f3a\"], [0.8888888888888888, \"#fdca26\"], [1.0, \"#f0f921\"]], \"type\": \"surface\"}], \"table\": [{\"cells\": {\"fill\": {\"color\": \"#EBF0F8\"}, \"line\": {\"color\": \"white\"}}, \"header\": {\"fill\": {\"color\": \"#C8D4E3\"}, \"line\": {\"color\": \"white\"}}, \"type\": \"table\"}]}, \"layout\": {\"annotationdefaults\": {\"arrowcolor\": \"#2a3f5f\", \"arrowhead\": 0, \"arrowwidth\": 1}, \"coloraxis\": {\"colorbar\": {\"outlinewidth\": 0, \"ticks\": \"\"}}, \"colorscale\": {\"diverging\": [[0, \"#8e0152\"], [0.1, \"#c51b7d\"], [0.2, \"#de77ae\"], [0.3, \"#f1b6da\"], [0.4, \"#fde0ef\"], [0.5, \"#f7f7f7\"], [0.6, \"#e6f5d0\"], [0.7, \"#b8e186\"], [0.8, \"#7fbc41\"], [0.9, \"#4d9221\"], [1, \"#276419\"]], \"sequential\": [[0.0, \"#0d0887\"], [0.1111111111111111, \"#46039f\"], [0.2222222222222222, \"#7201a8\"], [0.3333333333333333, \"#9c179e\"], [0.4444444444444444, \"#bd3786\"], [0.5555555555555556, \"#d8576b\"], [0.6666666666666666, \"#ed7953\"], [0.7777777777777778, \"#fb9f3a\"], [0.8888888888888888, \"#fdca26\"], [1.0, \"#f0f921\"]], \"sequentialminus\": [[0.0, \"#0d0887\"], [0.1111111111111111, \"#46039f\"], [0.2222222222222222, \"#7201a8\"], [0.3333333333333333, \"#9c179e\"], [0.4444444444444444, \"#bd3786\"], [0.5555555555555556, \"#d8576b\"], [0.6666666666666666, \"#ed7953\"], [0.7777777777777778, \"#fb9f3a\"], [0.8888888888888888, \"#fdca26\"], [1.0, \"#f0f921\"]]}, \"colorway\": [\"#636efa\", \"#EF553B\", \"#00cc96\", \"#ab63fa\", \"#FFA15A\", \"#19d3f3\", \"#FF6692\", \"#B6E880\", \"#FF97FF\", \"#FECB52\"], \"font\": {\"color\": \"#2a3f5f\"}, \"geo\": {\"bgcolor\": \"white\", \"lakecolor\": \"white\", \"landcolor\": \"#E5ECF6\", \"showlakes\": true, \"showland\": true, \"subunitcolor\": \"white\"}, \"hoverlabel\": {\"align\": \"left\"}, \"hovermode\": \"closest\", \"mapbox\": {\"style\": \"light\"}, \"paper_bgcolor\": \"white\", \"plot_bgcolor\": \"#E5ECF6\", \"polar\": {\"angularaxis\": {\"gridcolor\": \"white\", \"linecolor\": \"white\", \"ticks\": \"\"}, \"bgcolor\": \"#E5ECF6\", \"radialaxis\": {\"gridcolor\": \"white\", \"linecolor\": \"white\", \"ticks\": \"\"}}, \"scene\": {\"xaxis\": {\"backgroundcolor\": \"#E5ECF6\", \"gridcolor\": \"white\", \"gridwidth\": 2, \"linecolor\": \"white\", \"showbackground\": true, \"ticks\": \"\", \"zerolinecolor\": \"white\"}, \"yaxis\": {\"backgroundcolor\": \"#E5ECF6\", \"gridcolor\": \"white\", \"gridwidth\": 2, \"linecolor\": \"white\", \"showbackground\": true, \"ticks\": \"\", \"zerolinecolor\": \"white\"}, \"zaxis\": {\"backgroundcolor\": \"#E5ECF6\", \"gridcolor\": \"white\", \"gridwidth\": 2, \"linecolor\": \"white\", \"showbackground\": true, \"ticks\": \"\", \"zerolinecolor\": \"white\"}}, \"shapedefaults\": {\"line\": {\"color\": \"#2a3f5f\"}}, \"ternary\": {\"aaxis\": {\"gridcolor\": \"white\", \"linecolor\": \"white\", \"ticks\": \"\"}, \"baxis\": {\"gridcolor\": \"white\", \"linecolor\": \"white\", \"ticks\": \"\"}, \"bgcolor\": \"#E5ECF6\", \"caxis\": {\"gridcolor\": \"white\", \"linecolor\": \"white\", \"ticks\": \"\"}}, \"title\": {\"x\": 0.05}, \"xaxis\": {\"automargin\": true, \"gridcolor\": \"white\", \"linecolor\": \"white\", \"ticks\": \"\", \"title\": {\"standoff\": 15}, \"zerolinecolor\": \"white\", \"zerolinewidth\": 2}, \"yaxis\": {\"automargin\": true, \"gridcolor\": \"white\", \"linecolor\": \"white\", \"ticks\": \"\", \"title\": {\"standoff\": 15}, \"zerolinecolor\": \"white\", \"zerolinewidth\": 2}}}, \"title\": {\"text\": \"Comparison of Out-of-Box Accuracy\"}, \"xaxis\": {\"anchor\": \"y\", \"domain\": [0.0, 1.0], \"title\": {\"text\": \"index\"}}, \"yaxis\": {\"anchor\": \"x\", \"domain\": [0.0, 1.0], \"title\": {\"text\": \"max_accuracy\"}}},                        {\"responsive\": true}                    ).then(function(){\n",
       "                            \n",
       "var gd = document.getElementById('8c97cd1b-ac02-4184-95b9-eab5a3f954b0');\n",
       "var x = new MutationObserver(function (mutations, observer) {{\n",
       "        var display = window.getComputedStyle(gd).display;\n",
       "        if (!display || display === 'none') {{\n",
       "            console.log([gd, 'removed!']);\n",
       "            Plotly.purge(gd);\n",
       "            observer.disconnect();\n",
       "        }}\n",
       "}});\n",
       "\n",
       "// Listen for the removal of the full notebook cells\n",
       "var notebookContainer = gd.closest('#notebook-container');\n",
       "if (notebookContainer) {{\n",
       "    x.observe(notebookContainer, {childList: true});\n",
       "}}\n",
       "\n",
       "// Listen for the clearing of the current output cell\n",
       "var outputEl = gd.closest('.output');\n",
       "if (outputEl) {{\n",
       "    x.observe(outputEl, {childList: true});\n",
       "}}\n",
       "\n",
       "                        })                };                });            </script>        </div>"
      ]
     },
     "metadata": {},
     "output_type": "display_data"
    },
    {
     "data": {
      "application/vnd.plotly.v1+json": {
       "config": {
        "plotlyServerURL": "https://plot.ly"
       },
       "data": [
        {
         "alignmentgroup": "True",
         "hovertemplate": "index=%{x}<br>model_layers=%{y}<extra></extra>",
         "legendgroup": "",
         "marker": {
          "color": "teal"
         },
         "name": "",
         "offsetgroup": "",
         "orientation": "v",
         "showlegend": false,
         "textposition": "auto",
         "type": "bar",
         "x": [
          "ResNet18",
          "ResNet34",
          "AlexNet",
          "VGG11",
          "VGG13",
          "VGG16",
          "VGG19",
          "SqueezeNet1.0"
         ],
         "xaxis": "x",
         "y": [
          18,
          34,
          8,
          11,
          13,
          16,
          19,
          13
         ],
         "yaxis": "y"
        }
       ],
       "layout": {
        "autosize": true,
        "barmode": "relative",
        "legend": {
         "tracegroupgap": 0
        },
        "template": {
         "data": {
          "bar": [
           {
            "error_x": {
             "color": "#2a3f5f"
            },
            "error_y": {
             "color": "#2a3f5f"
            },
            "marker": {
             "line": {
              "color": "#E5ECF6",
              "width": 0.5
             }
            },
            "type": "bar"
           }
          ],
          "barpolar": [
           {
            "marker": {
             "line": {
              "color": "#E5ECF6",
              "width": 0.5
             }
            },
            "type": "barpolar"
           }
          ],
          "carpet": [
           {
            "aaxis": {
             "endlinecolor": "#2a3f5f",
             "gridcolor": "white",
             "linecolor": "white",
             "minorgridcolor": "white",
             "startlinecolor": "#2a3f5f"
            },
            "baxis": {
             "endlinecolor": "#2a3f5f",
             "gridcolor": "white",
             "linecolor": "white",
             "minorgridcolor": "white",
             "startlinecolor": "#2a3f5f"
            },
            "type": "carpet"
           }
          ],
          "choropleth": [
           {
            "colorbar": {
             "outlinewidth": 0,
             "ticks": ""
            },
            "type": "choropleth"
           }
          ],
          "contour": [
           {
            "colorbar": {
             "outlinewidth": 0,
             "ticks": ""
            },
            "colorscale": [
             [
              0,
              "#0d0887"
             ],
             [
              0.1111111111111111,
              "#46039f"
             ],
             [
              0.2222222222222222,
              "#7201a8"
             ],
             [
              0.3333333333333333,
              "#9c179e"
             ],
             [
              0.4444444444444444,
              "#bd3786"
             ],
             [
              0.5555555555555556,
              "#d8576b"
             ],
             [
              0.6666666666666666,
              "#ed7953"
             ],
             [
              0.7777777777777778,
              "#fb9f3a"
             ],
             [
              0.8888888888888888,
              "#fdca26"
             ],
             [
              1,
              "#f0f921"
             ]
            ],
            "type": "contour"
           }
          ],
          "contourcarpet": [
           {
            "colorbar": {
             "outlinewidth": 0,
             "ticks": ""
            },
            "type": "contourcarpet"
           }
          ],
          "heatmap": [
           {
            "colorbar": {
             "outlinewidth": 0,
             "ticks": ""
            },
            "colorscale": [
             [
              0,
              "#0d0887"
             ],
             [
              0.1111111111111111,
              "#46039f"
             ],
             [
              0.2222222222222222,
              "#7201a8"
             ],
             [
              0.3333333333333333,
              "#9c179e"
             ],
             [
              0.4444444444444444,
              "#bd3786"
             ],
             [
              0.5555555555555556,
              "#d8576b"
             ],
             [
              0.6666666666666666,
              "#ed7953"
             ],
             [
              0.7777777777777778,
              "#fb9f3a"
             ],
             [
              0.8888888888888888,
              "#fdca26"
             ],
             [
              1,
              "#f0f921"
             ]
            ],
            "type": "heatmap"
           }
          ],
          "heatmapgl": [
           {
            "colorbar": {
             "outlinewidth": 0,
             "ticks": ""
            },
            "colorscale": [
             [
              0,
              "#0d0887"
             ],
             [
              0.1111111111111111,
              "#46039f"
             ],
             [
              0.2222222222222222,
              "#7201a8"
             ],
             [
              0.3333333333333333,
              "#9c179e"
             ],
             [
              0.4444444444444444,
              "#bd3786"
             ],
             [
              0.5555555555555556,
              "#d8576b"
             ],
             [
              0.6666666666666666,
              "#ed7953"
             ],
             [
              0.7777777777777778,
              "#fb9f3a"
             ],
             [
              0.8888888888888888,
              "#fdca26"
             ],
             [
              1,
              "#f0f921"
             ]
            ],
            "type": "heatmapgl"
           }
          ],
          "histogram": [
           {
            "marker": {
             "colorbar": {
              "outlinewidth": 0,
              "ticks": ""
             }
            },
            "type": "histogram"
           }
          ],
          "histogram2d": [
           {
            "colorbar": {
             "outlinewidth": 0,
             "ticks": ""
            },
            "colorscale": [
             [
              0,
              "#0d0887"
             ],
             [
              0.1111111111111111,
              "#46039f"
             ],
             [
              0.2222222222222222,
              "#7201a8"
             ],
             [
              0.3333333333333333,
              "#9c179e"
             ],
             [
              0.4444444444444444,
              "#bd3786"
             ],
             [
              0.5555555555555556,
              "#d8576b"
             ],
             [
              0.6666666666666666,
              "#ed7953"
             ],
             [
              0.7777777777777778,
              "#fb9f3a"
             ],
             [
              0.8888888888888888,
              "#fdca26"
             ],
             [
              1,
              "#f0f921"
             ]
            ],
            "type": "histogram2d"
           }
          ],
          "histogram2dcontour": [
           {
            "colorbar": {
             "outlinewidth": 0,
             "ticks": ""
            },
            "colorscale": [
             [
              0,
              "#0d0887"
             ],
             [
              0.1111111111111111,
              "#46039f"
             ],
             [
              0.2222222222222222,
              "#7201a8"
             ],
             [
              0.3333333333333333,
              "#9c179e"
             ],
             [
              0.4444444444444444,
              "#bd3786"
             ],
             [
              0.5555555555555556,
              "#d8576b"
             ],
             [
              0.6666666666666666,
              "#ed7953"
             ],
             [
              0.7777777777777778,
              "#fb9f3a"
             ],
             [
              0.8888888888888888,
              "#fdca26"
             ],
             [
              1,
              "#f0f921"
             ]
            ],
            "type": "histogram2dcontour"
           }
          ],
          "mesh3d": [
           {
            "colorbar": {
             "outlinewidth": 0,
             "ticks": ""
            },
            "type": "mesh3d"
           }
          ],
          "parcoords": [
           {
            "line": {
             "colorbar": {
              "outlinewidth": 0,
              "ticks": ""
             }
            },
            "type": "parcoords"
           }
          ],
          "pie": [
           {
            "automargin": true,
            "type": "pie"
           }
          ],
          "scatter": [
           {
            "marker": {
             "colorbar": {
              "outlinewidth": 0,
              "ticks": ""
             }
            },
            "type": "scatter"
           }
          ],
          "scatter3d": [
           {
            "line": {
             "colorbar": {
              "outlinewidth": 0,
              "ticks": ""
             }
            },
            "marker": {
             "colorbar": {
              "outlinewidth": 0,
              "ticks": ""
             }
            },
            "type": "scatter3d"
           }
          ],
          "scattercarpet": [
           {
            "marker": {
             "colorbar": {
              "outlinewidth": 0,
              "ticks": ""
             }
            },
            "type": "scattercarpet"
           }
          ],
          "scattergeo": [
           {
            "marker": {
             "colorbar": {
              "outlinewidth": 0,
              "ticks": ""
             }
            },
            "type": "scattergeo"
           }
          ],
          "scattergl": [
           {
            "marker": {
             "colorbar": {
              "outlinewidth": 0,
              "ticks": ""
             }
            },
            "type": "scattergl"
           }
          ],
          "scattermapbox": [
           {
            "marker": {
             "colorbar": {
              "outlinewidth": 0,
              "ticks": ""
             }
            },
            "type": "scattermapbox"
           }
          ],
          "scatterpolar": [
           {
            "marker": {
             "colorbar": {
              "outlinewidth": 0,
              "ticks": ""
             }
            },
            "type": "scatterpolar"
           }
          ],
          "scatterpolargl": [
           {
            "marker": {
             "colorbar": {
              "outlinewidth": 0,
              "ticks": ""
             }
            },
            "type": "scatterpolargl"
           }
          ],
          "scatterternary": [
           {
            "marker": {
             "colorbar": {
              "outlinewidth": 0,
              "ticks": ""
             }
            },
            "type": "scatterternary"
           }
          ],
          "surface": [
           {
            "colorbar": {
             "outlinewidth": 0,
             "ticks": ""
            },
            "colorscale": [
             [
              0,
              "#0d0887"
             ],
             [
              0.1111111111111111,
              "#46039f"
             ],
             [
              0.2222222222222222,
              "#7201a8"
             ],
             [
              0.3333333333333333,
              "#9c179e"
             ],
             [
              0.4444444444444444,
              "#bd3786"
             ],
             [
              0.5555555555555556,
              "#d8576b"
             ],
             [
              0.6666666666666666,
              "#ed7953"
             ],
             [
              0.7777777777777778,
              "#fb9f3a"
             ],
             [
              0.8888888888888888,
              "#fdca26"
             ],
             [
              1,
              "#f0f921"
             ]
            ],
            "type": "surface"
           }
          ],
          "table": [
           {
            "cells": {
             "fill": {
              "color": "#EBF0F8"
             },
             "line": {
              "color": "white"
             }
            },
            "header": {
             "fill": {
              "color": "#C8D4E3"
             },
             "line": {
              "color": "white"
             }
            },
            "type": "table"
           }
          ]
         },
         "layout": {
          "annotationdefaults": {
           "arrowcolor": "#2a3f5f",
           "arrowhead": 0,
           "arrowwidth": 1
          },
          "coloraxis": {
           "colorbar": {
            "outlinewidth": 0,
            "ticks": ""
           }
          },
          "colorscale": {
           "diverging": [
            [
             0,
             "#8e0152"
            ],
            [
             0.1,
             "#c51b7d"
            ],
            [
             0.2,
             "#de77ae"
            ],
            [
             0.3,
             "#f1b6da"
            ],
            [
             0.4,
             "#fde0ef"
            ],
            [
             0.5,
             "#f7f7f7"
            ],
            [
             0.6,
             "#e6f5d0"
            ],
            [
             0.7,
             "#b8e186"
            ],
            [
             0.8,
             "#7fbc41"
            ],
            [
             0.9,
             "#4d9221"
            ],
            [
             1,
             "#276419"
            ]
           ],
           "sequential": [
            [
             0,
             "#0d0887"
            ],
            [
             0.1111111111111111,
             "#46039f"
            ],
            [
             0.2222222222222222,
             "#7201a8"
            ],
            [
             0.3333333333333333,
             "#9c179e"
            ],
            [
             0.4444444444444444,
             "#bd3786"
            ],
            [
             0.5555555555555556,
             "#d8576b"
            ],
            [
             0.6666666666666666,
             "#ed7953"
            ],
            [
             0.7777777777777778,
             "#fb9f3a"
            ],
            [
             0.8888888888888888,
             "#fdca26"
            ],
            [
             1,
             "#f0f921"
            ]
           ],
           "sequentialminus": [
            [
             0,
             "#0d0887"
            ],
            [
             0.1111111111111111,
             "#46039f"
            ],
            [
             0.2222222222222222,
             "#7201a8"
            ],
            [
             0.3333333333333333,
             "#9c179e"
            ],
            [
             0.4444444444444444,
             "#bd3786"
            ],
            [
             0.5555555555555556,
             "#d8576b"
            ],
            [
             0.6666666666666666,
             "#ed7953"
            ],
            [
             0.7777777777777778,
             "#fb9f3a"
            ],
            [
             0.8888888888888888,
             "#fdca26"
            ],
            [
             1,
             "#f0f921"
            ]
           ]
          },
          "colorway": [
           "#636efa",
           "#EF553B",
           "#00cc96",
           "#ab63fa",
           "#FFA15A",
           "#19d3f3",
           "#FF6692",
           "#B6E880",
           "#FF97FF",
           "#FECB52"
          ],
          "font": {
           "color": "#2a3f5f"
          },
          "geo": {
           "bgcolor": "white",
           "lakecolor": "white",
           "landcolor": "#E5ECF6",
           "showlakes": true,
           "showland": true,
           "subunitcolor": "white"
          },
          "hoverlabel": {
           "align": "left"
          },
          "hovermode": "closest",
          "mapbox": {
           "style": "light"
          },
          "paper_bgcolor": "white",
          "plot_bgcolor": "#E5ECF6",
          "polar": {
           "angularaxis": {
            "gridcolor": "white",
            "linecolor": "white",
            "ticks": ""
           },
           "bgcolor": "#E5ECF6",
           "radialaxis": {
            "gridcolor": "white",
            "linecolor": "white",
            "ticks": ""
           }
          },
          "scene": {
           "xaxis": {
            "backgroundcolor": "#E5ECF6",
            "gridcolor": "white",
            "gridwidth": 2,
            "linecolor": "white",
            "showbackground": true,
            "ticks": "",
            "zerolinecolor": "white"
           },
           "yaxis": {
            "backgroundcolor": "#E5ECF6",
            "gridcolor": "white",
            "gridwidth": 2,
            "linecolor": "white",
            "showbackground": true,
            "ticks": "",
            "zerolinecolor": "white"
           },
           "zaxis": {
            "backgroundcolor": "#E5ECF6",
            "gridcolor": "white",
            "gridwidth": 2,
            "linecolor": "white",
            "showbackground": true,
            "ticks": "",
            "zerolinecolor": "white"
           }
          },
          "shapedefaults": {
           "line": {
            "color": "#2a3f5f"
           }
          },
          "ternary": {
           "aaxis": {
            "gridcolor": "white",
            "linecolor": "white",
            "ticks": ""
           },
           "baxis": {
            "gridcolor": "white",
            "linecolor": "white",
            "ticks": ""
           },
           "bgcolor": "#E5ECF6",
           "caxis": {
            "gridcolor": "white",
            "linecolor": "white",
            "ticks": ""
           }
          },
          "title": {
           "x": 0.05
          },
          "xaxis": {
           "automargin": true,
           "gridcolor": "white",
           "linecolor": "white",
           "ticks": "",
           "title": {
            "standoff": 15
           },
           "zerolinecolor": "white",
           "zerolinewidth": 2
          },
          "yaxis": {
           "automargin": true,
           "gridcolor": "white",
           "linecolor": "white",
           "ticks": "",
           "title": {
            "standoff": 15
           },
           "zerolinecolor": "white",
           "zerolinewidth": 2
          }
         }
        },
        "title": {
         "text": "Comparison of Out-of-Box Memory Requirements"
        },
        "xaxis": {
         "anchor": "y",
         "autorange": true,
         "domain": [
          0,
          1
         ],
         "range": [
          -0.5,
          7.5
         ],
         "title": {
          "text": "index"
         },
         "type": "category"
        },
        "yaxis": {
         "anchor": "x",
         "autorange": true,
         "domain": [
          0,
          1
         ],
         "range": [
          0,
          35.78947368421053
         ],
         "title": {
          "text": "model_layers"
         },
         "type": "linear"
        }
       }
      },
      "image/png": "[encoded data removed]",
      "text/html": [
       "<div>                            <div id=\"4ea7b503-b141-4d70-a3e5-f50558feb2c6\" class=\"plotly-graph-div\" style=\"height:525px; width:100%;\"></div>            <script type=\"text/javascript\">                require([\"plotly\"], function(Plotly) {                    window.PLOTLYENV=window.PLOTLYENV || {};                                    if (document.getElementById(\"4ea7b503-b141-4d70-a3e5-f50558feb2c6\")) {                    Plotly.newPlot(                        \"4ea7b503-b141-4d70-a3e5-f50558feb2c6\",                        [{\"alignmentgroup\": \"True\", \"hovertemplate\": \"index=%{x}<br>model_layers=%{y}<extra></extra>\", \"legendgroup\": \"\", \"marker\": {\"color\": \"teal\"}, \"name\": \"\", \"offsetgroup\": \"\", \"orientation\": \"v\", \"showlegend\": false, \"textposition\": \"auto\", \"type\": \"bar\", \"x\": [\"ResNet18\", \"ResNet34\", \"AlexNet\", \"VGG11\", \"VGG13\", \"VGG16\", \"VGG19\", \"SqueezeNet1.0\"], \"xaxis\": \"x\", \"y\": [18, 34, 8, 11, 13, 16, 19, 13], \"yaxis\": \"y\"}],                        {\"barmode\": \"relative\", \"legend\": {\"tracegroupgap\": 0}, \"template\": {\"data\": {\"bar\": [{\"error_x\": {\"color\": \"#2a3f5f\"}, \"error_y\": {\"color\": \"#2a3f5f\"}, \"marker\": {\"line\": {\"color\": \"#E5ECF6\", \"width\": 0.5}}, \"type\": \"bar\"}], \"barpolar\": [{\"marker\": {\"line\": {\"color\": \"#E5ECF6\", \"width\": 0.5}}, \"type\": \"barpolar\"}], \"carpet\": [{\"aaxis\": {\"endlinecolor\": \"#2a3f5f\", \"gridcolor\": \"white\", \"linecolor\": \"white\", \"minorgridcolor\": \"white\", \"startlinecolor\": \"#2a3f5f\"}, \"baxis\": {\"endlinecolor\": \"#2a3f5f\", \"gridcolor\": \"white\", \"linecolor\": \"white\", \"minorgridcolor\": \"white\", \"startlinecolor\": \"#2a3f5f\"}, \"type\": \"carpet\"}], \"choropleth\": [{\"colorbar\": {\"outlinewidth\": 0, \"ticks\": \"\"}, \"type\": \"choropleth\"}], \"contour\": [{\"colorbar\": {\"outlinewidth\": 0, \"ticks\": \"\"}, \"colorscale\": [[0.0, \"#0d0887\"], [0.1111111111111111, \"#46039f\"], [0.2222222222222222, \"#7201a8\"], [0.3333333333333333, \"#9c179e\"], [0.4444444444444444, \"#bd3786\"], [0.5555555555555556, \"#d8576b\"], [0.6666666666666666, \"#ed7953\"], [0.7777777777777778, \"#fb9f3a\"], [0.8888888888888888, \"#fdca26\"], [1.0, \"#f0f921\"]], \"type\": \"contour\"}], \"contourcarpet\": [{\"colorbar\": {\"outlinewidth\": 0, \"ticks\": \"\"}, \"type\": \"contourcarpet\"}], \"heatmap\": [{\"colorbar\": {\"outlinewidth\": 0, \"ticks\": \"\"}, \"colorscale\": [[0.0, \"#0d0887\"], [0.1111111111111111, \"#46039f\"], [0.2222222222222222, \"#7201a8\"], [0.3333333333333333, \"#9c179e\"], [0.4444444444444444, \"#bd3786\"], [0.5555555555555556, \"#d8576b\"], [0.6666666666666666, \"#ed7953\"], [0.7777777777777778, \"#fb9f3a\"], [0.8888888888888888, \"#fdca26\"], [1.0, \"#f0f921\"]], \"type\": \"heatmap\"}], \"heatmapgl\": [{\"colorbar\": {\"outlinewidth\": 0, \"ticks\": \"\"}, \"colorscale\": [[0.0, \"#0d0887\"], [0.1111111111111111, \"#46039f\"], [0.2222222222222222, \"#7201a8\"], [0.3333333333333333, \"#9c179e\"], [0.4444444444444444, \"#bd3786\"], [0.5555555555555556, \"#d8576b\"], [0.6666666666666666, \"#ed7953\"], [0.7777777777777778, \"#fb9f3a\"], [0.8888888888888888, \"#fdca26\"], [1.0, \"#f0f921\"]], \"type\": \"heatmapgl\"}], \"histogram\": [{\"marker\": {\"colorbar\": {\"outlinewidth\": 0, \"ticks\": \"\"}}, \"type\": \"histogram\"}], \"histogram2d\": [{\"colorbar\": {\"outlinewidth\": 0, \"ticks\": \"\"}, \"colorscale\": [[0.0, \"#0d0887\"], [0.1111111111111111, \"#46039f\"], [0.2222222222222222, \"#7201a8\"], [0.3333333333333333, \"#9c179e\"], [0.4444444444444444, \"#bd3786\"], [0.5555555555555556, \"#d8576b\"], [0.6666666666666666, \"#ed7953\"], [0.7777777777777778, \"#fb9f3a\"], [0.8888888888888888, \"#fdca26\"], [1.0, \"#f0f921\"]], \"type\": \"histogram2d\"}], \"histogram2dcontour\": [{\"colorbar\": {\"outlinewidth\": 0, \"ticks\": \"\"}, \"colorscale\": [[0.0, \"#0d0887\"], [0.1111111111111111, \"#46039f\"], [0.2222222222222222, \"#7201a8\"], [0.3333333333333333, \"#9c179e\"], [0.4444444444444444, \"#bd3786\"], [0.5555555555555556, \"#d8576b\"], [0.6666666666666666, \"#ed7953\"], [0.7777777777777778, \"#fb9f3a\"], [0.8888888888888888, \"#fdca26\"], [1.0, \"#f0f921\"]], \"type\": \"histogram2dcontour\"}], \"mesh3d\": [{\"colorbar\": {\"outlinewidth\": 0, \"ticks\": \"\"}, \"type\": \"mesh3d\"}], \"parcoords\": [{\"line\": {\"colorbar\": {\"outlinewidth\": 0, \"ticks\": \"\"}}, \"type\": \"parcoords\"}], \"pie\": [{\"automargin\": true, \"type\": \"pie\"}], \"scatter\": [{\"marker\": {\"colorbar\": {\"outlinewidth\": 0, \"ticks\": \"\"}}, \"type\": \"scatter\"}], \"scatter3d\": [{\"line\": {\"colorbar\": {\"outlinewidth\": 0, \"ticks\": \"\"}}, \"marker\": {\"colorbar\": {\"outlinewidth\": 0, \"ticks\": \"\"}}, \"type\": \"scatter3d\"}], \"scattercarpet\": [{\"marker\": {\"colorbar\": {\"outlinewidth\": 0, \"ticks\": \"\"}}, \"type\": \"scattercarpet\"}], \"scattergeo\": [{\"marker\": {\"colorbar\": {\"outlinewidth\": 0, \"ticks\": \"\"}}, \"type\": \"scattergeo\"}], \"scattergl\": [{\"marker\": {\"colorbar\": {\"outlinewidth\": 0, \"ticks\": \"\"}}, \"type\": \"scattergl\"}], \"scattermapbox\": [{\"marker\": {\"colorbar\": {\"outlinewidth\": 0, \"ticks\": \"\"}}, \"type\": \"scattermapbox\"}], \"scatterpolar\": [{\"marker\": {\"colorbar\": {\"outlinewidth\": 0, \"ticks\": \"\"}}, \"type\": \"scatterpolar\"}], \"scatterpolargl\": [{\"marker\": {\"colorbar\": {\"outlinewidth\": 0, \"ticks\": \"\"}}, \"type\": \"scatterpolargl\"}], \"scatterternary\": [{\"marker\": {\"colorbar\": {\"outlinewidth\": 0, \"ticks\": \"\"}}, \"type\": \"scatterternary\"}], \"surface\": [{\"colorbar\": {\"outlinewidth\": 0, \"ticks\": \"\"}, \"colorscale\": [[0.0, \"#0d0887\"], [0.1111111111111111, \"#46039f\"], [0.2222222222222222, \"#7201a8\"], [0.3333333333333333, \"#9c179e\"], [0.4444444444444444, \"#bd3786\"], [0.5555555555555556, \"#d8576b\"], [0.6666666666666666, \"#ed7953\"], [0.7777777777777778, \"#fb9f3a\"], [0.8888888888888888, \"#fdca26\"], [1.0, \"#f0f921\"]], \"type\": \"surface\"}], \"table\": [{\"cells\": {\"fill\": {\"color\": \"#EBF0F8\"}, \"line\": {\"color\": \"white\"}}, \"header\": {\"fill\": {\"color\": \"#C8D4E3\"}, \"line\": {\"color\": \"white\"}}, \"type\": \"table\"}]}, \"layout\": {\"annotationdefaults\": {\"arrowcolor\": \"#2a3f5f\", \"arrowhead\": 0, \"arrowwidth\": 1}, \"coloraxis\": {\"colorbar\": {\"outlinewidth\": 0, \"ticks\": \"\"}}, \"colorscale\": {\"diverging\": [[0, \"#8e0152\"], [0.1, \"#c51b7d\"], [0.2, \"#de77ae\"], [0.3, \"#f1b6da\"], [0.4, \"#fde0ef\"], [0.5, \"#f7f7f7\"], [0.6, \"#e6f5d0\"], [0.7, \"#b8e186\"], [0.8, \"#7fbc41\"], [0.9, \"#4d9221\"], [1, \"#276419\"]], \"sequential\": [[0.0, \"#0d0887\"], [0.1111111111111111, \"#46039f\"], [0.2222222222222222, \"#7201a8\"], [0.3333333333333333, \"#9c179e\"], [0.4444444444444444, \"#bd3786\"], [0.5555555555555556, \"#d8576b\"], [0.6666666666666666, \"#ed7953\"], [0.7777777777777778, \"#fb9f3a\"], [0.8888888888888888, \"#fdca26\"], [1.0, \"#f0f921\"]], \"sequentialminus\": [[0.0, \"#0d0887\"], [0.1111111111111111, \"#46039f\"], [0.2222222222222222, \"#7201a8\"], [0.3333333333333333, \"#9c179e\"], [0.4444444444444444, \"#bd3786\"], [0.5555555555555556, \"#d8576b\"], [0.6666666666666666, \"#ed7953\"], [0.7777777777777778, \"#fb9f3a\"], [0.8888888888888888, \"#fdca26\"], [1.0, \"#f0f921\"]]}, \"colorway\": [\"#636efa\", \"#EF553B\", \"#00cc96\", \"#ab63fa\", \"#FFA15A\", \"#19d3f3\", \"#FF6692\", \"#B6E880\", \"#FF97FF\", \"#FECB52\"], \"font\": {\"color\": \"#2a3f5f\"}, \"geo\": {\"bgcolor\": \"white\", \"lakecolor\": \"white\", \"landcolor\": \"#E5ECF6\", \"showlakes\": true, \"showland\": true, \"subunitcolor\": \"white\"}, \"hoverlabel\": {\"align\": \"left\"}, \"hovermode\": \"closest\", \"mapbox\": {\"style\": \"light\"}, \"paper_bgcolor\": \"white\", \"plot_bgcolor\": \"#E5ECF6\", \"polar\": {\"angularaxis\": {\"gridcolor\": \"white\", \"linecolor\": \"white\", \"ticks\": \"\"}, \"bgcolor\": \"#E5ECF6\", \"radialaxis\": {\"gridcolor\": \"white\", \"linecolor\": \"white\", \"ticks\": \"\"}}, \"scene\": {\"xaxis\": {\"backgroundcolor\": \"#E5ECF6\", \"gridcolor\": \"white\", \"gridwidth\": 2, \"linecolor\": \"white\", \"showbackground\": true, \"ticks\": \"\", \"zerolinecolor\": \"white\"}, \"yaxis\": {\"backgroundcolor\": \"#E5ECF6\", \"gridcolor\": \"white\", \"gridwidth\": 2, \"linecolor\": \"white\", \"showbackground\": true, \"ticks\": \"\", \"zerolinecolor\": \"white\"}, \"zaxis\": {\"backgroundcolor\": \"#E5ECF6\", \"gridcolor\": \"white\", \"gridwidth\": 2, \"linecolor\": \"white\", \"showbackground\": true, \"ticks\": \"\", \"zerolinecolor\": \"white\"}}, \"shapedefaults\": {\"line\": {\"color\": \"#2a3f5f\"}}, \"ternary\": {\"aaxis\": {\"gridcolor\": \"white\", \"linecolor\": \"white\", \"ticks\": \"\"}, \"baxis\": {\"gridcolor\": \"white\", \"linecolor\": \"white\", \"ticks\": \"\"}, \"bgcolor\": \"#E5ECF6\", \"caxis\": {\"gridcolor\": \"white\", \"linecolor\": \"white\", \"ticks\": \"\"}}, \"title\": {\"x\": 0.05}, \"xaxis\": {\"automargin\": true, \"gridcolor\": \"white\", \"linecolor\": \"white\", \"ticks\": \"\", \"title\": {\"standoff\": 15}, \"zerolinecolor\": \"white\", \"zerolinewidth\": 2}, \"yaxis\": {\"automargin\": true, \"gridcolor\": \"white\", \"linecolor\": \"white\", \"ticks\": \"\", \"title\": {\"standoff\": 15}, \"zerolinecolor\": \"white\", \"zerolinewidth\": 2}}}, \"title\": {\"text\": \"Comparison of Out-of-Box Memory Requirements\"}, \"xaxis\": {\"anchor\": \"y\", \"domain\": [0.0, 1.0], \"title\": {\"text\": \"index\"}}, \"yaxis\": {\"anchor\": \"x\", \"domain\": [0.0, 1.0], \"title\": {\"text\": \"model_layers\"}}},                        {\"responsive\": true}                    ).then(function(){\n",
       "                            \n",
       "var gd = document.getElementById('4ea7b503-b141-4d70-a3e5-f50558feb2c6');\n",
       "var x = new MutationObserver(function (mutations, observer) {{\n",
       "        var display = window.getComputedStyle(gd).display;\n",
       "        if (!display || display === 'none') {{\n",
       "            console.log([gd, 'removed!']);\n",
       "            Plotly.purge(gd);\n",
       "            observer.disconnect();\n",
       "        }}\n",
       "}});\n",
       "\n",
       "// Listen for the removal of the full notebook cells\n",
       "var notebookContainer = gd.closest('#notebook-container');\n",
       "if (notebookContainer) {{\n",
       "    x.observe(notebookContainer, {childList: true});\n",
       "}}\n",
       "\n",
       "// Listen for the clearing of the current output cell\n",
       "var outputEl = gd.closest('.output');\n",
       "if (outputEl) {{\n",
       "    x.observe(outputEl, {childList: true});\n",
       "}}\n",
       "\n",
       "                        })                };                });            </script>        </div>"
      ]
     },
     "metadata": {},
     "output_type": "display_data"
    },
    {
     "data": {
      "application/vnd.plotly.v1+json": {
       "config": {
        "plotlyServerURL": "https://plot.ly"
       },
       "data": [
        {
         "hovertemplate": "index=ResNet18<br>train_time=%{x}<br>max_accuracy=%{y}<br>model_layers=%{marker.size}<extra></extra>",
         "legendgroup": "ResNet18",
         "marker": {
          "color": "rgb(127, 60, 141)",
          "size": [
           18
          ],
          "sizemode": "area",
          "sizeref": 0.085,
          "symbol": "circle"
         },
         "mode": "markers",
         "name": "ResNet18",
         "orientation": "v",
         "selectedpoints": [
          0
         ],
         "showlegend": true,
         "type": "scatter",
         "x": [
          1049.8626110553741
         ],
         "xaxis": "x",
         "y": [
          0.9534883720930233
         ],
         "yaxis": "y"
        },
        {
         "hovertemplate": "index=ResNet34<br>train_time=%{x}<br>max_accuracy=%{y}<br>model_layers=%{marker.size}<extra></extra>",
         "legendgroup": "ResNet34",
         "marker": {
          "color": "rgb(17, 165, 121)",
          "size": [
           34
          ],
          "sizemode": "area",
          "sizeref": 0.085,
          "symbol": "circle"
         },
         "mode": "markers",
         "name": "ResNet34",
         "orientation": "v",
         "selectedpoints": [
          0
         ],
         "showlegend": true,
         "type": "scatter",
         "x": [
          1222.5414361953735
         ],
         "xaxis": "x",
         "y": [
          0.9534883720930233
         ],
         "yaxis": "y"
        },
        {
         "hovertemplate": "index=AlexNet<br>train_time=%{x}<br>max_accuracy=%{y}<br>model_layers=%{marker.size}<extra></extra>",
         "legendgroup": "AlexNet",
         "marker": {
          "color": "rgb(57, 105, 172)",
          "size": [
           8
          ],
          "sizemode": "area",
          "sizeref": 0.085,
          "symbol": "circle"
         },
         "mode": "markers",
         "name": "AlexNet",
         "orientation": "v",
         "selectedpoints": [
          0
         ],
         "showlegend": true,
         "type": "scatter",
         "x": [
          694.2817440032959
         ],
         "xaxis": "x",
         "y": [
          0.9534883720930233
         ],
         "yaxis": "y"
        },
        {
         "hovertemplate": "index=VGG11<br>train_time=%{x}<br>max_accuracy=%{y}<br>model_layers=%{marker.size}<extra></extra>",
         "legendgroup": "VGG11",
         "marker": {
          "color": "rgb(242, 183, 1)",
          "size": [
           11
          ],
          "sizemode": "area",
          "sizeref": 0.085,
          "symbol": "circle"
         },
         "mode": "markers",
         "name": "VGG11",
         "orientation": "v",
         "selectedpoints": [
          0
         ],
         "showlegend": true,
         "type": "scatter",
         "visible": true,
         "x": [
          1926.1785368919373
         ],
         "xaxis": "x",
         "y": [
          0.9302325581395349
         ],
         "yaxis": "y"
        },
        {
         "hovertemplate": "index=VGG13<br>train_time=%{x}<br>max_accuracy=%{y}<br>model_layers=%{marker.size}<extra></extra>",
         "legendgroup": "VGG13",
         "marker": {
          "color": "rgb(231, 63, 116)",
          "size": [
           13
          ],
          "sizemode": "area",
          "sizeref": 0.085,
          "symbol": "circle"
         },
         "mode": "markers",
         "name": "VGG13",
         "orientation": "v",
         "selectedpoints": [
          0
         ],
         "showlegend": true,
         "type": "scatter",
         "x": [
          2836.8204250335693
         ],
         "xaxis": "x",
         "y": [
          0.9302325581395349
         ],
         "yaxis": "y"
        },
        {
         "hovertemplate": "index=VGG16<br>train_time=%{x}<br>max_accuracy=%{y}<br>model_layers=%{marker.size}<extra></extra>",
         "legendgroup": "VGG16",
         "marker": {
          "color": "rgb(128, 186, 90)",
          "size": [
           16
          ],
          "sizemode": "area",
          "sizeref": 0.085,
          "symbol": "circle"
         },
         "mode": "markers",
         "name": "VGG16",
         "orientation": "v",
         "selectedpoints": [
          0
         ],
         "showlegend": true,
         "type": "scatter",
         "x": [
          3454.8307690620422
         ],
         "xaxis": "x",
         "y": [
          0.9302325581395349
         ],
         "yaxis": "y"
        },
        {
         "hovertemplate": "index=VGG19<br>train_time=%{x}<br>max_accuracy=%{y}<br>model_layers=%{marker.size}<extra></extra>",
         "legendgroup": "VGG19",
         "marker": {
          "color": "rgb(230, 131, 16)",
          "size": [
           19
          ],
          "sizemode": "area",
          "sizeref": 0.085,
          "symbol": "circle"
         },
         "mode": "markers",
         "name": "VGG19",
         "orientation": "v",
         "selectedpoints": [
          0
         ],
         "showlegend": true,
         "type": "scatter",
         "x": [
          4947.522569894791
         ],
         "xaxis": "x",
         "y": [
          0.9302325581395349
         ],
         "yaxis": "y"
        },
        {
         "hovertemplate": "index=SqueezeNet1.0<br>train_time=%{x}<br>max_accuracy=%{y}<br>model_layers=%{marker.size}<extra></extra>",
         "legendgroup": "SqueezeNet1.0",
         "marker": {
          "color": "rgb(0, 134, 149)",
          "size": [
           13
          ],
          "sizemode": "area",
          "sizeref": 0.085,
          "symbol": "circle"
         },
         "mode": "markers",
         "name": "SqueezeNet1.0",
         "orientation": "v",
         "selectedpoints": [
          0
         ],
         "showlegend": true,
         "type": "scatter",
         "x": [
          1094.5165967941284
         ],
         "xaxis": "x",
         "y": [
          0.9767441860465116
         ],
         "yaxis": "y"
        }
       ],
       "layout": {
        "autosize": true,
        "dragmode": "lasso",
        "legend": {
         "itemsizing": "constant",
         "title": {
          "text": "index"
         },
         "tracegroupgap": 0
        },
        "template": {
         "data": {
          "bar": [
           {
            "error_x": {
             "color": "#2a3f5f"
            },
            "error_y": {
             "color": "#2a3f5f"
            },
            "marker": {
             "line": {
              "color": "#E5ECF6",
              "width": 0.5
             }
            },
            "type": "bar"
           }
          ],
          "barpolar": [
           {
            "marker": {
             "line": {
              "color": "#E5ECF6",
              "width": 0.5
             }
            },
            "type": "barpolar"
           }
          ],
          "carpet": [
           {
            "aaxis": {
             "endlinecolor": "#2a3f5f",
             "gridcolor": "white",
             "linecolor": "white",
             "minorgridcolor": "white",
             "startlinecolor": "#2a3f5f"
            },
            "baxis": {
             "endlinecolor": "#2a3f5f",
             "gridcolor": "white",
             "linecolor": "white",
             "minorgridcolor": "white",
             "startlinecolor": "#2a3f5f"
            },
            "type": "carpet"
           }
          ],
          "choropleth": [
           {
            "colorbar": {
             "outlinewidth": 0,
             "ticks": ""
            },
            "type": "choropleth"
           }
          ],
          "contour": [
           {
            "colorbar": {
             "outlinewidth": 0,
             "ticks": ""
            },
            "colorscale": [
             [
              0,
              "#0d0887"
             ],
             [
              0.1111111111111111,
              "#46039f"
             ],
             [
              0.2222222222222222,
              "#7201a8"
             ],
             [
              0.3333333333333333,
              "#9c179e"
             ],
             [
              0.4444444444444444,
              "#bd3786"
             ],
             [
              0.5555555555555556,
              "#d8576b"
             ],
             [
              0.6666666666666666,
              "#ed7953"
             ],
             [
              0.7777777777777778,
              "#fb9f3a"
             ],
             [
              0.8888888888888888,
              "#fdca26"
             ],
             [
              1,
              "#f0f921"
             ]
            ],
            "type": "contour"
           }
          ],
          "contourcarpet": [
           {
            "colorbar": {
             "outlinewidth": 0,
             "ticks": ""
            },
            "type": "contourcarpet"
           }
          ],
          "heatmap": [
           {
            "colorbar": {
             "outlinewidth": 0,
             "ticks": ""
            },
            "colorscale": [
             [
              0,
              "#0d0887"
             ],
             [
              0.1111111111111111,
              "#46039f"
             ],
             [
              0.2222222222222222,
              "#7201a8"
             ],
             [
              0.3333333333333333,
              "#9c179e"
             ],
             [
              0.4444444444444444,
              "#bd3786"
             ],
             [
              0.5555555555555556,
              "#d8576b"
             ],
             [
              0.6666666666666666,
              "#ed7953"
             ],
             [
              0.7777777777777778,
              "#fb9f3a"
             ],
             [
              0.8888888888888888,
              "#fdca26"
             ],
             [
              1,
              "#f0f921"
             ]
            ],
            "type": "heatmap"
           }
          ],
          "heatmapgl": [
           {
            "colorbar": {
             "outlinewidth": 0,
             "ticks": ""
            },
            "colorscale": [
             [
              0,
              "#0d0887"
             ],
             [
              0.1111111111111111,
              "#46039f"
             ],
             [
              0.2222222222222222,
              "#7201a8"
             ],
             [
              0.3333333333333333,
              "#9c179e"
             ],
             [
              0.4444444444444444,
              "#bd3786"
             ],
             [
              0.5555555555555556,
              "#d8576b"
             ],
             [
              0.6666666666666666,
              "#ed7953"
             ],
             [
              0.7777777777777778,
              "#fb9f3a"
             ],
             [
              0.8888888888888888,
              "#fdca26"
             ],
             [
              1,
              "#f0f921"
             ]
            ],
            "type": "heatmapgl"
           }
          ],
          "histogram": [
           {
            "marker": {
             "colorbar": {
              "outlinewidth": 0,
              "ticks": ""
             }
            },
            "type": "histogram"
           }
          ],
          "histogram2d": [
           {
            "colorbar": {
             "outlinewidth": 0,
             "ticks": ""
            },
            "colorscale": [
             [
              0,
              "#0d0887"
             ],
             [
              0.1111111111111111,
              "#46039f"
             ],
             [
              0.2222222222222222,
              "#7201a8"
             ],
             [
              0.3333333333333333,
              "#9c179e"
             ],
             [
              0.4444444444444444,
              "#bd3786"
             ],
             [
              0.5555555555555556,
              "#d8576b"
             ],
             [
              0.6666666666666666,
              "#ed7953"
             ],
             [
              0.7777777777777778,
              "#fb9f3a"
             ],
             [
              0.8888888888888888,
              "#fdca26"
             ],
             [
              1,
              "#f0f921"
             ]
            ],
            "type": "histogram2d"
           }
          ],
          "histogram2dcontour": [
           {
            "colorbar": {
             "outlinewidth": 0,
             "ticks": ""
            },
            "colorscale": [
             [
              0,
              "#0d0887"
             ],
             [
              0.1111111111111111,
              "#46039f"
             ],
             [
              0.2222222222222222,
              "#7201a8"
             ],
             [
              0.3333333333333333,
              "#9c179e"
             ],
             [
              0.4444444444444444,
              "#bd3786"
             ],
             [
              0.5555555555555556,
              "#d8576b"
             ],
             [
              0.6666666666666666,
              "#ed7953"
             ],
             [
              0.7777777777777778,
              "#fb9f3a"
             ],
             [
              0.8888888888888888,
              "#fdca26"
             ],
             [
              1,
              "#f0f921"
             ]
            ],
            "type": "histogram2dcontour"
           }
          ],
          "mesh3d": [
           {
            "colorbar": {
             "outlinewidth": 0,
             "ticks": ""
            },
            "type": "mesh3d"
           }
          ],
          "parcoords": [
           {
            "line": {
             "colorbar": {
              "outlinewidth": 0,
              "ticks": ""
             }
            },
            "type": "parcoords"
           }
          ],
          "pie": [
           {
            "automargin": true,
            "type": "pie"
           }
          ],
          "scatter": [
           {
            "marker": {
             "colorbar": {
              "outlinewidth": 0,
              "ticks": ""
             }
            },
            "type": "scatter"
           }
          ],
          "scatter3d": [
           {
            "line": {
             "colorbar": {
              "outlinewidth": 0,
              "ticks": ""
             }
            },
            "marker": {
             "colorbar": {
              "outlinewidth": 0,
              "ticks": ""
             }
            },
            "type": "scatter3d"
           }
          ],
          "scattercarpet": [
           {
            "marker": {
             "colorbar": {
              "outlinewidth": 0,
              "ticks": ""
             }
            },
            "type": "scattercarpet"
           }
          ],
          "scattergeo": [
           {
            "marker": {
             "colorbar": {
              "outlinewidth": 0,
              "ticks": ""
             }
            },
            "type": "scattergeo"
           }
          ],
          "scattergl": [
           {
            "marker": {
             "colorbar": {
              "outlinewidth": 0,
              "ticks": ""
             }
            },
            "type": "scattergl"
           }
          ],
          "scattermapbox": [
           {
            "marker": {
             "colorbar": {
              "outlinewidth": 0,
              "ticks": ""
             }
            },
            "type": "scattermapbox"
           }
          ],
          "scatterpolar": [
           {
            "marker": {
             "colorbar": {
              "outlinewidth": 0,
              "ticks": ""
             }
            },
            "type": "scatterpolar"
           }
          ],
          "scatterpolargl": [
           {
            "marker": {
             "colorbar": {
              "outlinewidth": 0,
              "ticks": ""
             }
            },
            "type": "scatterpolargl"
           }
          ],
          "scatterternary": [
           {
            "marker": {
             "colorbar": {
              "outlinewidth": 0,
              "ticks": ""
             }
            },
            "type": "scatterternary"
           }
          ],
          "surface": [
           {
            "colorbar": {
             "outlinewidth": 0,
             "ticks": ""
            },
            "colorscale": [
             [
              0,
              "#0d0887"
             ],
             [
              0.1111111111111111,
              "#46039f"
             ],
             [
              0.2222222222222222,
              "#7201a8"
             ],
             [
              0.3333333333333333,
              "#9c179e"
             ],
             [
              0.4444444444444444,
              "#bd3786"
             ],
             [
              0.5555555555555556,
              "#d8576b"
             ],
             [
              0.6666666666666666,
              "#ed7953"
             ],
             [
              0.7777777777777778,
              "#fb9f3a"
             ],
             [
              0.8888888888888888,
              "#fdca26"
             ],
             [
              1,
              "#f0f921"
             ]
            ],
            "type": "surface"
           }
          ],
          "table": [
           {
            "cells": {
             "fill": {
              "color": "#EBF0F8"
             },
             "line": {
              "color": "white"
             }
            },
            "header": {
             "fill": {
              "color": "#C8D4E3"
             },
             "line": {
              "color": "white"
             }
            },
            "type": "table"
           }
          ]
         },
         "layout": {
          "annotationdefaults": {
           "arrowcolor": "#2a3f5f",
           "arrowhead": 0,
           "arrowwidth": 1
          },
          "coloraxis": {
           "colorbar": {
            "outlinewidth": 0,
            "ticks": ""
           }
          },
          "colorscale": {
           "diverging": [
            [
             0,
             "#8e0152"
            ],
            [
             0.1,
             "#c51b7d"
            ],
            [
             0.2,
             "#de77ae"
            ],
            [
             0.3,
             "#f1b6da"
            ],
            [
             0.4,
             "#fde0ef"
            ],
            [
             0.5,
             "#f7f7f7"
            ],
            [
             0.6,
             "#e6f5d0"
            ],
            [
             0.7,
             "#b8e186"
            ],
            [
             0.8,
             "#7fbc41"
            ],
            [
             0.9,
             "#4d9221"
            ],
            [
             1,
             "#276419"
            ]
           ],
           "sequential": [
            [
             0,
             "#0d0887"
            ],
            [
             0.1111111111111111,
             "#46039f"
            ],
            [
             0.2222222222222222,
             "#7201a8"
            ],
            [
             0.3333333333333333,
             "#9c179e"
            ],
            [
             0.4444444444444444,
             "#bd3786"
            ],
            [
             0.5555555555555556,
             "#d8576b"
            ],
            [
             0.6666666666666666,
             "#ed7953"
            ],
            [
             0.7777777777777778,
             "#fb9f3a"
            ],
            [
             0.8888888888888888,
             "#fdca26"
            ],
            [
             1,
             "#f0f921"
            ]
           ],
           "sequentialminus": [
            [
             0,
             "#0d0887"
            ],
            [
             0.1111111111111111,
             "#46039f"
            ],
            [
             0.2222222222222222,
             "#7201a8"
            ],
            [
             0.3333333333333333,
             "#9c179e"
            ],
            [
             0.4444444444444444,
             "#bd3786"
            ],
            [
             0.5555555555555556,
             "#d8576b"
            ],
            [
             0.6666666666666666,
             "#ed7953"
            ],
            [
             0.7777777777777778,
             "#fb9f3a"
            ],
            [
             0.8888888888888888,
             "#fdca26"
            ],
            [
             1,
             "#f0f921"
            ]
           ]
          },
          "colorway": [
           "#636efa",
           "#EF553B",
           "#00cc96",
           "#ab63fa",
           "#FFA15A",
           "#19d3f3",
           "#FF6692",
           "#B6E880",
           "#FF97FF",
           "#FECB52"
          ],
          "font": {
           "color": "#2a3f5f"
          },
          "geo": {
           "bgcolor": "white",
           "lakecolor": "white",
           "landcolor": "#E5ECF6",
           "showlakes": true,
           "showland": true,
           "subunitcolor": "white"
          },
          "hoverlabel": {
           "align": "left"
          },
          "hovermode": "closest",
          "mapbox": {
           "style": "light"
          },
          "paper_bgcolor": "white",
          "plot_bgcolor": "#E5ECF6",
          "polar": {
           "angularaxis": {
            "gridcolor": "white",
            "linecolor": "white",
            "ticks": ""
           },
           "bgcolor": "#E5ECF6",
           "radialaxis": {
            "gridcolor": "white",
            "linecolor": "white",
            "ticks": ""
           }
          },
          "scene": {
           "xaxis": {
            "backgroundcolor": "#E5ECF6",
            "gridcolor": "white",
            "gridwidth": 2,
            "linecolor": "white",
            "showbackground": true,
            "ticks": "",
            "zerolinecolor": "white"
           },
           "yaxis": {
            "backgroundcolor": "#E5ECF6",
            "gridcolor": "white",
            "gridwidth": 2,
            "linecolor": "white",
            "showbackground": true,
            "ticks": "",
            "zerolinecolor": "white"
           },
           "zaxis": {
            "backgroundcolor": "#E5ECF6",
            "gridcolor": "white",
            "gridwidth": 2,
            "linecolor": "white",
            "showbackground": true,
            "ticks": "",
            "zerolinecolor": "white"
           }
          },
          "shapedefaults": {
           "line": {
            "color": "#2a3f5f"
           }
          },
          "ternary": {
           "aaxis": {
            "gridcolor": "white",
            "linecolor": "white",
            "ticks": ""
           },
           "baxis": {
            "gridcolor": "white",
            "linecolor": "white",
            "ticks": ""
           },
           "bgcolor": "#E5ECF6",
           "caxis": {
            "gridcolor": "white",
            "linecolor": "white",
            "ticks": ""
           }
          },
          "title": {
           "x": 0.05
          },
          "xaxis": {
           "automargin": true,
           "gridcolor": "white",
           "linecolor": "white",
           "ticks": "",
           "title": {
            "standoff": 15
           },
           "zerolinecolor": "white",
           "zerolinewidth": 2
          },
          "yaxis": {
           "automargin": true,
           "gridcolor": "white",
           "linecolor": "white",
           "ticks": "",
           "title": {
            "standoff": 15
           },
           "zerolinecolor": "white",
           "zerolinewidth": 2
          }
         }
        },
        "title": {
         "text": "Comparison of Out-of-Box Models"
        },
        "xaxis": {
         "anchor": "y",
         "autorange": false,
         "domain": [
          0,
          1
         ],
         "range": [
          410.0257305031996,
          5254.521817798446
         ],
         "title": {
          "text": "train_time"
         },
         "type": "linear"
        },
        "yaxis": {
         "anchor": "x",
         "autorange": false,
         "domain": [
          0,
          1
         ],
         "range": [
          0.924913480610432,
          0.9816341192817561
         ],
         "title": {
          "text": "max_accuracy"
         },
         "type": "linear"
        }
       }
      },
      "image/png": "[encoded data removed]",
      "text/html": [
       "<div>                            <div id=\"7a04455d-760d-42d9-b564-348fef6d8916\" class=\"plotly-graph-div\" style=\"height:525px; width:100%;\"></div>            <script type=\"text/javascript\">                require([\"plotly\"], function(Plotly) {                    window.PLOTLYENV=window.PLOTLYENV || {};                                    if (document.getElementById(\"7a04455d-760d-42d9-b564-348fef6d8916\")) {                    Plotly.newPlot(                        \"7a04455d-760d-42d9-b564-348fef6d8916\",                        [{\"hovertemplate\": \"index=ResNet18<br>train_time=%{x}<br>max_accuracy=%{y}<br>model_layers=%{marker.size}<extra></extra>\", \"legendgroup\": \"ResNet18\", \"marker\": {\"color\": \"rgb(127, 60, 141)\", \"size\": [18], \"sizemode\": \"area\", \"sizeref\": 0.085, \"symbol\": \"circle\"}, \"mode\": \"markers\", \"name\": \"ResNet18\", \"orientation\": \"v\", \"showlegend\": true, \"type\": \"scatter\", \"x\": [1049.8626110553741], \"xaxis\": \"x\", \"y\": [0.9534883720930233], \"yaxis\": \"y\"}, {\"hovertemplate\": \"index=ResNet34<br>train_time=%{x}<br>max_accuracy=%{y}<br>model_layers=%{marker.size}<extra></extra>\", \"legendgroup\": \"ResNet34\", \"marker\": {\"color\": \"rgb(17, 165, 121)\", \"size\": [34], \"sizemode\": \"area\", \"sizeref\": 0.085, \"symbol\": \"circle\"}, \"mode\": \"markers\", \"name\": \"ResNet34\", \"orientation\": \"v\", \"showlegend\": true, \"type\": \"scatter\", \"x\": [1222.5414361953735], \"xaxis\": \"x\", \"y\": [0.9534883720930233], \"yaxis\": \"y\"}, {\"hovertemplate\": \"index=AlexNet<br>train_time=%{x}<br>max_accuracy=%{y}<br>model_layers=%{marker.size}<extra></extra>\", \"legendgroup\": \"AlexNet\", \"marker\": {\"color\": \"rgb(57, 105, 172)\", \"size\": [8], \"sizemode\": \"area\", \"sizeref\": 0.085, \"symbol\": \"circle\"}, \"mode\": \"markers\", \"name\": \"AlexNet\", \"orientation\": \"v\", \"showlegend\": true, \"type\": \"scatter\", \"x\": [694.2817440032959], \"xaxis\": \"x\", \"y\": [0.9534883720930233], \"yaxis\": \"y\"}, {\"hovertemplate\": \"index=VGG11<br>train_time=%{x}<br>max_accuracy=%{y}<br>model_layers=%{marker.size}<extra></extra>\", \"legendgroup\": \"VGG11\", \"marker\": {\"color\": \"rgb(242, 183, 1)\", \"size\": [11], \"sizemode\": \"area\", \"sizeref\": 0.085, \"symbol\": \"circle\"}, \"mode\": \"markers\", \"name\": \"VGG11\", \"orientation\": \"v\", \"showlegend\": true, \"type\": \"scatter\", \"x\": [1926.1785368919373], \"xaxis\": \"x\", \"y\": [0.9302325581395349], \"yaxis\": \"y\"}, {\"hovertemplate\": \"index=VGG13<br>train_time=%{x}<br>max_accuracy=%{y}<br>model_layers=%{marker.size}<extra></extra>\", \"legendgroup\": \"VGG13\", \"marker\": {\"color\": \"rgb(231, 63, 116)\", \"size\": [13], \"sizemode\": \"area\", \"sizeref\": 0.085, \"symbol\": \"circle\"}, \"mode\": \"markers\", \"name\": \"VGG13\", \"orientation\": \"v\", \"showlegend\": true, \"type\": \"scatter\", \"x\": [2836.8204250335693], \"xaxis\": \"x\", \"y\": [0.9302325581395349], \"yaxis\": \"y\"}, {\"hovertemplate\": \"index=VGG16<br>train_time=%{x}<br>max_accuracy=%{y}<br>model_layers=%{marker.size}<extra></extra>\", \"legendgroup\": \"VGG16\", \"marker\": {\"color\": \"rgb(128, 186, 90)\", \"size\": [16], \"sizemode\": \"area\", \"sizeref\": 0.085, \"symbol\": \"circle\"}, \"mode\": \"markers\", \"name\": \"VGG16\", \"orientation\": \"v\", \"showlegend\": true, \"type\": \"scatter\", \"x\": [3454.8307690620422], \"xaxis\": \"x\", \"y\": [0.9302325581395349], \"yaxis\": \"y\"}, {\"hovertemplate\": \"index=VGG19<br>train_time=%{x}<br>max_accuracy=%{y}<br>model_layers=%{marker.size}<extra></extra>\", \"legendgroup\": \"VGG19\", \"marker\": {\"color\": \"rgb(230, 131, 16)\", \"size\": [19], \"sizemode\": \"area\", \"sizeref\": 0.085, \"symbol\": \"circle\"}, \"mode\": \"markers\", \"name\": \"VGG19\", \"orientation\": \"v\", \"showlegend\": true, \"type\": \"scatter\", \"x\": [4947.522569894791], \"xaxis\": \"x\", \"y\": [0.9302325581395349], \"yaxis\": \"y\"}, {\"hovertemplate\": \"index=SqueezeNet1.0<br>train_time=%{x}<br>max_accuracy=%{y}<br>model_layers=%{marker.size}<extra></extra>\", \"legendgroup\": \"SqueezeNet1.0\", \"marker\": {\"color\": \"rgb(0, 134, 149)\", \"size\": [13], \"sizemode\": \"area\", \"sizeref\": 0.085, \"symbol\": \"circle\"}, \"mode\": \"markers\", \"name\": \"SqueezeNet1.0\", \"orientation\": \"v\", \"showlegend\": true, \"type\": \"scatter\", \"x\": [1094.5165967941284], \"xaxis\": \"x\", \"y\": [0.9767441860465116], \"yaxis\": \"y\"}],                        {\"legend\": {\"itemsizing\": \"constant\", \"title\": {\"text\": \"index\"}, \"tracegroupgap\": 0}, \"template\": {\"data\": {\"bar\": [{\"error_x\": {\"color\": \"#2a3f5f\"}, \"error_y\": {\"color\": \"#2a3f5f\"}, \"marker\": {\"line\": {\"color\": \"#E5ECF6\", \"width\": 0.5}}, \"type\": \"bar\"}], \"barpolar\": [{\"marker\": {\"line\": {\"color\": \"#E5ECF6\", \"width\": 0.5}}, \"type\": \"barpolar\"}], \"carpet\": [{\"aaxis\": {\"endlinecolor\": \"#2a3f5f\", \"gridcolor\": \"white\", \"linecolor\": \"white\", \"minorgridcolor\": \"white\", \"startlinecolor\": \"#2a3f5f\"}, \"baxis\": {\"endlinecolor\": \"#2a3f5f\", \"gridcolor\": \"white\", \"linecolor\": \"white\", \"minorgridcolor\": \"white\", \"startlinecolor\": \"#2a3f5f\"}, \"type\": \"carpet\"}], \"choropleth\": [{\"colorbar\": {\"outlinewidth\": 0, \"ticks\": \"\"}, \"type\": \"choropleth\"}], \"contour\": [{\"colorbar\": {\"outlinewidth\": 0, \"ticks\": \"\"}, \"colorscale\": [[0.0, \"#0d0887\"], [0.1111111111111111, \"#46039f\"], [0.2222222222222222, \"#7201a8\"], [0.3333333333333333, \"#9c179e\"], [0.4444444444444444, \"#bd3786\"], [0.5555555555555556, \"#d8576b\"], [0.6666666666666666, \"#ed7953\"], [0.7777777777777778, \"#fb9f3a\"], [0.8888888888888888, \"#fdca26\"], [1.0, \"#f0f921\"]], \"type\": \"contour\"}], \"contourcarpet\": [{\"colorbar\": {\"outlinewidth\": 0, \"ticks\": \"\"}, \"type\": \"contourcarpet\"}], \"heatmap\": [{\"colorbar\": {\"outlinewidth\": 0, \"ticks\": \"\"}, \"colorscale\": [[0.0, \"#0d0887\"], [0.1111111111111111, \"#46039f\"], [0.2222222222222222, \"#7201a8\"], [0.3333333333333333, \"#9c179e\"], [0.4444444444444444, \"#bd3786\"], [0.5555555555555556, \"#d8576b\"], [0.6666666666666666, \"#ed7953\"], [0.7777777777777778, \"#fb9f3a\"], [0.8888888888888888, \"#fdca26\"], [1.0, \"#f0f921\"]], \"type\": \"heatmap\"}], \"heatmapgl\": [{\"colorbar\": {\"outlinewidth\": 0, \"ticks\": \"\"}, \"colorscale\": [[0.0, \"#0d0887\"], [0.1111111111111111, \"#46039f\"], [0.2222222222222222, \"#7201a8\"], [0.3333333333333333, \"#9c179e\"], [0.4444444444444444, \"#bd3786\"], [0.5555555555555556, \"#d8576b\"], [0.6666666666666666, \"#ed7953\"], [0.7777777777777778, \"#fb9f3a\"], [0.8888888888888888, \"#fdca26\"], [1.0, \"#f0f921\"]], \"type\": \"heatmapgl\"}], \"histogram\": [{\"marker\": {\"colorbar\": {\"outlinewidth\": 0, \"ticks\": \"\"}}, \"type\": \"histogram\"}], \"histogram2d\": [{\"colorbar\": {\"outlinewidth\": 0, \"ticks\": \"\"}, \"colorscale\": [[0.0, \"#0d0887\"], [0.1111111111111111, \"#46039f\"], [0.2222222222222222, \"#7201a8\"], [0.3333333333333333, \"#9c179e\"], [0.4444444444444444, \"#bd3786\"], [0.5555555555555556, \"#d8576b\"], [0.6666666666666666, \"#ed7953\"], [0.7777777777777778, \"#fb9f3a\"], [0.8888888888888888, \"#fdca26\"], [1.0, \"#f0f921\"]], \"type\": \"histogram2d\"}], \"histogram2dcontour\": [{\"colorbar\": {\"outlinewidth\": 0, \"ticks\": \"\"}, \"colorscale\": [[0.0, \"#0d0887\"], [0.1111111111111111, \"#46039f\"], [0.2222222222222222, \"#7201a8\"], [0.3333333333333333, \"#9c179e\"], [0.4444444444444444, \"#bd3786\"], [0.5555555555555556, \"#d8576b\"], [0.6666666666666666, \"#ed7953\"], [0.7777777777777778, \"#fb9f3a\"], [0.8888888888888888, \"#fdca26\"], [1.0, \"#f0f921\"]], \"type\": \"histogram2dcontour\"}], \"mesh3d\": [{\"colorbar\": {\"outlinewidth\": 0, \"ticks\": \"\"}, \"type\": \"mesh3d\"}], \"parcoords\": [{\"line\": {\"colorbar\": {\"outlinewidth\": 0, \"ticks\": \"\"}}, \"type\": \"parcoords\"}], \"pie\": [{\"automargin\": true, \"type\": \"pie\"}], \"scatter\": [{\"marker\": {\"colorbar\": {\"outlinewidth\": 0, \"ticks\": \"\"}}, \"type\": \"scatter\"}], \"scatter3d\": [{\"line\": {\"colorbar\": {\"outlinewidth\": 0, \"ticks\": \"\"}}, \"marker\": {\"colorbar\": {\"outlinewidth\": 0, \"ticks\": \"\"}}, \"type\": \"scatter3d\"}], \"scattercarpet\": [{\"marker\": {\"colorbar\": {\"outlinewidth\": 0, \"ticks\": \"\"}}, \"type\": \"scattercarpet\"}], \"scattergeo\": [{\"marker\": {\"colorbar\": {\"outlinewidth\": 0, \"ticks\": \"\"}}, \"type\": \"scattergeo\"}], \"scattergl\": [{\"marker\": {\"colorbar\": {\"outlinewidth\": 0, \"ticks\": \"\"}}, \"type\": \"scattergl\"}], \"scattermapbox\": [{\"marker\": {\"colorbar\": {\"outlinewidth\": 0, \"ticks\": \"\"}}, \"type\": \"scattermapbox\"}], \"scatterpolar\": [{\"marker\": {\"colorbar\": {\"outlinewidth\": 0, \"ticks\": \"\"}}, \"type\": \"scatterpolar\"}], \"scatterpolargl\": [{\"marker\": {\"colorbar\": {\"outlinewidth\": 0, \"ticks\": \"\"}}, \"type\": \"scatterpolargl\"}], \"scatterternary\": [{\"marker\": {\"colorbar\": {\"outlinewidth\": 0, \"ticks\": \"\"}}, \"type\": \"scatterternary\"}], \"surface\": [{\"colorbar\": {\"outlinewidth\": 0, \"ticks\": \"\"}, \"colorscale\": [[0.0, \"#0d0887\"], [0.1111111111111111, \"#46039f\"], [0.2222222222222222, \"#7201a8\"], [0.3333333333333333, \"#9c179e\"], [0.4444444444444444, \"#bd3786\"], [0.5555555555555556, \"#d8576b\"], [0.6666666666666666, \"#ed7953\"], [0.7777777777777778, \"#fb9f3a\"], [0.8888888888888888, \"#fdca26\"], [1.0, \"#f0f921\"]], \"type\": \"surface\"}], \"table\": [{\"cells\": {\"fill\": {\"color\": \"#EBF0F8\"}, \"line\": {\"color\": \"white\"}}, \"header\": {\"fill\": {\"color\": \"#C8D4E3\"}, \"line\": {\"color\": \"white\"}}, \"type\": \"table\"}]}, \"layout\": {\"annotationdefaults\": {\"arrowcolor\": \"#2a3f5f\", \"arrowhead\": 0, \"arrowwidth\": 1}, \"coloraxis\": {\"colorbar\": {\"outlinewidth\": 0, \"ticks\": \"\"}}, \"colorscale\": {\"diverging\": [[0, \"#8e0152\"], [0.1, \"#c51b7d\"], [0.2, \"#de77ae\"], [0.3, \"#f1b6da\"], [0.4, \"#fde0ef\"], [0.5, \"#f7f7f7\"], [0.6, \"#e6f5d0\"], [0.7, \"#b8e186\"], [0.8, \"#7fbc41\"], [0.9, \"#4d9221\"], [1, \"#276419\"]], \"sequential\": [[0.0, \"#0d0887\"], [0.1111111111111111, \"#46039f\"], [0.2222222222222222, \"#7201a8\"], [0.3333333333333333, \"#9c179e\"], [0.4444444444444444, \"#bd3786\"], [0.5555555555555556, \"#d8576b\"], [0.6666666666666666, \"#ed7953\"], [0.7777777777777778, \"#fb9f3a\"], [0.8888888888888888, \"#fdca26\"], [1.0, \"#f0f921\"]], \"sequentialminus\": [[0.0, \"#0d0887\"], [0.1111111111111111, \"#46039f\"], [0.2222222222222222, \"#7201a8\"], [0.3333333333333333, \"#9c179e\"], [0.4444444444444444, \"#bd3786\"], [0.5555555555555556, \"#d8576b\"], [0.6666666666666666, \"#ed7953\"], [0.7777777777777778, \"#fb9f3a\"], [0.8888888888888888, \"#fdca26\"], [1.0, \"#f0f921\"]]}, \"colorway\": [\"#636efa\", \"#EF553B\", \"#00cc96\", \"#ab63fa\", \"#FFA15A\", \"#19d3f3\", \"#FF6692\", \"#B6E880\", \"#FF97FF\", \"#FECB52\"], \"font\": {\"color\": \"#2a3f5f\"}, \"geo\": {\"bgcolor\": \"white\", \"lakecolor\": \"white\", \"landcolor\": \"#E5ECF6\", \"showlakes\": true, \"showland\": true, \"subunitcolor\": \"white\"}, \"hoverlabel\": {\"align\": \"left\"}, \"hovermode\": \"closest\", \"mapbox\": {\"style\": \"light\"}, \"paper_bgcolor\": \"white\", \"plot_bgcolor\": \"#E5ECF6\", \"polar\": {\"angularaxis\": {\"gridcolor\": \"white\", \"linecolor\": \"white\", \"ticks\": \"\"}, \"bgcolor\": \"#E5ECF6\", \"radialaxis\": {\"gridcolor\": \"white\", \"linecolor\": \"white\", \"ticks\": \"\"}}, \"scene\": {\"xaxis\": {\"backgroundcolor\": \"#E5ECF6\", \"gridcolor\": \"white\", \"gridwidth\": 2, \"linecolor\": \"white\", \"showbackground\": true, \"ticks\": \"\", \"zerolinecolor\": \"white\"}, \"yaxis\": {\"backgroundcolor\": \"#E5ECF6\", \"gridcolor\": \"white\", \"gridwidth\": 2, \"linecolor\": \"white\", \"showbackground\": true, \"ticks\": \"\", \"zerolinecolor\": \"white\"}, \"zaxis\": {\"backgroundcolor\": \"#E5ECF6\", \"gridcolor\": \"white\", \"gridwidth\": 2, \"linecolor\": \"white\", \"showbackground\": true, \"ticks\": \"\", \"zerolinecolor\": \"white\"}}, \"shapedefaults\": {\"line\": {\"color\": \"#2a3f5f\"}}, \"ternary\": {\"aaxis\": {\"gridcolor\": \"white\", \"linecolor\": \"white\", \"ticks\": \"\"}, \"baxis\": {\"gridcolor\": \"white\", \"linecolor\": \"white\", \"ticks\": \"\"}, \"bgcolor\": \"#E5ECF6\", \"caxis\": {\"gridcolor\": \"white\", \"linecolor\": \"white\", \"ticks\": \"\"}}, \"title\": {\"x\": 0.05}, \"xaxis\": {\"automargin\": true, \"gridcolor\": \"white\", \"linecolor\": \"white\", \"ticks\": \"\", \"title\": {\"standoff\": 15}, \"zerolinecolor\": \"white\", \"zerolinewidth\": 2}, \"yaxis\": {\"automargin\": true, \"gridcolor\": \"white\", \"linecolor\": \"white\", \"ticks\": \"\", \"title\": {\"standoff\": 15}, \"zerolinecolor\": \"white\", \"zerolinewidth\": 2}}}, \"title\": {\"text\": \"Comparison of Out-of-Box Models\"}, \"xaxis\": {\"anchor\": \"y\", \"domain\": [0.0, 1.0], \"title\": {\"text\": \"train_time\"}}, \"yaxis\": {\"anchor\": \"x\", \"domain\": [0.0, 1.0], \"title\": {\"text\": \"max_accuracy\"}}},                        {\"responsive\": true}                    ).then(function(){\n",
       "                            \n",
       "var gd = document.getElementById('7a04455d-760d-42d9-b564-348fef6d8916');\n",
       "var x = new MutationObserver(function (mutations, observer) {{\n",
       "        var display = window.getComputedStyle(gd).display;\n",
       "        if (!display || display === 'none') {{\n",
       "            console.log([gd, 'removed!']);\n",
       "            Plotly.purge(gd);\n",
       "            observer.disconnect();\n",
       "        }}\n",
       "}});\n",
       "\n",
       "// Listen for the removal of the full notebook cells\n",
       "var notebookContainer = gd.closest('#notebook-container');\n",
       "if (notebookContainer) {{\n",
       "    x.observe(notebookContainer, {childList: true});\n",
       "}}\n",
       "\n",
       "// Listen for the clearing of the current output cell\n",
       "var outputEl = gd.closest('.output');\n",
       "if (outputEl) {{\n",
       "    x.observe(outputEl, {childList: true});\n",
       "}}\n",
       "\n",
       "                        })                };                });            </script>        </div>"
      ]
     },
     "metadata": {},
     "output_type": "display_data"
    }
   ],
   "source": [
    "plot_graphs(model_train_time, model_acc, model_layers)"
   ]
  },
  {
   "cell_type": "markdown",
   "metadata": {},
   "source": [
    "## Confusion Matrix Comparision of Selected Models\n",
    "- create a confusion matrix for models shown to have high potential above\n",
    "- compare to select final model"
   ]
  },
  {
   "cell_type": "code",
   "execution_count": 32,
   "metadata": {},
   "outputs": [],
   "source": [
    "@torch.no_grad()\n",
    "def get_all_predictions(model, loader):\n",
    "    \"\"\"Function to obtain a tensor of all predictions made by the model\n",
    "    INPUTS - model, loader (batches of 1)\n",
    "    OUTPUTS - predictions, tensor of predictions, labels, tensor of targets\"\"\"\n",
    "    predictions = torch.tensor([])\n",
    "    targets = torch.tensor([])\n",
    "    for batch in loader:\n",
    "        images, labels = batch\n",
    "        \n",
    "        pred = model(images)\n",
    "        predictions = torch.cat((predictions, pred), dim=0)\n",
    "    return predictions, labels"
   ]
  },
  {
   "cell_type": "code",
   "execution_count": 33,
   "metadata": {},
   "outputs": [],
   "source": [
    "def get_num_correct(predictions, target):\n",
    "    \"\"\"determines the number of correct predictions made by the model\n",
    "    INPUTS predictions, target\n",
    "    RETURNS number correct\n",
    "    \"\"\"\n",
    "    return predictions.argmax(dim=1).eq(target).sum().item()"
   ]
  },
  {
   "cell_type": "code",
   "execution_count": 71,
   "metadata": {},
   "outputs": [],
   "source": [
    "def get_confusion_matrix_vals(model):\n",
    "    \"\"\"returns values for confusion matrix\n",
    "    INPUTS model\n",
    "    RETURNS cm, list of confusion matrix values\"\"\"\n",
    "    with torch.no_grad():\n",
    "        prediction_loader = torch.utils.data.DataLoader(image_datasets['val'], batch_size=10000)\n",
    "        predictions, target = get_all_predictions(model, prediction_loader)\n",
    "    preds = predictions.argmax(dim=1)\n",
    "    stacked = torch.stack((target, preds),dim=1)\n",
    "    cfm = torch.zeros(4,4, dtype=torch.int64)\n",
    "    for s in stacked:\n",
    "        tl, pl = s.tolist()\n",
    "        cfm[tl, pl] = cfm[tl, pl] + 1\n",
    "    cm = [[cfm[1][1], cfm[1][2], cfm[1][3]],[cfm[2][1], cfm[2][2], cfm[2][3]],[cfm[3][1], cfm[3][2], cfm[3][3]]]\n",
    "    \n",
    "    return cm"
   ]
  },
  {
   "cell_type": "code",
   "execution_count": 72,
   "metadata": {},
   "outputs": [
    {
     "data": {
      "text/plain": [
       "[[tensor(13), tensor(1), tensor(1)],\n",
       " [tensor(1), tensor(12), tensor(0)],\n",
       " [tensor(2), tensor(1), tensor(12)]]"
      ]
     },
     "execution_count": 72,
     "metadata": {},
     "output_type": "execute_result"
    }
   ],
   "source": [
    "get_confusion_matrix_vals(model_alex)"
   ]
  },
  {
   "cell_type": "code",
   "execution_count": 73,
   "metadata": {},
   "outputs": [
    {
     "data": {
      "text/plain": [
       "[[tensor(14), tensor(0), tensor(1)],\n",
       " [tensor(0), tensor(12), tensor(1)],\n",
       " [tensor(1), tensor(0), tensor(14)]]"
      ]
     },
     "execution_count": 73,
     "metadata": {},
     "output_type": "execute_result"
    }
   ],
   "source": [
    "get_confusion_matrix_vals(model_res18)"
   ]
  },
  {
   "cell_type": "code",
   "execution_count": 75,
   "metadata": {},
   "outputs": [
    {
     "data": {
      "text/plain": [
       "[[tensor(12), tensor(2), tensor(1)],\n",
       " [tensor(1), tensor(11), tensor(1)],\n",
       " [tensor(1), tensor(0), tensor(14)]]"
      ]
     },
     "execution_count": 75,
     "metadata": {},
     "output_type": "execute_result"
    }
   ],
   "source": [
    "get_confusion_matrix_vals(model_squeeze)"
   ]
  },
  {
   "cell_type": "code",
   "execution_count": null,
   "metadata": {},
   "outputs": [],
   "source": []
  }
 ],
 "metadata": {
  "kernelspec": {
   "display_name": "Python 3",
   "language": "python",
   "name": "python3"
  },
  "language_info": {
   "codemirror_mode": {
    "name": "ipython",
    "version": 3
   },
   "file_extension": ".py",
   "mimetype": "text/x-python",
   "name": "python",
   "nbconvert_exporter": "python",
   "pygments_lexer": "ipython3",
   "version": "3.8.3"
  }
 },
 "nbformat": 4,
 "nbformat_minor": 4
}
